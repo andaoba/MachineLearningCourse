{
 "cells": [
  {
   "cell_type": "markdown",
   "metadata": {},
   "source": [
    "# Exercise 6\n",
    "***Andrés Mauricio Obando Acevedo***\n",
    "\n",
    "## SVM & Regularization\n",
    "\n",
    "\n",
    "For this homework we consider a set of observations on a number of red and white wine varieties involving their chemical properties and ranking by tasters. Wine industry shows a recent growth spurt as social drinking is on the rise. The price of wine depends on a rather abstract concept of wine appreciation by wine tasters, opinion among whom may have a high degree of variability. Pricing of wine depends on such a volatile factor to some extent. Another key factor in wine certification and quality assessment is physicochemical tests which are laboratory-based and takes into account factors like acidity, pH level, presence of sugar and other chemical properties. For the wine market, it would be of interest if human quality of tasting can be related to the chemical properties of wine so that certification and quality assessment and assurance process is more controlled.\n",
    "\n",
    "Two datasets are available of which one dataset is on red wine and have 1599 different varieties and the other is on white wine and have 4898 varieties. All wines are produced in a particular area of Portugal. Data are collected on 12 different properties of the wines one of which is Quality, based on sensory data, and the rest are on chemical properties of the wines including density, acidity, alcohol content etc. All chemical properties of wines are continuous variables. Quality is an ordinal variable with possible ranking from 1 (worst) to 10 (best). Each variety of wine is tasted by three independent tasters and the final rank assigned is the median rank given by the tasters.\n",
    "\n",
    "A predictive model developed on this data is expected to provide guidance to vineyards regarding quality and price expected on their produce without heavy reliance on volatility of wine tasters."
   ]
  },
  {
   "cell_type": "code",
   "execution_count": 2,
   "metadata": {},
   "outputs": [],
   "source": [
    "import pandas as pd\n",
    "import numpy as np"
   ]
  },
  {
   "cell_type": "code",
   "execution_count": 3,
   "metadata": {},
   "outputs": [],
   "source": [
    "data_r = pd.read_csv('https://github.com/albahnsen/PracticalMachineLearningClass/raw/master/datasets/Wine_data_red.csv')\n",
    "data_w = pd.read_csv('https://github.com/albahnsen/PracticalMachineLearningClass/raw/master/datasets/Wine_data_white.csv')"
   ]
  },
  {
   "cell_type": "code",
   "execution_count": 4,
   "metadata": {},
   "outputs": [
    {
     "data": {
      "text/html": [
       "<div>\n",
       "<style scoped>\n",
       "    .dataframe tbody tr th:only-of-type {\n",
       "        vertical-align: middle;\n",
       "    }\n",
       "\n",
       "    .dataframe tbody tr th {\n",
       "        vertical-align: top;\n",
       "    }\n",
       "\n",
       "    .dataframe thead th {\n",
       "        text-align: right;\n",
       "    }\n",
       "</style>\n",
       "<table border=\"1\" class=\"dataframe\">\n",
       "  <thead>\n",
       "    <tr style=\"text-align: right;\">\n",
       "      <th></th>\n",
       "      <th>fixed acidity</th>\n",
       "      <th>volatile acidity</th>\n",
       "      <th>citric acid</th>\n",
       "      <th>residual sugar</th>\n",
       "      <th>chlorides</th>\n",
       "      <th>free sulfur dioxide</th>\n",
       "      <th>total sulfur dioxide</th>\n",
       "      <th>density</th>\n",
       "      <th>pH</th>\n",
       "      <th>sulphates</th>\n",
       "      <th>alcohol</th>\n",
       "      <th>quality</th>\n",
       "      <th>type</th>\n",
       "    </tr>\n",
       "  </thead>\n",
       "  <tbody>\n",
       "    <tr>\n",
       "      <th>879</th>\n",
       "      <td>6.9</td>\n",
       "      <td>0.12</td>\n",
       "      <td>0.36</td>\n",
       "      <td>2.2</td>\n",
       "      <td>0.037</td>\n",
       "      <td>18.0</td>\n",
       "      <td>111.0</td>\n",
       "      <td>0.99190</td>\n",
       "      <td>3.41</td>\n",
       "      <td>0.82</td>\n",
       "      <td>11.9</td>\n",
       "      <td>8</td>\n",
       "      <td>white</td>\n",
       "    </tr>\n",
       "    <tr>\n",
       "      <th>2896</th>\n",
       "      <td>7.0</td>\n",
       "      <td>0.31</td>\n",
       "      <td>0.39</td>\n",
       "      <td>7.5</td>\n",
       "      <td>0.055</td>\n",
       "      <td>42.0</td>\n",
       "      <td>218.0</td>\n",
       "      <td>0.99652</td>\n",
       "      <td>3.37</td>\n",
       "      <td>0.54</td>\n",
       "      <td>10.3</td>\n",
       "      <td>5</td>\n",
       "      <td>white</td>\n",
       "    </tr>\n",
       "    <tr>\n",
       "      <th>5821</th>\n",
       "      <td>6.8</td>\n",
       "      <td>0.41</td>\n",
       "      <td>0.31</td>\n",
       "      <td>8.8</td>\n",
       "      <td>0.084</td>\n",
       "      <td>26.0</td>\n",
       "      <td>45.0</td>\n",
       "      <td>0.99824</td>\n",
       "      <td>3.38</td>\n",
       "      <td>0.64</td>\n",
       "      <td>10.1</td>\n",
       "      <td>6</td>\n",
       "      <td>red</td>\n",
       "    </tr>\n",
       "    <tr>\n",
       "      <th>2824</th>\n",
       "      <td>7.2</td>\n",
       "      <td>0.26</td>\n",
       "      <td>0.40</td>\n",
       "      <td>6.3</td>\n",
       "      <td>0.047</td>\n",
       "      <td>52.0</td>\n",
       "      <td>172.0</td>\n",
       "      <td>0.99573</td>\n",
       "      <td>3.18</td>\n",
       "      <td>0.53</td>\n",
       "      <td>9.5</td>\n",
       "      <td>6</td>\n",
       "      <td>white</td>\n",
       "    </tr>\n",
       "    <tr>\n",
       "      <th>1202</th>\n",
       "      <td>6.4</td>\n",
       "      <td>0.30</td>\n",
       "      <td>0.38</td>\n",
       "      <td>7.8</td>\n",
       "      <td>0.046</td>\n",
       "      <td>35.0</td>\n",
       "      <td>192.0</td>\n",
       "      <td>0.99550</td>\n",
       "      <td>3.10</td>\n",
       "      <td>0.37</td>\n",
       "      <td>9.0</td>\n",
       "      <td>5</td>\n",
       "      <td>white</td>\n",
       "    </tr>\n",
       "  </tbody>\n",
       "</table>\n",
       "</div>"
      ],
      "text/plain": [
       "      fixed acidity  volatile acidity  citric acid  residual sugar  chlorides  \\\n",
       "879             6.9              0.12         0.36             2.2      0.037   \n",
       "2896            7.0              0.31         0.39             7.5      0.055   \n",
       "5821            6.8              0.41         0.31             8.8      0.084   \n",
       "2824            7.2              0.26         0.40             6.3      0.047   \n",
       "1202            6.4              0.30         0.38             7.8      0.046   \n",
       "\n",
       "      free sulfur dioxide  total sulfur dioxide  density    pH  sulphates  \\\n",
       "879                  18.0                 111.0  0.99190  3.41       0.82   \n",
       "2896                 42.0                 218.0  0.99652  3.37       0.54   \n",
       "5821                 26.0                  45.0  0.99824  3.38       0.64   \n",
       "2824                 52.0                 172.0  0.99573  3.18       0.53   \n",
       "1202                 35.0                 192.0  0.99550  3.10       0.37   \n",
       "\n",
       "      alcohol  quality   type  \n",
       "879      11.9        8  white  \n",
       "2896     10.3        5  white  \n",
       "5821     10.1        6    red  \n",
       "2824      9.5        6  white  \n",
       "1202      9.0        5  white  "
      ]
     },
     "execution_count": 4,
     "metadata": {},
     "output_type": "execute_result"
    }
   ],
   "source": [
    "data = data_w.assign(type = 'white')\n",
    "\n",
    "data = data.append(data_r.assign(type = 'red'), ignore_index=True)\n",
    "data.sample(5)"
   ]
  },
  {
   "cell_type": "markdown",
   "metadata": {},
   "source": [
    "# Exercise 6.1\n",
    "\n",
    "Show the frecuency table of the quality by type of wine"
   ]
  },
  {
   "cell_type": "markdown",
   "metadata": {},
   "source": [
    "Se busca clasificar cuales son buenos y malos en binario"
   ]
  },
  {
   "cell_type": "code",
   "execution_count": 5,
   "metadata": {
    "scrolled": true
   },
   "outputs": [
    {
     "data": {
      "text/html": [
       "<div>\n",
       "<style scoped>\n",
       "    .dataframe tbody tr th:only-of-type {\n",
       "        vertical-align: middle;\n",
       "    }\n",
       "\n",
       "    .dataframe tbody tr th {\n",
       "        vertical-align: top;\n",
       "    }\n",
       "\n",
       "    .dataframe thead th {\n",
       "        text-align: right;\n",
       "    }\n",
       "</style>\n",
       "<table border=\"1\" class=\"dataframe\">\n",
       "  <thead>\n",
       "    <tr style=\"text-align: right;\">\n",
       "      <th></th>\n",
       "      <th>type</th>\n",
       "    </tr>\n",
       "    <tr>\n",
       "      <th>quality</th>\n",
       "      <th></th>\n",
       "    </tr>\n",
       "  </thead>\n",
       "  <tbody>\n",
       "    <tr>\n",
       "      <th>3</th>\n",
       "      <td>30</td>\n",
       "    </tr>\n",
       "    <tr>\n",
       "      <th>4</th>\n",
       "      <td>216</td>\n",
       "    </tr>\n",
       "    <tr>\n",
       "      <th>5</th>\n",
       "      <td>2138</td>\n",
       "    </tr>\n",
       "    <tr>\n",
       "      <th>6</th>\n",
       "      <td>2836</td>\n",
       "    </tr>\n",
       "    <tr>\n",
       "      <th>7</th>\n",
       "      <td>1079</td>\n",
       "    </tr>\n",
       "    <tr>\n",
       "      <th>8</th>\n",
       "      <td>193</td>\n",
       "    </tr>\n",
       "    <tr>\n",
       "      <th>9</th>\n",
       "      <td>5</td>\n",
       "    </tr>\n",
       "  </tbody>\n",
       "</table>\n",
       "</div>"
      ],
      "text/plain": [
       "         type\n",
       "quality      \n",
       "3          30\n",
       "4         216\n",
       "5        2138\n",
       "6        2836\n",
       "7        1079\n",
       "8         193\n",
       "9           5"
      ]
     },
     "execution_count": 5,
     "metadata": {},
     "output_type": "execute_result"
    }
   ],
   "source": [
    "data[['quality','type']].groupby('quality').count()"
   ]
  },
  {
   "cell_type": "markdown",
   "metadata": {},
   "source": [
    "# SVM"
   ]
  },
  {
   "cell_type": "markdown",
   "metadata": {},
   "source": [
    "# Exercise 6.2\n",
    "\n",
    "* Standarized the features (not the quality)\n",
    "* Create a binary target for each type of wine\n",
    "* Create two Linear SVM's for the white and red wines, repectively.\n"
   ]
  },
  {
   "cell_type": "markdown",
   "metadata": {},
   "source": [
    "before aply a stadarized model, is important to know the distribution of data, let's see:"
   ]
  },
  {
   "cell_type": "code",
   "execution_count": 6,
   "metadata": {},
   "outputs": [],
   "source": [
    "hist = data.hist(bins=9, layout=(3,4),figsize=(15,10))"
   ]
  },
  {
   "cell_type": "markdown",
   "metadata": {},
   "source": [
    "We can observe on histograms, that the data are in differente range each one, some are in decimals, others in units or hundreds; but, there are not values with frecuencies anormaly, so it's possible and necesary stadarize the features with the scope of give all the same weight with independency of their magnitude."
   ]
  },
  {
   "cell_type": "markdown",
   "metadata": {},
   "source": [
    "**Standarize**"
   ]
  },
  {
   "cell_type": "code",
   "execution_count": 7,
   "metadata": {},
   "outputs": [],
   "source": [
    "from sklearn.preprocessing import Normalizer\n",
    "X = data.drop(['quality','type'],axis=1)\n",
    "transformer = Normalizer().fit(X)\n",
    "X_normalized=transformer.transform(X)"
   ]
  },
  {
   "cell_type": "code",
   "execution_count": 8,
   "metadata": {},
   "outputs": [
    {
     "data": {
      "text/html": [
       "<div>\n",
       "<style scoped>\n",
       "    .dataframe tbody tr th:only-of-type {\n",
       "        vertical-align: middle;\n",
       "    }\n",
       "\n",
       "    .dataframe tbody tr th {\n",
       "        vertical-align: top;\n",
       "    }\n",
       "\n",
       "    .dataframe thead th {\n",
       "        text-align: right;\n",
       "    }\n",
       "</style>\n",
       "<table border=\"1\" class=\"dataframe\">\n",
       "  <thead>\n",
       "    <tr style=\"text-align: right;\">\n",
       "      <th></th>\n",
       "      <th>fixed acidity</th>\n",
       "      <th>volatile acidity</th>\n",
       "      <th>citric acid</th>\n",
       "      <th>residual sugar</th>\n",
       "      <th>chlorides</th>\n",
       "      <th>free sulfur dioxide</th>\n",
       "      <th>total sulfur dioxide</th>\n",
       "      <th>density</th>\n",
       "      <th>pH</th>\n",
       "      <th>sulphates</th>\n",
       "      <th>alcohol</th>\n",
       "    </tr>\n",
       "  </thead>\n",
       "  <tbody>\n",
       "    <tr>\n",
       "      <th>0</th>\n",
       "      <td>0.039447</td>\n",
       "      <td>0.001522</td>\n",
       "      <td>0.002029</td>\n",
       "      <td>0.116649</td>\n",
       "      <td>0.000254</td>\n",
       "      <td>0.253585</td>\n",
       "      <td>0.957988</td>\n",
       "      <td>0.005641</td>\n",
       "      <td>0.016906</td>\n",
       "      <td>0.002536</td>\n",
       "      <td>0.049590</td>\n",
       "    </tr>\n",
       "    <tr>\n",
       "      <th>1</th>\n",
       "      <td>0.047267</td>\n",
       "      <td>0.002251</td>\n",
       "      <td>0.002551</td>\n",
       "      <td>0.012004</td>\n",
       "      <td>0.000368</td>\n",
       "      <td>0.105038</td>\n",
       "      <td>0.990361</td>\n",
       "      <td>0.007458</td>\n",
       "      <td>0.024759</td>\n",
       "      <td>0.003676</td>\n",
       "      <td>0.071276</td>\n",
       "    </tr>\n",
       "    <tr>\n",
       "      <th>2</th>\n",
       "      <td>0.078912</td>\n",
       "      <td>0.002728</td>\n",
       "      <td>0.003897</td>\n",
       "      <td>0.067221</td>\n",
       "      <td>0.000487</td>\n",
       "      <td>0.292266</td>\n",
       "      <td>0.944992</td>\n",
       "      <td>0.009694</td>\n",
       "      <td>0.031760</td>\n",
       "      <td>0.004287</td>\n",
       "      <td>0.098396</td>\n",
       "    </tr>\n",
       "    <tr>\n",
       "      <th>3</th>\n",
       "      <td>0.037412</td>\n",
       "      <td>0.001195</td>\n",
       "      <td>0.001663</td>\n",
       "      <td>0.044166</td>\n",
       "      <td>0.000301</td>\n",
       "      <td>0.244214</td>\n",
       "      <td>0.966464</td>\n",
       "      <td>0.005173</td>\n",
       "      <td>0.016575</td>\n",
       "      <td>0.002078</td>\n",
       "      <td>0.051441</td>\n",
       "    </tr>\n",
       "    <tr>\n",
       "      <th>4</th>\n",
       "      <td>0.037412</td>\n",
       "      <td>0.001195</td>\n",
       "      <td>0.001663</td>\n",
       "      <td>0.044166</td>\n",
       "      <td>0.000301</td>\n",
       "      <td>0.244214</td>\n",
       "      <td>0.966464</td>\n",
       "      <td>0.005173</td>\n",
       "      <td>0.016575</td>\n",
       "      <td>0.002078</td>\n",
       "      <td>0.051441</td>\n",
       "    </tr>\n",
       "  </tbody>\n",
       "</table>\n",
       "</div>"
      ],
      "text/plain": [
       "   fixed acidity  volatile acidity  citric acid  residual sugar  chlorides  \\\n",
       "0       0.039447          0.001522     0.002029        0.116649   0.000254   \n",
       "1       0.047267          0.002251     0.002551        0.012004   0.000368   \n",
       "2       0.078912          0.002728     0.003897        0.067221   0.000487   \n",
       "3       0.037412          0.001195     0.001663        0.044166   0.000301   \n",
       "4       0.037412          0.001195     0.001663        0.044166   0.000301   \n",
       "\n",
       "   free sulfur dioxide  total sulfur dioxide   density        pH  sulphates  \\\n",
       "0             0.253585              0.957988  0.005641  0.016906   0.002536   \n",
       "1             0.105038              0.990361  0.007458  0.024759   0.003676   \n",
       "2             0.292266              0.944992  0.009694  0.031760   0.004287   \n",
       "3             0.244214              0.966464  0.005173  0.016575   0.002078   \n",
       "4             0.244214              0.966464  0.005173  0.016575   0.002078   \n",
       "\n",
       "    alcohol  \n",
       "0  0.049590  \n",
       "1  0.071276  \n",
       "2  0.098396  \n",
       "3  0.051441  \n",
       "4  0.051441  "
      ]
     },
     "execution_count": 8,
     "metadata": {},
     "output_type": "execute_result"
    }
   ],
   "source": [
    "X_norm = pd.DataFrame(columns=X.columns, data=X_normalized)\n",
    "X_norm.head()"
   ]
  },
  {
   "cell_type": "code",
   "execution_count": 9,
   "metadata": {},
   "outputs": [
    {
     "data": {
      "text/html": [
       "<div>\n",
       "<style scoped>\n",
       "    .dataframe tbody tr th:only-of-type {\n",
       "        vertical-align: middle;\n",
       "    }\n",
       "\n",
       "    .dataframe tbody tr th {\n",
       "        vertical-align: top;\n",
       "    }\n",
       "\n",
       "    .dataframe thead th {\n",
       "        text-align: right;\n",
       "    }\n",
       "</style>\n",
       "<table border=\"1\" class=\"dataframe\">\n",
       "  <thead>\n",
       "    <tr style=\"text-align: right;\">\n",
       "      <th></th>\n",
       "      <th>fixed acidity</th>\n",
       "      <th>volatile acidity</th>\n",
       "      <th>citric acid</th>\n",
       "      <th>residual sugar</th>\n",
       "      <th>chlorides</th>\n",
       "      <th>free sulfur dioxide</th>\n",
       "      <th>total sulfur dioxide</th>\n",
       "      <th>density</th>\n",
       "      <th>pH</th>\n",
       "      <th>sulphates</th>\n",
       "      <th>alcohol</th>\n",
       "      <th>quality</th>\n",
       "      <th>type</th>\n",
       "    </tr>\n",
       "  </thead>\n",
       "  <tbody>\n",
       "    <tr>\n",
       "      <th>1558</th>\n",
       "      <td>0.053279</td>\n",
       "      <td>0.003695</td>\n",
       "      <td>0.004211</td>\n",
       "      <td>0.054997</td>\n",
       "      <td>0.000387</td>\n",
       "      <td>0.103120</td>\n",
       "      <td>0.988232</td>\n",
       "      <td>0.008562</td>\n",
       "      <td>0.028100</td>\n",
       "      <td>0.004898</td>\n",
       "      <td>0.077340</td>\n",
       "      <td>4</td>\n",
       "      <td>white</td>\n",
       "    </tr>\n",
       "    <tr>\n",
       "      <th>3318</th>\n",
       "      <td>0.060468</td>\n",
       "      <td>0.001466</td>\n",
       "      <td>0.003207</td>\n",
       "      <td>0.016491</td>\n",
       "      <td>0.000385</td>\n",
       "      <td>0.238207</td>\n",
       "      <td>0.961991</td>\n",
       "      <td>0.009067</td>\n",
       "      <td>0.029226</td>\n",
       "      <td>0.006871</td>\n",
       "      <td>0.113607</td>\n",
       "      <td>7</td>\n",
       "      <td>white</td>\n",
       "    </tr>\n",
       "    <tr>\n",
       "      <th>2862</th>\n",
       "      <td>0.055528</td>\n",
       "      <td>0.001198</td>\n",
       "      <td>0.003484</td>\n",
       "      <td>0.017421</td>\n",
       "      <td>0.000305</td>\n",
       "      <td>0.130655</td>\n",
       "      <td>0.979911</td>\n",
       "      <td>0.010780</td>\n",
       "      <td>0.038870</td>\n",
       "      <td>0.005662</td>\n",
       "      <td>0.132832</td>\n",
       "      <td>6</td>\n",
       "      <td>white</td>\n",
       "    </tr>\n",
       "    <tr>\n",
       "      <th>3811</th>\n",
       "      <td>0.045486</td>\n",
       "      <td>0.001769</td>\n",
       "      <td>0.002401</td>\n",
       "      <td>0.012635</td>\n",
       "      <td>0.000329</td>\n",
       "      <td>0.145304</td>\n",
       "      <td>0.985541</td>\n",
       "      <td>0.006262</td>\n",
       "      <td>0.019774</td>\n",
       "      <td>0.003285</td>\n",
       "      <td>0.070125</td>\n",
       "      <td>5</td>\n",
       "      <td>white</td>\n",
       "    </tr>\n",
       "    <tr>\n",
       "      <th>4975</th>\n",
       "      <td>0.190304</td>\n",
       "      <td>0.021969</td>\n",
       "      <td>0.000000</td>\n",
       "      <td>0.067166</td>\n",
       "      <td>0.002911</td>\n",
       "      <td>0.391801</td>\n",
       "      <td>0.839575</td>\n",
       "      <td>0.027891</td>\n",
       "      <td>0.098510</td>\n",
       "      <td>0.015392</td>\n",
       "      <td>0.299448</td>\n",
       "      <td>6</td>\n",
       "      <td>red</td>\n",
       "    </tr>\n",
       "  </tbody>\n",
       "</table>\n",
       "</div>"
      ],
      "text/plain": [
       "      fixed acidity  volatile acidity  citric acid  residual sugar  chlorides  \\\n",
       "1558       0.053279          0.003695     0.004211        0.054997   0.000387   \n",
       "3318       0.060468          0.001466     0.003207        0.016491   0.000385   \n",
       "2862       0.055528          0.001198     0.003484        0.017421   0.000305   \n",
       "3811       0.045486          0.001769     0.002401        0.012635   0.000329   \n",
       "4975       0.190304          0.021969     0.000000        0.067166   0.002911   \n",
       "\n",
       "      free sulfur dioxide  total sulfur dioxide   density        pH  \\\n",
       "1558             0.103120              0.988232  0.008562  0.028100   \n",
       "3318             0.238207              0.961991  0.009067  0.029226   \n",
       "2862             0.130655              0.979911  0.010780  0.038870   \n",
       "3811             0.145304              0.985541  0.006262  0.019774   \n",
       "4975             0.391801              0.839575  0.027891  0.098510   \n",
       "\n",
       "      sulphates   alcohol  quality   type  \n",
       "1558   0.004898  0.077340        4  white  \n",
       "3318   0.006871  0.113607        7  white  \n",
       "2862   0.005662  0.132832        6  white  \n",
       "3811   0.003285  0.070125        5  white  \n",
       "4975   0.015392  0.299448        6    red  "
      ]
     },
     "execution_count": 9,
     "metadata": {},
     "output_type": "execute_result"
    }
   ],
   "source": [
    "data2=pd.concat([X_norm,data[['quality','type']]], axis=1,join='inner')\n",
    "data2.sample(5)"
   ]
  },
  {
   "cell_type": "markdown",
   "metadata": {},
   "source": [
    "**Binary Target**"
   ]
  },
  {
   "cell_type": "code",
   "execution_count": 10,
   "metadata": {},
   "outputs": [],
   "source": [
    "data2['quality2'] = data2['quality'] > 6"
   ]
  },
  {
   "cell_type": "code",
   "execution_count": 11,
   "metadata": {},
   "outputs": [
    {
     "data": {
      "text/plain": [
       "((4898, 14), (1599, 14))"
      ]
     },
     "execution_count": 11,
     "metadata": {},
     "output_type": "execute_result"
    }
   ],
   "source": [
    "data_white=data2[data2['type']=='white']\n",
    "data_red=data2[data2['type']=='red']\n",
    "data_white.shape,data_red.shape"
   ]
  },
  {
   "cell_type": "markdown",
   "metadata": {},
   "source": [
    "**Linear SVM**"
   ]
  },
  {
   "cell_type": "code",
   "execution_count": 12,
   "metadata": {},
   "outputs": [],
   "source": [
    "from sklearn.svm import SVC # \"Support Vector Classifier\"\n",
    "y_w = data_white['quality2']\n",
    "X_w = data_white.drop(['quality','type'],axis=1)\n",
    "\n",
    "y_r = data_red['quality2']\n",
    "X_r = data_red.drop(['quality','type'],axis=1)"
   ]
  },
  {
   "cell_type": "markdown",
   "metadata": {
    "collapsed": true
   },
   "source": [
    "**_White wine_**"
   ]
  },
  {
   "cell_type": "code",
   "execution_count": 13,
   "metadata": {},
   "outputs": [
    {
     "data": {
      "text/plain": [
       "SVC(C=1.0, cache_size=200, class_weight=None, coef0=0.0,\n",
       "  decision_function_shape='ovr', degree=3, gamma='auto', kernel='linear',\n",
       "  max_iter=-1, probability=False, random_state=None, shrinking=True,\n",
       "  tol=0.001, verbose=False)"
      ]
     },
     "execution_count": 13,
     "metadata": {},
     "output_type": "execute_result"
    }
   ],
   "source": [
    "clf_WW = SVC(kernel='linear')\n",
    "clf_WW.fit(X_w, y_w)"
   ]
  },
  {
   "cell_type": "code",
   "execution_count": 14,
   "metadata": {},
   "outputs": [],
   "source": [
    "y_w_pred = clf_WW.predict(X_w)"
   ]
  },
  {
   "cell_type": "markdown",
   "metadata": {},
   "source": [
    "**_Red wine_**"
   ]
  },
  {
   "cell_type": "code",
   "execution_count": 15,
   "metadata": {
    "scrolled": true
   },
   "outputs": [
    {
     "data": {
      "text/plain": [
       "SVC(C=1.0, cache_size=200, class_weight=None, coef0=0.0,\n",
       "  decision_function_shape='ovr', degree=3, gamma='auto', kernel='linear',\n",
       "  max_iter=-1, probability=False, random_state=None, shrinking=True,\n",
       "  tol=0.001, verbose=False)"
      ]
     },
     "execution_count": 15,
     "metadata": {},
     "output_type": "execute_result"
    }
   ],
   "source": [
    "clf_rw = SVC(kernel='linear')\n",
    "clf_rw.fit(X_r, y_r)"
   ]
  },
  {
   "cell_type": "code",
   "execution_count": 16,
   "metadata": {},
   "outputs": [],
   "source": [
    "y_r_pred = clf_WW.predict(X_r)"
   ]
  },
  {
   "cell_type": "markdown",
   "metadata": {},
   "source": [
    "# Exercise 6.3\n",
    "\n",
    "Test the two SVM's using the different kernels (‘poly’, ‘rbf’, ‘sigmoid’)\n"
   ]
  },
  {
   "cell_type": "code",
   "execution_count": 17,
   "metadata": {},
   "outputs": [],
   "source": [
    "from sklearn.metrics import accuracy_score"
   ]
  },
  {
   "cell_type": "markdown",
   "metadata": {},
   "source": [
    "Accuracy for linear SVM"
   ]
  },
  {
   "cell_type": "code",
   "execution_count": 18,
   "metadata": {},
   "outputs": [
    {
     "data": {
      "text/plain": [
       "(1.0, 1.0)"
      ]
     },
     "execution_count": 18,
     "metadata": {},
     "output_type": "execute_result"
    }
   ],
   "source": [
    "w_acc_lin=accuracy_score(y_w, y_w_pred, normalize=True)\n",
    "r_acc_lin=accuracy_score(y_r, y_r_pred, normalize=True)\n",
    "w_acc_lin,r_acc_lin"
   ]
  },
  {
   "cell_type": "markdown",
   "metadata": {
    "collapsed": true
   },
   "source": [
    "Now, let' try with differents kernels and compare the accuracy of each."
   ]
  },
  {
   "cell_type": "markdown",
   "metadata": {},
   "source": [
    "_White wine:_"
   ]
  },
  {
   "cell_type": "code",
   "execution_count": 19,
   "metadata": {},
   "outputs": [
    {
     "name": "stdout",
     "output_type": "stream",
     "text": [
      "WW_Acc_linear: 1.0\n",
      "WW_Acc_poly: 1.0\n",
      "WW_Acc_rbf: 1.0\n",
      "WW_Acc_sigmoid: 1.0\n"
     ]
    }
   ],
   "source": [
    "kernels=['linear','poly', 'rbf', 'sigmoid']\n",
    "accuracyname=['A_w_poly', 'A_w_rbf', 'A_w_sigmoid']\n",
    "Acc_val = []\n",
    "for k in range(len(kernels)):\n",
    "    clf_WW_r = SVC(kernel=kernels[k])\n",
    "    clf_WW_r.fit(X_w, y_w)\n",
    "    y_w_pred_r = clf_WW_r.predict(X_w)\n",
    "    Acc_val.append(accuracy_score(y_w, y_w_pred_r, normalize=True))\n",
    "    print('WW_Acc_'+kernels[k]+':',Acc_val[k])"
   ]
  },
  {
   "cell_type": "code",
   "execution_count": 20,
   "metadata": {},
   "outputs": [],
   "source": [
    "from sklearn.metrics import f1_score"
   ]
  },
  {
   "cell_type": "code",
   "execution_count": 21,
   "metadata": {},
   "outputs": [
    {
     "name": "stdout",
     "output_type": "stream",
     "text": [
      "WW_f1_linear: 1.0\n",
      "WW_f1_poly: 1.0\n",
      "WW_f1_rbf: 1.0\n",
      "WW_f1_sigmoid: 1.0\n"
     ]
    }
   ],
   "source": [
    "Acc_val = []\n",
    "for k in range(len(kernels)):\n",
    "    clf_WW_r = SVC(kernel=kernels[k])\n",
    "    clf_WW_r.fit(X_w, y_w)\n",
    "    y_w_pred_r = clf_WW_r.predict(X_w)\n",
    "    Acc_val.append(f1_score(y_w, y_w_pred_r, average='binary'))\n",
    "    print('WW_f1_'+kernels[k]+':',Acc_val[k])"
   ]
  },
  {
   "cell_type": "markdown",
   "metadata": {},
   "source": [
    "_Red wine:_"
   ]
  },
  {
   "cell_type": "code",
   "execution_count": 22,
   "metadata": {
    "scrolled": true
   },
   "outputs": [
    {
     "name": "stdout",
     "output_type": "stream",
     "text": [
      "RW_Acc_linear: 1.0\n",
      "RW_Acc_poly: 1.0\n",
      "RW_Acc_rbf: 1.0\n",
      "RW_Acc_sigmoid: 1.0\n"
     ]
    }
   ],
   "source": [
    "Acc_val = []\n",
    "for k in range(len(kernels)):\n",
    "    clf_RW_r = SVC(kernel=kernels[k])\n",
    "    clf_RW_r.fit(X_w, y_w)\n",
    "    y_r_pred_r = clf_RW_r.predict(X_r)\n",
    "    Acc_val.append(accuracy_score(y_r, y_r_pred_r, normalize=True))\n",
    "    print('RW_Acc_'+kernels[k]+':',Acc_val[k])"
   ]
  },
  {
   "cell_type": "markdown",
   "metadata": {},
   "source": [
    "# Exercise 6.4\n",
    "Using the best SVM find the parameters that gives the best performance\n",
    "\n",
    "'C': [0.1, 1, 10, 100, 1000], 'gamma': [0.01, 0.001, 0.0001]"
   ]
  },
  {
   "cell_type": "markdown",
   "metadata": {},
   "source": [
    "Se evalua con la clasificación: el accuracy"
   ]
  },
  {
   "cell_type": "code",
   "execution_count": 27,
   "metadata": {},
   "outputs": [],
   "source": [
    "kernels='rbf'\n",
    "C = [0.1, 1, 10, 100, 1000]\n",
    "gamma = [0.01, 0.001, 0.0001]"
   ]
  },
  {
   "cell_type": "code",
   "execution_count": 28,
   "metadata": {},
   "outputs": [
    {
     "name": "stdout",
     "output_type": "stream",
     "text": [
      "WW_f1_0.1_0.01: 1.0\n",
      "WW_f1_0.1_0.001: 1.0\n",
      "WW_f1_0.1_0.0001: 1.0\n",
      "WW_f1_1_0.01: 1.0\n",
      "WW_f1_1_0.001: 1.0\n",
      "WW_f1_1_0.0001: 1.0\n",
      "WW_f1_10_0.01: 1.0\n",
      "WW_f1_10_0.001: 1.0\n",
      "WW_f1_10_0.0001: 1.0\n",
      "WW_f1_100_0.01: 1.0\n",
      "WW_f1_100_0.001: 1.0\n",
      "WW_f1_100_0.0001: 1.0\n",
      "WW_f1_1000_0.01: 1.0\n",
      "WW_f1_1000_0.001: 1.0\n",
      "WW_f1_1000_0.0001: 1.0\n"
     ]
    }
   ],
   "source": [
    "k=0\n",
    "#White Wine\n",
    "for i in range(len(C)):\n",
    "    for j in range(len(gamma)):\n",
    "        clf_WW_r = SVC(kernel=kernels, C=C[i], gamma=gamma[j])\n",
    "        clf_WW_r.fit(X_w, y_w)\n",
    "        y_w_pred_r = clf_WW_r.predict(X_w)\n",
    "        Acc_val.append(accuracy_score(y_w, y_w_pred_r, normalize=True))\n",
    "        print('WW_f1_'+str(C[i])+'_'+str(gamma[j])+':',Acc_val[k])\n",
    "        k+=k"
   ]
  },
  {
   "cell_type": "code",
   "execution_count": 29,
   "metadata": {},
   "outputs": [
    {
     "name": "stdout",
     "output_type": "stream",
     "text": [
      "RW_f1_0.1_0.01: 1.0\n",
      "RW_f1_0.1_0.001: 1.0\n",
      "RW_f1_0.1_0.0001: 1.0\n",
      "RW_f1_1_0.01: 1.0\n",
      "RW_f1_1_0.001: 1.0\n",
      "RW_f1_1_0.0001: 1.0\n",
      "RW_f1_10_0.01: 1.0\n",
      "RW_f1_10_0.001: 1.0\n",
      "RW_f1_10_0.0001: 1.0\n",
      "RW_f1_100_0.01: 1.0\n",
      "RW_f1_100_0.001: 1.0\n",
      "RW_f1_100_0.0001: 1.0\n",
      "RW_f1_1000_0.01: 1.0\n",
      "RW_f1_1000_0.001: 1.0\n",
      "RW_f1_1000_0.0001: 1.0\n"
     ]
    }
   ],
   "source": [
    "k=0\n",
    "#Red Wine\n",
    "for i in range(len(C)):\n",
    "    for j in range(len(gamma)):\n",
    "        clf_WW_r = SVC(kernel=kernels, C=C[i], gamma=gamma[j])\n",
    "        clf_WW_r.fit(X_w, y_w)\n",
    "        y_w_pred_r = clf_WW_r.predict(X_w)\n",
    "        Acc_val.append(accuracy_score(y_w, y_w_pred_r, normalize=True))\n",
    "        print('RW_f1_'+str(C[i])+'_'+str(gamma[j])+':',Acc_val[k])\n",
    "        k+=k"
   ]
  },
  {
   "cell_type": "markdown",
   "metadata": {},
   "source": [
    "# Exercise 6.5\n",
    "\n",
    "Compare the results with other methods"
   ]
  },
  {
   "cell_type": "markdown",
   "metadata": {},
   "source": [
    "Se compara con LOGIT"
   ]
  },
  {
   "cell_type": "code",
   "execution_count": 30,
   "metadata": {},
   "outputs": [],
   "source": [
    "from sklearn.linear_model import LogisticRegression"
   ]
  },
  {
   "cell_type": "code",
   "execution_count": 33,
   "metadata": {},
   "outputs": [
    {
     "data": {
      "text/plain": [
       "1.0"
      ]
     },
     "execution_count": 33,
     "metadata": {},
     "output_type": "execute_result"
    }
   ],
   "source": [
    "#White wine\n",
    "logreg_w = LogisticRegression(solver='liblinear',C=1e9)\n",
    "logreg_w.fit(X_w, y_w)\n",
    "y_w_pred_log = logreg_w.predict(X_w)\n",
    "accuracy_score(y_w, y_w_pred_log, normalize=True)"
   ]
  },
  {
   "cell_type": "code",
   "execution_count": 34,
   "metadata": {},
   "outputs": [
    {
     "data": {
      "text/plain": [
       "1.0"
      ]
     },
     "execution_count": 34,
     "metadata": {},
     "output_type": "execute_result"
    }
   ],
   "source": [
    "#Red wine\n",
    "logreg_r = LogisticRegression(solver='liblinear',C=1e9)\n",
    "logreg_r.fit(X_r, y_r)\n",
    "y_r_pred_log = logreg_r.predict(X_r)\n",
    "accuracy_score(y_r, y_r_pred_log, normalize=True)"
   ]
  },
  {
   "cell_type": "markdown",
   "metadata": {},
   "source": [
    "# Regularization"
   ]
  },
  {
   "cell_type": "markdown",
   "metadata": {},
   "source": [
    "# Exercise 6.6\n",
    "\n",
    "\n",
    "* Train a linear regression to predict wine quality (Continous) (Lo mismo del 6.5)\n",
    "\n",
    "* Analyze the coefficients\n",
    "\n",
    "* Evaluate the RMSE"
   ]
  },
  {
   "cell_type": "code",
   "execution_count": 35,
   "metadata": {},
   "outputs": [
    {
     "data": {
      "text/plain": [
       "array([[-3.03245868e-01, -1.46716163e-02, -1.37582577e-02,\n",
       "        -4.30390656e-01, -3.51321287e-03, -9.48259414e-01,\n",
       "        -6.00373771e+00, -3.93635881e-02, -1.17436837e-01,\n",
       "        -1.43747951e-02, -2.03479782e-01,  2.43991782e+01]])"
      ]
     },
     "execution_count": 35,
     "metadata": {},
     "output_type": "execute_result"
    }
   ],
   "source": [
    "logreg_w.coef_"
   ]
  },
  {
   "cell_type": "code",
   "execution_count": 36,
   "metadata": {
    "scrolled": true
   },
   "outputs": [
    {
     "data": {
      "text/plain": [
       "array([[-1.19582235e+00, -2.00433779e-01,  3.45562100e-02,\n",
       "        -2.85356380e-01, -2.21512409e-02, -1.25691944e+00,\n",
       "        -5.60473090e+00, -1.86696350e-01, -6.39977732e-01,\n",
       "        -3.43681327e-02, -1.25035218e+00,  2.42871600e+01]])"
      ]
     },
     "execution_count": 36,
     "metadata": {},
     "output_type": "execute_result"
    }
   ],
   "source": [
    "logreg_r.coef_"
   ]
  },
  {
   "cell_type": "markdown",
   "metadata": {},
   "source": [
    "**RMSE**"
   ]
  },
  {
   "cell_type": "code",
   "execution_count": 42,
   "metadata": {},
   "outputs": [
    {
     "ename": "TypeError",
     "evalue": "numpy boolean subtract, the `-` operator, is deprecated, use the bitwise_xor, the `^` operator, or the logical_xor function instead.",
     "output_type": "error",
     "traceback": [
      "\u001b[1;31m---------------------------------------------------------------------------\u001b[0m",
      "\u001b[1;31mTypeError\u001b[0m                                 Traceback (most recent call last)",
      "\u001b[1;32m<ipython-input-42-ec37384cc033>\u001b[0m in \u001b[0;36m<module>\u001b[1;34m()\u001b[0m\n\u001b[0;32m      2\u001b[0m \u001b[0my_tr\u001b[0m\u001b[1;33m=\u001b[0m\u001b[1;33m[\u001b[0m\u001b[0my_w\u001b[0m\u001b[1;33m]\u001b[0m\u001b[1;33m\u001b[0m\u001b[0m\n\u001b[0;32m      3\u001b[0m \u001b[0my_pr\u001b[0m\u001b[1;33m=\u001b[0m\u001b[1;33m[\u001b[0m\u001b[0my_w_pred_log\u001b[0m\u001b[1;33m]\u001b[0m\u001b[1;33m\u001b[0m\u001b[0m\n\u001b[1;32m----> 4\u001b[1;33m \u001b[0mMSE_logreg_w\u001b[0m \u001b[1;33m=\u001b[0m \u001b[0mmetrics\u001b[0m\u001b[1;33m.\u001b[0m\u001b[0mmean_squared_error\u001b[0m\u001b[1;33m(\u001b[0m\u001b[0my_tr\u001b[0m\u001b[1;33m,\u001b[0m \u001b[0my_pr\u001b[0m\u001b[1;33m)\u001b[0m\u001b[1;33m\u001b[0m\u001b[0m\n\u001b[0m\u001b[0;32m      5\u001b[0m \u001b[0mprint\u001b[0m\u001b[1;33m(\u001b[0m\u001b[1;34m'RMSE:'\u001b[0m\u001b[1;33m,\u001b[0m \u001b[0mnp\u001b[0m\u001b[1;33m.\u001b[0m\u001b[0msqrt\u001b[0m\u001b[1;33m(\u001b[0m\u001b[0mMSE_logreg_w\u001b[0m\u001b[1;33m)\u001b[0m\u001b[1;33m)\u001b[0m\u001b[1;33m\u001b[0m\u001b[0m\n",
      "\u001b[1;32mC:\\Anaconda3\\lib\\site-packages\\sklearn\\metrics\\regression.py\u001b[0m in \u001b[0;36mmean_squared_error\u001b[1;34m(y_true, y_pred, sample_weight, multioutput)\u001b[0m\n\u001b[0;32m    237\u001b[0m     y_type, y_true, y_pred, multioutput = _check_reg_targets(\n\u001b[0;32m    238\u001b[0m         y_true, y_pred, multioutput)\n\u001b[1;32m--> 239\u001b[1;33m     output_errors = np.average((y_true - y_pred) ** 2, axis=0,\n\u001b[0m\u001b[0;32m    240\u001b[0m                                weights=sample_weight)\n\u001b[0;32m    241\u001b[0m     \u001b[1;32mif\u001b[0m \u001b[0misinstance\u001b[0m\u001b[1;33m(\u001b[0m\u001b[0mmultioutput\u001b[0m\u001b[1;33m,\u001b[0m \u001b[0mstring_types\u001b[0m\u001b[1;33m)\u001b[0m\u001b[1;33m:\u001b[0m\u001b[1;33m\u001b[0m\u001b[0m\n",
      "\u001b[1;31mTypeError\u001b[0m: numpy boolean subtract, the `-` operator, is deprecated, use the bitwise_xor, the `^` operator, or the logical_xor function instead."
     ]
    }
   ],
   "source": [
    "from sklearn import metrics\n",
    "y_tr=[y_w]\n",
    "y_pr=[y_w_pred_log]\n",
    "MSE_logreg_w = metrics.mean_squared_error(y_tr, y_pr)\n",
    "print('RMSE:', np.sqrt(MSE_logreg_w))"
   ]
  },
  {
   "cell_type": "markdown",
   "metadata": {},
   "source": [
    "# Exercise 6.7\n",
    "\n",
    "* Estimate a ridge regression with alpha equals 0.1 and 1.\n",
    "* Compare the coefficients with the linear regression\n",
    "* Evaluate the RMSE"
   ]
  },
  {
   "cell_type": "code",
   "execution_count": null,
   "metadata": {
    "collapsed": true
   },
   "outputs": [],
   "source": []
  },
  {
   "cell_type": "markdown",
   "metadata": {},
   "source": [
    "# Exercise 6.8\n",
    "\n",
    "* Estimate a lasso regression with alpha equals 0.01, 0.1 and 1.\n",
    "* Compare the coefficients with the linear regression\n",
    "* Evaluate the RMSE"
   ]
  },
  {
   "cell_type": "code",
   "execution_count": null,
   "metadata": {
    "collapsed": true
   },
   "outputs": [],
   "source": []
  },
  {
   "cell_type": "markdown",
   "metadata": {},
   "source": [
    "# Exercise 6.9\n",
    "\n",
    "* Create a binary target\n",
    "\n",
    "* Train a logistic regression to predict wine quality (binary)\n",
    "\n",
    "* Analyze the coefficients\n",
    "\n",
    "* Evaluate the f1score"
   ]
  },
  {
   "cell_type": "code",
   "execution_count": null,
   "metadata": {
    "collapsed": true
   },
   "outputs": [],
   "source": []
  },
  {
   "cell_type": "markdown",
   "metadata": {},
   "source": [
    "# Exercise 6.10\n",
    "\n",
    "* Estimate a regularized logistic regression using:\n",
    "* C = 0.01, 0.1 & 1.0\n",
    "* penalty = ['l1, 'l2']\n",
    "* Compare the coefficients and the f1score"
   ]
  },
  {
   "cell_type": "markdown",
   "metadata": {},
   "source": [
    "Usando regularización"
   ]
  },
  {
   "cell_type": "code",
   "execution_count": null,
   "metadata": {
    "collapsed": true
   },
   "outputs": [],
   "source": []
  },
  {
   "cell_type": "code",
   "execution_count": null,
   "metadata": {},
   "outputs": [],
   "source": []
  }
 ],
 "metadata": {
  "kernelspec": {
   "display_name": "Python 3",
   "language": "python",
   "name": "python3"
  },
  "language_info": {
   "codemirror_mode": {
    "name": "ipython",
    "version": 3
   },
   "file_extension": ".py",
   "mimetype": "text/x-python",
   "name": "python",
   "nbconvert_exporter": "python",
   "pygments_lexer": "ipython3",
   "version": "3.6.5"
  }
 },
 "nbformat": 4,
 "nbformat_minor": 1
}
