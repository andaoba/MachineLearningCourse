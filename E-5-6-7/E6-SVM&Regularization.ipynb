{
 "cells": [
  {
   "cell_type": "markdown",
   "metadata": {},
   "source": [
    "# Exercise 6\n",
    "***Andrés Mauricio Obando Acevedo***\n",
    "\n",
    "## SVM & Regularization\n",
    "\n",
    "\n",
    "For this homework we consider a set of observations on a number of red and white wine varieties involving their chemical properties and ranking by tasters. Wine industry shows a recent growth spurt as social drinking is on the rise. The price of wine depends on a rather abstract concept of wine appreciation by wine tasters, opinion among whom may have a high degree of variability. Pricing of wine depends on such a volatile factor to some extent. Another key factor in wine certification and quality assessment is physicochemical tests which are laboratory-based and takes into account factors like acidity, pH level, presence of sugar and other chemical properties. For the wine market, it would be of interest if human quality of tasting can be related to the chemical properties of wine so that certification and quality assessment and assurance process is more controlled.\n",
    "\n",
    "Two datasets are available of which one dataset is on red wine and have 1599 different varieties and the other is on white wine and have 4898 varieties. All wines are produced in a particular area of Portugal. Data are collected on 12 different properties of the wines one of which is Quality, based on sensory data, and the rest are on chemical properties of the wines including density, acidity, alcohol content etc. All chemical properties of wines are continuous variables. Quality is an ordinal variable with possible ranking from 1 (worst) to 10 (best). Each variety of wine is tasted by three independent tasters and the final rank assigned is the median rank given by the tasters.\n",
    "\n",
    "A predictive model developed on this data is expected to provide guidance to vineyards regarding quality and price expected on their produce without heavy reliance on volatility of wine tasters."
   ]
  },
  {
   "cell_type": "code",
   "execution_count": 26,
   "metadata": {},
   "outputs": [],
   "source": [
    "import pandas as pd\n",
    "import numpy as np"
   ]
  },
  {
   "cell_type": "code",
   "execution_count": 27,
   "metadata": {},
   "outputs": [],
   "source": [
    "data_r = pd.read_csv('https://github.com/albahnsen/PracticalMachineLearningClass/raw/master/datasets/Wine_data_red.csv')\n",
    "data_w = pd.read_csv('https://github.com/albahnsen/PracticalMachineLearningClass/raw/master/datasets/Wine_data_white.csv')"
   ]
  },
  {
   "cell_type": "code",
   "execution_count": 101,
   "metadata": {},
   "outputs": [
    {
     "data": {
      "text/html": [
       "<div>\n",
       "<style scoped>\n",
       "    .dataframe tbody tr th:only-of-type {\n",
       "        vertical-align: middle;\n",
       "    }\n",
       "\n",
       "    .dataframe tbody tr th {\n",
       "        vertical-align: top;\n",
       "    }\n",
       "\n",
       "    .dataframe thead th {\n",
       "        text-align: right;\n",
       "    }\n",
       "</style>\n",
       "<table border=\"1\" class=\"dataframe\">\n",
       "  <thead>\n",
       "    <tr style=\"text-align: right;\">\n",
       "      <th></th>\n",
       "      <th>fixed acidity</th>\n",
       "      <th>volatile acidity</th>\n",
       "      <th>citric acid</th>\n",
       "      <th>residual sugar</th>\n",
       "      <th>chlorides</th>\n",
       "      <th>free sulfur dioxide</th>\n",
       "      <th>total sulfur dioxide</th>\n",
       "      <th>density</th>\n",
       "      <th>pH</th>\n",
       "      <th>sulphates</th>\n",
       "      <th>alcohol</th>\n",
       "      <th>quality</th>\n",
       "      <th>type</th>\n",
       "    </tr>\n",
       "  </thead>\n",
       "  <tbody>\n",
       "    <tr>\n",
       "      <th>213</th>\n",
       "      <td>6.7</td>\n",
       "      <td>0.13</td>\n",
       "      <td>0.29</td>\n",
       "      <td>5.3</td>\n",
       "      <td>0.051</td>\n",
       "      <td>31.0</td>\n",
       "      <td>122.0</td>\n",
       "      <td>0.99440</td>\n",
       "      <td>3.44</td>\n",
       "      <td>0.37</td>\n",
       "      <td>9.7</td>\n",
       "      <td>6</td>\n",
       "      <td>white</td>\n",
       "    </tr>\n",
       "    <tr>\n",
       "      <th>2424</th>\n",
       "      <td>6.2</td>\n",
       "      <td>0.44</td>\n",
       "      <td>0.18</td>\n",
       "      <td>7.7</td>\n",
       "      <td>0.096</td>\n",
       "      <td>28.0</td>\n",
       "      <td>210.0</td>\n",
       "      <td>0.99771</td>\n",
       "      <td>3.56</td>\n",
       "      <td>0.72</td>\n",
       "      <td>9.2</td>\n",
       "      <td>5</td>\n",
       "      <td>white</td>\n",
       "    </tr>\n",
       "    <tr>\n",
       "      <th>1503</th>\n",
       "      <td>6.8</td>\n",
       "      <td>0.36</td>\n",
       "      <td>0.24</td>\n",
       "      <td>4.6</td>\n",
       "      <td>0.039</td>\n",
       "      <td>24.0</td>\n",
       "      <td>124.0</td>\n",
       "      <td>0.99090</td>\n",
       "      <td>3.27</td>\n",
       "      <td>0.34</td>\n",
       "      <td>12.6</td>\n",
       "      <td>7</td>\n",
       "      <td>white</td>\n",
       "    </tr>\n",
       "    <tr>\n",
       "      <th>4968</th>\n",
       "      <td>7.7</td>\n",
       "      <td>0.63</td>\n",
       "      <td>0.08</td>\n",
       "      <td>1.9</td>\n",
       "      <td>0.076</td>\n",
       "      <td>15.0</td>\n",
       "      <td>27.0</td>\n",
       "      <td>0.99670</td>\n",
       "      <td>3.32</td>\n",
       "      <td>0.54</td>\n",
       "      <td>9.5</td>\n",
       "      <td>6</td>\n",
       "      <td>red</td>\n",
       "    </tr>\n",
       "    <tr>\n",
       "      <th>3521</th>\n",
       "      <td>5.9</td>\n",
       "      <td>0.23</td>\n",
       "      <td>0.24</td>\n",
       "      <td>3.8</td>\n",
       "      <td>0.038</td>\n",
       "      <td>61.0</td>\n",
       "      <td>152.0</td>\n",
       "      <td>0.99139</td>\n",
       "      <td>3.31</td>\n",
       "      <td>0.50</td>\n",
       "      <td>11.3</td>\n",
       "      <td>7</td>\n",
       "      <td>white</td>\n",
       "    </tr>\n",
       "  </tbody>\n",
       "</table>\n",
       "</div>"
      ],
      "text/plain": [
       "      fixed acidity  volatile acidity  citric acid  residual sugar  chlorides  \\\n",
       "213             6.7              0.13         0.29             5.3      0.051   \n",
       "2424            6.2              0.44         0.18             7.7      0.096   \n",
       "1503            6.8              0.36         0.24             4.6      0.039   \n",
       "4968            7.7              0.63         0.08             1.9      0.076   \n",
       "3521            5.9              0.23         0.24             3.8      0.038   \n",
       "\n",
       "      free sulfur dioxide  total sulfur dioxide  density    pH  sulphates  \\\n",
       "213                  31.0                 122.0  0.99440  3.44       0.37   \n",
       "2424                 28.0                 210.0  0.99771  3.56       0.72   \n",
       "1503                 24.0                 124.0  0.99090  3.27       0.34   \n",
       "4968                 15.0                  27.0  0.99670  3.32       0.54   \n",
       "3521                 61.0                 152.0  0.99139  3.31       0.50   \n",
       "\n",
       "      alcohol  quality   type  \n",
       "213       9.7        6  white  \n",
       "2424      9.2        5  white  \n",
       "1503     12.6        7  white  \n",
       "4968      9.5        6    red  \n",
       "3521     11.3        7  white  "
      ]
     },
     "execution_count": 101,
     "metadata": {},
     "output_type": "execute_result"
    }
   ],
   "source": [
    "data = data_w.assign(type = 'white')\n",
    "\n",
    "data = data.append(data_r.assign(type = 'red'), ignore_index=True)\n",
    "data.sample(5)"
   ]
  },
  {
   "cell_type": "markdown",
   "metadata": {},
   "source": [
    "# Exercise 6.1\n",
    "\n",
    "Show the frecuency table of the quality by type of wine"
   ]
  },
  {
   "cell_type": "markdown",
   "metadata": {},
   "source": [
    "Se busca clasificar cuales son buenos y malos en binario"
   ]
  },
  {
   "cell_type": "code",
   "execution_count": 29,
   "metadata": {
    "scrolled": true
   },
   "outputs": [
    {
     "data": {
      "text/html": [
       "<div>\n",
       "<style scoped>\n",
       "    .dataframe tbody tr th:only-of-type {\n",
       "        vertical-align: middle;\n",
       "    }\n",
       "\n",
       "    .dataframe tbody tr th {\n",
       "        vertical-align: top;\n",
       "    }\n",
       "\n",
       "    .dataframe thead th {\n",
       "        text-align: right;\n",
       "    }\n",
       "</style>\n",
       "<table border=\"1\" class=\"dataframe\">\n",
       "  <thead>\n",
       "    <tr style=\"text-align: right;\">\n",
       "      <th></th>\n",
       "      <th>type</th>\n",
       "    </tr>\n",
       "    <tr>\n",
       "      <th>quality</th>\n",
       "      <th></th>\n",
       "    </tr>\n",
       "  </thead>\n",
       "  <tbody>\n",
       "    <tr>\n",
       "      <th>3</th>\n",
       "      <td>30</td>\n",
       "    </tr>\n",
       "    <tr>\n",
       "      <th>4</th>\n",
       "      <td>216</td>\n",
       "    </tr>\n",
       "    <tr>\n",
       "      <th>5</th>\n",
       "      <td>2138</td>\n",
       "    </tr>\n",
       "    <tr>\n",
       "      <th>6</th>\n",
       "      <td>2836</td>\n",
       "    </tr>\n",
       "    <tr>\n",
       "      <th>7</th>\n",
       "      <td>1079</td>\n",
       "    </tr>\n",
       "    <tr>\n",
       "      <th>8</th>\n",
       "      <td>193</td>\n",
       "    </tr>\n",
       "    <tr>\n",
       "      <th>9</th>\n",
       "      <td>5</td>\n",
       "    </tr>\n",
       "  </tbody>\n",
       "</table>\n",
       "</div>"
      ],
      "text/plain": [
       "         type\n",
       "quality      \n",
       "3          30\n",
       "4         216\n",
       "5        2138\n",
       "6        2836\n",
       "7        1079\n",
       "8         193\n",
       "9           5"
      ]
     },
     "execution_count": 29,
     "metadata": {},
     "output_type": "execute_result"
    }
   ],
   "source": [
    "data[['quality','type']].groupby('quality').count()"
   ]
  },
  {
   "cell_type": "markdown",
   "metadata": {},
   "source": [
    "# SVM"
   ]
  },
  {
   "cell_type": "markdown",
   "metadata": {},
   "source": [
    "# Exercise 6.2\n",
    "\n",
    "* Standarized the features (not the quality)\n",
    "* Create a binary target for each type of wine\n",
    "* Create two Linear SVM's for the white and red wines, repectively.\n"
   ]
  },
  {
   "cell_type": "markdown",
   "metadata": {},
   "source": [
    "before aply a stadarized model, is important to know the distribution of data, let's see:"
   ]
  },
  {
   "cell_type": "code",
   "execution_count": 76,
   "metadata": {},
   "outputs": [
    {
     "data": {
      "image/png": "[encoded data removed]",
      "text/plain": [
       "<Figure size 1080x720 with 12 Axes>"
      ]
     },
     "metadata": {},
     "output_type": "display_data"
    }
   ],
   "source": [
    "hist = data.hist(bins=9, layout=(3,4),figsize=(15,10))"
   ]
  },
  {
   "cell_type": "markdown",
   "metadata": {},
   "source": [
    "We can observe on histograms, that the data are in differente range each one, some are in decimals, others in units or hundreds; but, there are not values with frecuencies anormaly, so it's possible and necesary stadarize the features with the scope of give all the same weight with independency of their magnitude."
   ]
  },
  {
   "cell_type": "markdown",
   "metadata": {},
   "source": [
    "**Standarize**"
   ]
  },
  {
   "cell_type": "code",
   "execution_count": 81,
   "metadata": {},
   "outputs": [],
   "source": [
    "from sklearn.preprocessing import Normalizer\n",
    "X = data.drop(['quality','type'],axis=1)\n",
    "transformer = Normalizer().fit(X)\n",
    "X_normalized=transformer.transform(X)"
   ]
  },
  {
   "cell_type": "code",
   "execution_count": 93,
   "metadata": {},
   "outputs": [
    {
     "data": {
      "text/html": [
       "<div>\n",
       "<style scoped>\n",
       "    .dataframe tbody tr th:only-of-type {\n",
       "        vertical-align: middle;\n",
       "    }\n",
       "\n",
       "    .dataframe tbody tr th {\n",
       "        vertical-align: top;\n",
       "    }\n",
       "\n",
       "    .dataframe thead th {\n",
       "        text-align: right;\n",
       "    }\n",
       "</style>\n",
       "<table border=\"1\" class=\"dataframe\">\n",
       "  <thead>\n",
       "    <tr style=\"text-align: right;\">\n",
       "      <th></th>\n",
       "      <th>fixed acidity</th>\n",
       "      <th>volatile acidity</th>\n",
       "      <th>citric acid</th>\n",
       "      <th>residual sugar</th>\n",
       "      <th>chlorides</th>\n",
       "      <th>free sulfur dioxide</th>\n",
       "      <th>total sulfur dioxide</th>\n",
       "      <th>density</th>\n",
       "      <th>pH</th>\n",
       "      <th>sulphates</th>\n",
       "      <th>alcohol</th>\n",
       "    </tr>\n",
       "  </thead>\n",
       "  <tbody>\n",
       "    <tr>\n",
       "      <th>0</th>\n",
       "      <td>0.039447</td>\n",
       "      <td>0.001522</td>\n",
       "      <td>0.002029</td>\n",
       "      <td>0.116649</td>\n",
       "      <td>0.000254</td>\n",
       "      <td>0.253585</td>\n",
       "      <td>0.957988</td>\n",
       "      <td>0.005641</td>\n",
       "      <td>0.016906</td>\n",
       "      <td>0.002536</td>\n",
       "      <td>0.049590</td>\n",
       "    </tr>\n",
       "    <tr>\n",
       "      <th>1</th>\n",
       "      <td>0.047267</td>\n",
       "      <td>0.002251</td>\n",
       "      <td>0.002551</td>\n",
       "      <td>0.012004</td>\n",
       "      <td>0.000368</td>\n",
       "      <td>0.105038</td>\n",
       "      <td>0.990361</td>\n",
       "      <td>0.007458</td>\n",
       "      <td>0.024759</td>\n",
       "      <td>0.003676</td>\n",
       "      <td>0.071276</td>\n",
       "    </tr>\n",
       "    <tr>\n",
       "      <th>2</th>\n",
       "      <td>0.078912</td>\n",
       "      <td>0.002728</td>\n",
       "      <td>0.003897</td>\n",
       "      <td>0.067221</td>\n",
       "      <td>0.000487</td>\n",
       "      <td>0.292266</td>\n",
       "      <td>0.944992</td>\n",
       "      <td>0.009694</td>\n",
       "      <td>0.031760</td>\n",
       "      <td>0.004287</td>\n",
       "      <td>0.098396</td>\n",
       "    </tr>\n",
       "    <tr>\n",
       "      <th>3</th>\n",
       "      <td>0.037412</td>\n",
       "      <td>0.001195</td>\n",
       "      <td>0.001663</td>\n",
       "      <td>0.044166</td>\n",
       "      <td>0.000301</td>\n",
       "      <td>0.244214</td>\n",
       "      <td>0.966464</td>\n",
       "      <td>0.005173</td>\n",
       "      <td>0.016575</td>\n",
       "      <td>0.002078</td>\n",
       "      <td>0.051441</td>\n",
       "    </tr>\n",
       "    <tr>\n",
       "      <th>4</th>\n",
       "      <td>0.037412</td>\n",
       "      <td>0.001195</td>\n",
       "      <td>0.001663</td>\n",
       "      <td>0.044166</td>\n",
       "      <td>0.000301</td>\n",
       "      <td>0.244214</td>\n",
       "      <td>0.966464</td>\n",
       "      <td>0.005173</td>\n",
       "      <td>0.016575</td>\n",
       "      <td>0.002078</td>\n",
       "      <td>0.051441</td>\n",
       "    </tr>\n",
       "  </tbody>\n",
       "</table>\n",
       "</div>"
      ],
      "text/plain": [
       "   fixed acidity  volatile acidity  citric acid  residual sugar  chlorides  \\\n",
       "0       0.039447          0.001522     0.002029        0.116649   0.000254   \n",
       "1       0.047267          0.002251     0.002551        0.012004   0.000368   \n",
       "2       0.078912          0.002728     0.003897        0.067221   0.000487   \n",
       "3       0.037412          0.001195     0.001663        0.044166   0.000301   \n",
       "4       0.037412          0.001195     0.001663        0.044166   0.000301   \n",
       "\n",
       "   free sulfur dioxide  total sulfur dioxide   density        pH  sulphates  \\\n",
       "0             0.253585              0.957988  0.005641  0.016906   0.002536   \n",
       "1             0.105038              0.990361  0.007458  0.024759   0.003676   \n",
       "2             0.292266              0.944992  0.009694  0.031760   0.004287   \n",
       "3             0.244214              0.966464  0.005173  0.016575   0.002078   \n",
       "4             0.244214              0.966464  0.005173  0.016575   0.002078   \n",
       "\n",
       "    alcohol  \n",
       "0  0.049590  \n",
       "1  0.071276  \n",
       "2  0.098396  \n",
       "3  0.051441  \n",
       "4  0.051441  "
      ]
     },
     "execution_count": 93,
     "metadata": {},
     "output_type": "execute_result"
    }
   ],
   "source": [
    "X_norm = pd.DataFrame(columns=X.columns, data=X_normalized)\n",
    "X_norm.head()"
   ]
  },
  {
   "cell_type": "code",
   "execution_count": 103,
   "metadata": {},
   "outputs": [
    {
     "data": {
      "text/html": [
       "<div>\n",
       "<style scoped>\n",
       "    .dataframe tbody tr th:only-of-type {\n",
       "        vertical-align: middle;\n",
       "    }\n",
       "\n",
       "    .dataframe tbody tr th {\n",
       "        vertical-align: top;\n",
       "    }\n",
       "\n",
       "    .dataframe thead th {\n",
       "        text-align: right;\n",
       "    }\n",
       "</style>\n",
       "<table border=\"1\" class=\"dataframe\">\n",
       "  <thead>\n",
       "    <tr style=\"text-align: right;\">\n",
       "      <th></th>\n",
       "      <th>fixed acidity</th>\n",
       "      <th>volatile acidity</th>\n",
       "      <th>citric acid</th>\n",
       "      <th>residual sugar</th>\n",
       "      <th>chlorides</th>\n",
       "      <th>free sulfur dioxide</th>\n",
       "      <th>total sulfur dioxide</th>\n",
       "      <th>density</th>\n",
       "      <th>pH</th>\n",
       "      <th>sulphates</th>\n",
       "      <th>alcohol</th>\n",
       "      <th>quality</th>\n",
       "      <th>type</th>\n",
       "    </tr>\n",
       "  </thead>\n",
       "  <tbody>\n",
       "    <tr>\n",
       "      <th>1948</th>\n",
       "      <td>0.051214</td>\n",
       "      <td>0.001351</td>\n",
       "      <td>0.002205</td>\n",
       "      <td>0.009958</td>\n",
       "      <td>0.000327</td>\n",
       "      <td>0.263184</td>\n",
       "      <td>0.960266</td>\n",
       "      <td>0.007070</td>\n",
       "      <td>0.023758</td>\n",
       "      <td>0.004054</td>\n",
       "      <td>0.072553</td>\n",
       "      <td>7</td>\n",
       "      <td>white</td>\n",
       "    </tr>\n",
       "    <tr>\n",
       "      <th>1211</th>\n",
       "      <td>0.038298</td>\n",
       "      <td>0.001417</td>\n",
       "      <td>0.002046</td>\n",
       "      <td>0.035150</td>\n",
       "      <td>0.000336</td>\n",
       "      <td>0.146896</td>\n",
       "      <td>0.986304</td>\n",
       "      <td>0.005224</td>\n",
       "      <td>0.017260</td>\n",
       "      <td>0.001574</td>\n",
       "      <td>0.050889</td>\n",
       "      <td>5</td>\n",
       "      <td>white</td>\n",
       "    </tr>\n",
       "    <tr>\n",
       "      <th>2415</th>\n",
       "      <td>0.075019</td>\n",
       "      <td>0.002196</td>\n",
       "      <td>0.002745</td>\n",
       "      <td>0.021042</td>\n",
       "      <td>0.000457</td>\n",
       "      <td>0.210418</td>\n",
       "      <td>0.969755</td>\n",
       "      <td>0.009093</td>\n",
       "      <td>0.027263</td>\n",
       "      <td>0.004574</td>\n",
       "      <td>0.091486</td>\n",
       "      <td>5</td>\n",
       "      <td>white</td>\n",
       "    </tr>\n",
       "    <tr>\n",
       "      <th>926</th>\n",
       "      <td>0.063585</td>\n",
       "      <td>0.007006</td>\n",
       "      <td>0.001178</td>\n",
       "      <td>0.032970</td>\n",
       "      <td>0.000495</td>\n",
       "      <td>0.306152</td>\n",
       "      <td>0.942006</td>\n",
       "      <td>0.011695</td>\n",
       "      <td>0.039564</td>\n",
       "      <td>0.004475</td>\n",
       "      <td>0.109508</td>\n",
       "      <td>5</td>\n",
       "      <td>white</td>\n",
       "    </tr>\n",
       "    <tr>\n",
       "      <th>3993</th>\n",
       "      <td>0.057448</td>\n",
       "      <td>0.002401</td>\n",
       "      <td>0.002915</td>\n",
       "      <td>0.076311</td>\n",
       "      <td>0.000412</td>\n",
       "      <td>0.274376</td>\n",
       "      <td>0.951742</td>\n",
       "      <td>0.008528</td>\n",
       "      <td>0.027866</td>\n",
       "      <td>0.004630</td>\n",
       "      <td>0.094317</td>\n",
       "      <td>7</td>\n",
       "      <td>white</td>\n",
       "    </tr>\n",
       "  </tbody>\n",
       "</table>\n",
       "</div>"
      ],
      "text/plain": [
       "      fixed acidity  volatile acidity  citric acid  residual sugar  chlorides  \\\n",
       "1948       0.051214          0.001351     0.002205        0.009958   0.000327   \n",
       "1211       0.038298          0.001417     0.002046        0.035150   0.000336   \n",
       "2415       0.075019          0.002196     0.002745        0.021042   0.000457   \n",
       "926        0.063585          0.007006     0.001178        0.032970   0.000495   \n",
       "3993       0.057448          0.002401     0.002915        0.076311   0.000412   \n",
       "\n",
       "      free sulfur dioxide  total sulfur dioxide   density        pH  \\\n",
       "1948             0.263184              0.960266  0.007070  0.023758   \n",
       "1211             0.146896              0.986304  0.005224  0.017260   \n",
       "2415             0.210418              0.969755  0.009093  0.027263   \n",
       "926              0.306152              0.942006  0.011695  0.039564   \n",
       "3993             0.274376              0.951742  0.008528  0.027866   \n",
       "\n",
       "      sulphates   alcohol  quality   type  \n",
       "1948   0.004054  0.072553        7  white  \n",
       "1211   0.001574  0.050889        5  white  \n",
       "2415   0.004574  0.091486        5  white  \n",
       "926    0.004475  0.109508        5  white  \n",
       "3993   0.004630  0.094317        7  white  "
      ]
     },
     "execution_count": 103,
     "metadata": {},
     "output_type": "execute_result"
    }
   ],
   "source": [
    "data2=pd.concat([X_norm,data[['quality','type']]], axis=1,join='inner')\n",
    "data2.sample(5)"
   ]
  },
  {
   "cell_type": "markdown",
   "metadata": {},
   "source": [
    "**Binary Target**"
   ]
  },
  {
   "cell_type": "code",
   "execution_count": 104,
   "metadata": {},
   "outputs": [],
   "source": [
    "data2['quality2'] = data2['quality'] > 6"
   ]
  },
  {
   "cell_type": "code",
   "execution_count": 105,
   "metadata": {},
   "outputs": [
    {
     "data": {
      "text/plain": [
       "((4898, 14), (1599, 14))"
      ]
     },
     "execution_count": 105,
     "metadata": {},
     "output_type": "execute_result"
    }
   ],
   "source": [
    "data_white=data2[data2['type']=='white']\n",
    "data_red=data2[data2['type']=='red']\n",
    "data_white.shape,data_red.shape"
   ]
  },
  {
   "cell_type": "markdown",
   "metadata": {},
   "source": [
    "**Linear SVM**"
   ]
  },
  {
   "cell_type": "code",
   "execution_count": 136,
   "metadata": {},
   "outputs": [],
   "source": [
    "from sklearn.svm import SVC # \"Support Vector Classifier\"\n",
    "y_w = data_white['quality2']\n",
    "X_w = data_white.drop(['quality','type'],axis=1)\n",
    "\n",
    "y_r = data_red['quality2']\n",
    "X_r = data_red.drop(['quality','type'],axis=1)"
   ]
  },
  {
   "cell_type": "markdown",
   "metadata": {
    "collapsed": true
   },
   "source": [
    "**_White wine_**"
   ]
  },
  {
   "cell_type": "code",
   "execution_count": 137,
   "metadata": {},
   "outputs": [
    {
     "data": {
      "text/plain": [
       "SVC(C=1.0, cache_size=200, class_weight=None, coef0=0.0,\n",
       "  decision_function_shape='ovr', degree=3, gamma='auto', kernel='linear',\n",
       "  max_iter=-1, probability=False, random_state=None, shrinking=True,\n",
       "  tol=0.001, verbose=False)"
      ]
     },
     "execution_count": 137,
     "metadata": {},
     "output_type": "execute_result"
    }
   ],
   "source": [
    "clf_WW = SVC(kernel='linear')\n",
    "clf_WW.fit(X_w, y_w)"
   ]
  },
  {
   "cell_type": "code",
   "execution_count": 138,
   "metadata": {},
   "outputs": [],
   "source": [
    "y_w_pred = clf_WW.predict(X_w)"
   ]
  },
  {
   "cell_type": "markdown",
   "metadata": {},
   "source": [
    "**_Red wine_**"
   ]
  },
  {
   "cell_type": "code",
   "execution_count": 139,
   "metadata": {
    "scrolled": true
   },
   "outputs": [
    {
     "data": {
      "text/plain": [
       "SVC(C=1.0, cache_size=200, class_weight=None, coef0=0.0,\n",
       "  decision_function_shape='ovr', degree=3, gamma='auto', kernel='linear',\n",
       "  max_iter=-1, probability=False, random_state=None, shrinking=True,\n",
       "  tol=0.001, verbose=False)"
      ]
     },
     "execution_count": 139,
     "metadata": {},
     "output_type": "execute_result"
    }
   ],
   "source": [
    "clf_rw = SVC(kernel='linear')\n",
    "clf_rw.fit(X_r, y_r)"
   ]
  },
  {
   "cell_type": "code",
   "execution_count": 140,
   "metadata": {},
   "outputs": [],
   "source": [
    "y_r_pred = clf_WW.predict(X_r)"
   ]
  },
  {
   "cell_type": "markdown",
   "metadata": {},
   "source": [
    "# Exercise 6.3\n",
    "\n",
    "Test the two SVM's using the different kernels (‘poly’, ‘rbf’, ‘sigmoid’)\n"
   ]
  },
  {
   "cell_type": "code",
   "execution_count": 141,
   "metadata": {},
   "outputs": [],
   "source": [
    "from sklearn.metrics import accuracy_score"
   ]
  },
  {
   "cell_type": "markdown",
   "metadata": {},
   "source": [
    "Accuracy for linear SVM"
   ]
  },
  {
   "cell_type": "code",
   "execution_count": 142,
   "metadata": {},
   "outputs": [
    {
     "data": {
      "text/plain": [
       "(1.0, 1.0)"
      ]
     },
     "execution_count": 142,
     "metadata": {},
     "output_type": "execute_result"
    }
   ],
   "source": [
    "w_acc_lin=accuracy_score(y_w, y_w_pred, normalize=True)\n",
    "r_acc_lin=accuracy_score(y_r, y_r_pred, normalize=True)\n",
    "w_acc_lin,r_acc_lin"
   ]
  },
  {
   "cell_type": "markdown",
   "metadata": {
    "collapsed": true
   },
   "source": [
    "Now, let' try with differents kernels and compare the accuracy of each."
   ]
  },
  {
   "cell_type": "markdown",
   "metadata": {},
   "source": [
    "_White wine:_"
   ]
  },
  {
   "cell_type": "code",
   "execution_count": 157,
   "metadata": {},
   "outputs": [
    {
     "name": "stdout",
     "output_type": "stream",
     "text": [
      "WW_Acc_linear: 1.0\n",
      "WW_Acc_poly: 1.0\n",
      "WW_Acc_rbf: 1.0\n",
      "WW_Acc_sigmoid: 1.0\n"
     ]
    }
   ],
   "source": [
    "kernels=['linear','poly', 'rbf', 'sigmoid']\n",
    "accuracyname=['A_w_poly', 'A_w_rbf', 'A_w_sigmoid']\n",
    "Acc_val = []\n",
    "for k in range(len(kernels)):\n",
    "    clf_WW_r = SVC(kernel=kernels[k])\n",
    "    clf_WW_r.fit(X_w, y_w)\n",
    "    y_w_pred_r = clf_WW_r.predict(X_w)\n",
    "    Acc_val.append(accuracy_score(y_w, y_w_pred_r, normalize=True))\n",
    "    print('WW_Acc_'+kernels[k]+':',Acc_val[k])"
   ]
  },
  {
   "cell_type": "code",
   "execution_count": 144,
   "metadata": {},
   "outputs": [],
   "source": [
    "from sklearn.metrics import f1_score"
   ]
  },
  {
   "cell_type": "code",
   "execution_count": 158,
   "metadata": {},
   "outputs": [
    {
     "name": "stdout",
     "output_type": "stream",
     "text": [
      "WW_f1_linear: 1.0\n",
      "WW_f1_poly: 1.0\n",
      "WW_f1_rbf: 1.0\n",
      "WW_f1_sigmoid: 1.0\n"
     ]
    }
   ],
   "source": [
    "Acc_val = []\n",
    "for k in range(len(kernels)):\n",
    "    clf_WW_r = SVC(kernel=kernels[k])\n",
    "    clf_WW_r.fit(X_w, y_w)\n",
    "    y_w_pred_r = clf_WW_r.predict(X_w)\n",
    "    Acc_val.append(f1_score(y_w, y_w_pred_r, average='binary'))\n",
    "    print('WW_f1_'+kernels[k]+':',Acc_val[k])"
   ]
  },
  {
   "cell_type": "markdown",
   "metadata": {},
   "source": [
    "_Red wine:_"
   ]
  },
  {
   "cell_type": "code",
   "execution_count": 159,
   "metadata": {},
   "outputs": [
    {
     "name": "stdout",
     "output_type": "stream",
     "text": [
      "RW_Acc_linear: 1.0\n",
      "RW_Acc_poly: 1.0\n",
      "RW_Acc_rbf: 1.0\n",
      "RW_Acc_sigmoid: 1.0\n"
     ]
    }
   ],
   "source": [
    "Acc_val = []\n",
    "for k in range(len(kernels)):\n",
    "    clf_RW_r = SVC(kernel=kernels[k])\n",
    "    clf_RW_r.fit(X_w, y_w)\n",
    "    y_r_pred_r = clf_RW_r.predict(X_r)\n",
    "    Acc_val.append(accuracy_score(y_r, y_r_pred_r, normalize=True))\n",
    "    print('RW_Acc_'+kernels[k]+':',Acc_val[k])"
   ]
  },
  {
   "cell_type": "markdown",
   "metadata": {},
   "source": [
    "# Exercise 6.4\n",
    "Using the best SVM find the parameters that gives the best performance\n",
    "\n",
    "'C': [0.1, 1, 10, 100, 1000], 'gamma': [0.01, 0.001, 0.0001]"
   ]
  },
  {
   "cell_type": "markdown",
   "metadata": {},
   "source": [
    "Se evalua con la clasificación: el accuracy"
   ]
  },
  {
   "cell_type": "code",
   "execution_count": null,
   "metadata": {
    "collapsed": true
   },
   "outputs": [],
   "source": []
  },
  {
   "cell_type": "markdown",
   "metadata": {},
   "source": [
    "# Exercise 6.5\n",
    "\n",
    "Compare the results with other methods"
   ]
  },
  {
   "cell_type": "markdown",
   "metadata": {},
   "source": [
    "Se compara con LOGIT"
   ]
  },
  {
   "cell_type": "code",
   "execution_count": null,
   "metadata": {
    "collapsed": true
   },
   "outputs": [],
   "source": []
  },
  {
   "cell_type": "markdown",
   "metadata": {},
   "source": [
    "# Regularization"
   ]
  },
  {
   "cell_type": "markdown",
   "metadata": {},
   "source": [
    "# Exercise 6.6\n",
    "\n",
    "\n",
    "* Train a linear regression to predict wine quality (Continous) (Lo mismo del 6.5)\n",
    "\n",
    "* Analyze the coefficients\n",
    "\n",
    "* Evaluate the RMSE"
   ]
  },
  {
   "cell_type": "code",
   "execution_count": null,
   "metadata": {
    "collapsed": true
   },
   "outputs": [],
   "source": []
  },
  {
   "cell_type": "markdown",
   "metadata": {},
   "source": [
    "# Exercise 6.7\n",
    "\n",
    "* Estimate a ridge regression with alpha equals 0.1 and 1.\n",
    "* Compare the coefficients with the linear regression\n",
    "* Evaluate the RMSE"
   ]
  },
  {
   "cell_type": "code",
   "execution_count": null,
   "metadata": {
    "collapsed": true
   },
   "outputs": [],
   "source": []
  },
  {
   "cell_type": "markdown",
   "metadata": {},
   "source": [
    "# Exercise 6.8\n",
    "\n",
    "* Estimate a lasso regression with alpha equals 0.01, 0.1 and 1.\n",
    "* Compare the coefficients with the linear regression\n",
    "* Evaluate the RMSE"
   ]
  },
  {
   "cell_type": "code",
   "execution_count": null,
   "metadata": {
    "collapsed": true
   },
   "outputs": [],
   "source": []
  },
  {
   "cell_type": "markdown",
   "metadata": {},
   "source": [
    "# Exercise 6.9\n",
    "\n",
    "* Create a binary target\n",
    "\n",
    "* Train a logistic regression to predict wine quality (binary)\n",
    "\n",
    "* Analyze the coefficients\n",
    "\n",
    "* Evaluate the f1score"
   ]
  },
  {
   "cell_type": "code",
   "execution_count": null,
   "metadata": {
    "collapsed": true
   },
   "outputs": [],
   "source": []
  },
  {
   "cell_type": "markdown",
   "metadata": {},
   "source": [
    "# Exercise 6.10\n",
    "\n",
    "* Estimate a regularized logistic regression using:\n",
    "* C = 0.01, 0.1 & 1.0\n",
    "* penalty = ['l1, 'l2']\n",
    "* Compare the coefficients and the f1score"
   ]
  },
  {
   "cell_type": "markdown",
   "metadata": {},
   "source": [
    "Usando regularización"
   ]
  },
  {
   "cell_type": "code",
   "execution_count": null,
   "metadata": {
    "collapsed": true
   },
   "outputs": [],
   "source": []
  },
  {
   "cell_type": "code",
   "execution_count": null,
   "metadata": {},
   "outputs": [],
   "source": []
  }
 ],
 "metadata": {
  "kernelspec": {
   "display_name": "Python 3",
   "language": "python",
   "name": "python3"
  },
  "language_info": {
   "codemirror_mode": {
    "name": "ipython",
    "version": 3
   },
   "file_extension": ".py",
   "mimetype": "text/x-python",
   "name": "python",
   "nbconvert_exporter": "python",
   "pygments_lexer": "ipython3",
   "version": "3.6.5"
  }
 },
 "nbformat": 4,
 "nbformat_minor": 1
}
