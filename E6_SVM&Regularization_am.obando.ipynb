{
 "cells": [
  {
   "cell_type": "markdown",
   "metadata": {
    "colab_type": "text",
    "id": "Xh96MXk-EX7h"
   },
   "source": [
    "# Exercise 6\n",
    "***Andrés Mauricio Obando Acevedo***\n",
    "\n",
    "## SVM & Regularization\n",
    "\n",
    "\n",
    "For this homework we consider a set of observations on a number of red and white wine varieties involving their chemical properties and ranking by tasters. Wine industry shows a recent growth spurt as social drinking is on the rise. The price of wine depends on a rather abstract concept of wine appreciation by wine tasters, opinion among whom may have a high degree of variability. Pricing of wine depends on such a volatile factor to some extent. Another key factor in wine certification and quality assessment is physicochemical tests which are laboratory-based and takes into account factors like acidity, pH level, presence of sugar and other chemical properties. For the wine market, it would be of interest if human quality of tasting can be related to the chemical properties of wine so that certification and quality assessment and assurance process is more controlled.\n",
    "\n",
    "Two datasets are available of which one dataset is on red wine and have 1599 different varieties and the other is on white wine and have 4898 varieties. All wines are produced in a particular area of Portugal. Data are collected on 12 different properties of the wines one of which is Quality, based on sensory data, and the rest are on chemical properties of the wines including density, acidity, alcohol content etc. All chemical properties of wines are continuous variables. Quality is an ordinal variable with possible ranking from 1 (worst) to 10 (best). Each variety of wine is tasted by three independent tasters and the final rank assigned is the median rank given by the tasters.\n",
    "\n",
    "A predictive model developed on this data is expected to provide guidance to vineyards regarding quality and price expected on their produce without heavy reliance on volatility of wine tasters."
   ]
  },
  {
   "cell_type": "code",
   "execution_count": 98,
   "metadata": {
    "colab": {},
    "colab_type": "code",
    "id": "_-_n1C34EX7h"
   },
   "outputs": [],
   "source": [
    "import pandas as pd\n",
    "import numpy as np"
   ]
  },
  {
   "cell_type": "code",
   "execution_count": 99,
   "metadata": {
    "colab": {},
    "colab_type": "code",
    "id": "2hjEJRQpEX7x"
   },
   "outputs": [],
   "source": [
    "data_r = pd.read_csv('https://github.com/albahnsen/PracticalMachineLearningClass/raw/master/datasets/Wine_data_red.csv')\n",
    "data_w = pd.read_csv('https://github.com/albahnsen/PracticalMachineLearningClass/raw/master/datasets/Wine_data_white.csv')"
   ]
  },
  {
   "cell_type": "code",
   "execution_count": 100,
   "metadata": {
    "colab": {
     "base_uri": "https://localhost:8080/",
     "height": 221
    },
    "colab_type": "code",
    "id": "xL2sWnEsEX8B",
    "outputId": "344593b3-5f1f-427d-afe6-fbd7fa626953"
   },
   "outputs": [
    {
     "data": {
      "text/html": [
       "<div>\n",
       "<style scoped>\n",
       "    .dataframe tbody tr th:only-of-type {\n",
       "        vertical-align: middle;\n",
       "    }\n",
       "\n",
       "    .dataframe tbody tr th {\n",
       "        vertical-align: top;\n",
       "    }\n",
       "\n",
       "    .dataframe thead th {\n",
       "        text-align: right;\n",
       "    }\n",
       "</style>\n",
       "<table border=\"1\" class=\"dataframe\">\n",
       "  <thead>\n",
       "    <tr style=\"text-align: right;\">\n",
       "      <th></th>\n",
       "      <th>fixed acidity</th>\n",
       "      <th>volatile acidity</th>\n",
       "      <th>citric acid</th>\n",
       "      <th>residual sugar</th>\n",
       "      <th>chlorides</th>\n",
       "      <th>free sulfur dioxide</th>\n",
       "      <th>total sulfur dioxide</th>\n",
       "      <th>density</th>\n",
       "      <th>pH</th>\n",
       "      <th>sulphates</th>\n",
       "      <th>alcohol</th>\n",
       "      <th>quality</th>\n",
       "      <th>type</th>\n",
       "    </tr>\n",
       "  </thead>\n",
       "  <tbody>\n",
       "    <tr>\n",
       "      <th>5061</th>\n",
       "      <td>7.4</td>\n",
       "      <td>0.60</td>\n",
       "      <td>0.26</td>\n",
       "      <td>7.30</td>\n",
       "      <td>0.070</td>\n",
       "      <td>36.0</td>\n",
       "      <td>121.0</td>\n",
       "      <td>0.99820</td>\n",
       "      <td>3.37</td>\n",
       "      <td>0.49</td>\n",
       "      <td>9.4</td>\n",
       "      <td>5</td>\n",
       "      <td>red</td>\n",
       "    </tr>\n",
       "    <tr>\n",
       "      <th>5120</th>\n",
       "      <td>6.8</td>\n",
       "      <td>0.61</td>\n",
       "      <td>0.04</td>\n",
       "      <td>1.50</td>\n",
       "      <td>0.057</td>\n",
       "      <td>5.0</td>\n",
       "      <td>10.0</td>\n",
       "      <td>0.99525</td>\n",
       "      <td>3.42</td>\n",
       "      <td>0.60</td>\n",
       "      <td>9.5</td>\n",
       "      <td>5</td>\n",
       "      <td>red</td>\n",
       "    </tr>\n",
       "    <tr>\n",
       "      <th>2177</th>\n",
       "      <td>6.0</td>\n",
       "      <td>0.34</td>\n",
       "      <td>0.24</td>\n",
       "      <td>5.40</td>\n",
       "      <td>0.060</td>\n",
       "      <td>23.0</td>\n",
       "      <td>126.0</td>\n",
       "      <td>0.99510</td>\n",
       "      <td>3.25</td>\n",
       "      <td>0.44</td>\n",
       "      <td>9.0</td>\n",
       "      <td>7</td>\n",
       "      <td>white</td>\n",
       "    </tr>\n",
       "    <tr>\n",
       "      <th>731</th>\n",
       "      <td>6.2</td>\n",
       "      <td>0.25</td>\n",
       "      <td>0.48</td>\n",
       "      <td>10.00</td>\n",
       "      <td>0.044</td>\n",
       "      <td>78.0</td>\n",
       "      <td>240.0</td>\n",
       "      <td>0.99655</td>\n",
       "      <td>3.25</td>\n",
       "      <td>0.47</td>\n",
       "      <td>9.5</td>\n",
       "      <td>6</td>\n",
       "      <td>white</td>\n",
       "    </tr>\n",
       "    <tr>\n",
       "      <th>6079</th>\n",
       "      <td>9.8</td>\n",
       "      <td>0.39</td>\n",
       "      <td>0.43</td>\n",
       "      <td>1.65</td>\n",
       "      <td>0.068</td>\n",
       "      <td>5.0</td>\n",
       "      <td>11.0</td>\n",
       "      <td>0.99478</td>\n",
       "      <td>3.19</td>\n",
       "      <td>0.46</td>\n",
       "      <td>11.4</td>\n",
       "      <td>5</td>\n",
       "      <td>red</td>\n",
       "    </tr>\n",
       "  </tbody>\n",
       "</table>\n",
       "</div>"
      ],
      "text/plain": [
       "      fixed acidity  volatile acidity  citric acid  residual sugar  chlorides  \\\n",
       "5061            7.4              0.60         0.26            7.30      0.070   \n",
       "5120            6.8              0.61         0.04            1.50      0.057   \n",
       "2177            6.0              0.34         0.24            5.40      0.060   \n",
       "731             6.2              0.25         0.48           10.00      0.044   \n",
       "6079            9.8              0.39         0.43            1.65      0.068   \n",
       "\n",
       "      free sulfur dioxide  total sulfur dioxide  density    pH  sulphates  \\\n",
       "5061                 36.0                 121.0  0.99820  3.37       0.49   \n",
       "5120                  5.0                  10.0  0.99525  3.42       0.60   \n",
       "2177                 23.0                 126.0  0.99510  3.25       0.44   \n",
       "731                  78.0                 240.0  0.99655  3.25       0.47   \n",
       "6079                  5.0                  11.0  0.99478  3.19       0.46   \n",
       "\n",
       "      alcohol  quality   type  \n",
       "5061      9.4        5    red  \n",
       "5120      9.5        5    red  \n",
       "2177      9.0        7  white  \n",
       "731       9.5        6  white  \n",
       "6079     11.4        5    red  "
      ]
     },
     "execution_count": 100,
     "metadata": {},
     "output_type": "execute_result"
    }
   ],
   "source": [
    "data = data_w.assign(type = 'white')\n",
    "\n",
    "data = data.append(data_r.assign(type = 'red'), ignore_index=True)\n",
    "data.sample(5)"
   ]
  },
  {
   "cell_type": "markdown",
   "metadata": {
    "colab_type": "text",
    "id": "wT6vwG5TEX8Q"
   },
   "source": [
    "# Exercise 6.1\n",
    "\n",
    "Show the frecuency table of the quality by type of wine"
   ]
  },
  {
   "cell_type": "code",
   "execution_count": 101,
   "metadata": {
    "colab": {
     "base_uri": "https://localhost:8080/",
     "height": 297
    },
    "colab_type": "code",
    "id": "7aISoXnoEX8h",
    "outputId": "c5316e63-541f-4e3a-c472-253321731f7a",
    "scrolled": true
   },
   "outputs": [
    {
     "data": {
      "text/html": [
       "<div>\n",
       "<style scoped>\n",
       "    .dataframe tbody tr th:only-of-type {\n",
       "        vertical-align: middle;\n",
       "    }\n",
       "\n",
       "    .dataframe tbody tr th {\n",
       "        vertical-align: top;\n",
       "    }\n",
       "\n",
       "    .dataframe thead th {\n",
       "        text-align: right;\n",
       "    }\n",
       "</style>\n",
       "<table border=\"1\" class=\"dataframe\">\n",
       "  <thead>\n",
       "    <tr style=\"text-align: right;\">\n",
       "      <th></th>\n",
       "      <th>type</th>\n",
       "    </tr>\n",
       "    <tr>\n",
       "      <th>quality</th>\n",
       "      <th></th>\n",
       "    </tr>\n",
       "  </thead>\n",
       "  <tbody>\n",
       "    <tr>\n",
       "      <th>3</th>\n",
       "      <td>30</td>\n",
       "    </tr>\n",
       "    <tr>\n",
       "      <th>4</th>\n",
       "      <td>216</td>\n",
       "    </tr>\n",
       "    <tr>\n",
       "      <th>5</th>\n",
       "      <td>2138</td>\n",
       "    </tr>\n",
       "    <tr>\n",
       "      <th>6</th>\n",
       "      <td>2836</td>\n",
       "    </tr>\n",
       "    <tr>\n",
       "      <th>7</th>\n",
       "      <td>1079</td>\n",
       "    </tr>\n",
       "    <tr>\n",
       "      <th>8</th>\n",
       "      <td>193</td>\n",
       "    </tr>\n",
       "    <tr>\n",
       "      <th>9</th>\n",
       "      <td>5</td>\n",
       "    </tr>\n",
       "  </tbody>\n",
       "</table>\n",
       "</div>"
      ],
      "text/plain": [
       "         type\n",
       "quality      \n",
       "3          30\n",
       "4         216\n",
       "5        2138\n",
       "6        2836\n",
       "7        1079\n",
       "8         193\n",
       "9           5"
      ]
     },
     "execution_count": 101,
     "metadata": {},
     "output_type": "execute_result"
    }
   ],
   "source": [
    "data[['quality','type']].groupby('quality').count()"
   ]
  },
  {
   "cell_type": "markdown",
   "metadata": {
    "colab_type": "text",
    "id": "TbMMC5AhEX8h"
   },
   "source": [
    "# SVM"
   ]
  },
  {
   "cell_type": "markdown",
   "metadata": {
    "colab_type": "text",
    "id": "c34PdHS5EX8h"
   },
   "source": [
    "# Exercise 6.2\n",
    "\n",
    "* Standarized the features (not the quality)\n",
    "* Create a binary target for each type of wine\n",
    "* Create two Linear SVM's for the white and red wines, repectively.\n"
   ]
  },
  {
   "cell_type": "markdown",
   "metadata": {
    "colab_type": "text",
    "id": "AiLjluzrEX8w"
   },
   "source": [
    "before aply a stadarized model, is important to know the distribution of data, let's see:"
   ]
  },
  {
   "cell_type": "code",
   "execution_count": 102,
   "metadata": {
    "colab": {
     "base_uri": "https://localhost:8080/",
     "height": 606
    },
    "colab_type": "code",
    "id": "9_-uxo0uEX8w",
    "outputId": "681bdd6d-b8f8-474d-a55c-0c2bdbab021e"
   },
   "outputs": [
    {
     "data": {
      "image/png": "[encoded data removed]",
      "text/plain": [
       "<Figure size 1080x720 with 12 Axes>"
      ]
     },
     "metadata": {},
     "output_type": "display_data"
    }
   ],
   "source": [
    "hist = data.hist(bins=9, layout=(3,4),figsize=(15,10))"
   ]
  },
  {
   "cell_type": "markdown",
   "metadata": {
    "colab_type": "text",
    "id": "W3beYyITEX8w"
   },
   "source": [
    "We can observe on histograms, that the data are in differente range each one, some are in decimals, others in units or hundreds; but, there are not values with frecuencies anormaly, so it's possible and necesary stadarize the features with the scope of give all the same weight with independency of their magnitude."
   ]
  },
  {
   "cell_type": "markdown",
   "metadata": {
    "colab_type": "text",
    "id": "v6LIU-eDEX8w"
   },
   "source": [
    "**Standarize**"
   ]
  },
  {
   "cell_type": "code",
   "execution_count": 103,
   "metadata": {
    "colab": {},
    "colab_type": "code",
    "id": "Ge45c8zbEX9A"
   },
   "outputs": [],
   "source": [
    "from sklearn.preprocessing import Normalizer\n",
    "X = data.drop(['quality','type'],axis=1)\n",
    "transformer = Normalizer().fit(X)\n",
    "X_normalized=transformer.transform(X)"
   ]
  },
  {
   "cell_type": "code",
   "execution_count": 104,
   "metadata": {
    "colab": {},
    "colab_type": "code",
    "id": "WMsyUV4ZkEbx"
   },
   "outputs": [],
   "source": [
    "from sklearn.preprocessing import StandardScaler\n",
    "X = data.drop(['quality','type'],axis=1)\n",
    "transformer = StandardScaler().fit(X)\n",
    "X_normalized=transformer.transform(X)"
   ]
  },
  {
   "cell_type": "code",
   "execution_count": 105,
   "metadata": {
    "colab": {
     "base_uri": "https://localhost:8080/",
     "height": 606
    },
    "colab_type": "code",
    "id": "VxXDJ4lBGf8G",
    "outputId": "96128286-0747-4017-9e90-e5a3db7017f4"
   },
   "outputs": [
    {
     "data": {
      "image/png": "[encoded data removed]",
      "text/plain": [
       "<Figure size 1080x720 with 12 Axes>"
      ]
     },
     "metadata": {},
     "output_type": "display_data"
    }
   ],
   "source": [
    "hist2 = pd.DataFrame(columns=X.columns, data=X_normalized).hist(bins=9, layout=(3,4),figsize=(15,10))"
   ]
  },
  {
   "cell_type": "code",
   "execution_count": 106,
   "metadata": {
    "colab": {
     "base_uri": "https://localhost:8080/",
     "height": 204
    },
    "colab_type": "code",
    "id": "ZgoyninqEX9A",
    "outputId": "8c1d0504-718e-4ec9-d04e-0c0cd1feb96f"
   },
   "outputs": [
    {
     "data": {
      "text/html": [
       "<div>\n",
       "<style scoped>\n",
       "    .dataframe tbody tr th:only-of-type {\n",
       "        vertical-align: middle;\n",
       "    }\n",
       "\n",
       "    .dataframe tbody tr th {\n",
       "        vertical-align: top;\n",
       "    }\n",
       "\n",
       "    .dataframe thead th {\n",
       "        text-align: right;\n",
       "    }\n",
       "</style>\n",
       "<table border=\"1\" class=\"dataframe\">\n",
       "  <thead>\n",
       "    <tr style=\"text-align: right;\">\n",
       "      <th></th>\n",
       "      <th>fixed acidity</th>\n",
       "      <th>volatile acidity</th>\n",
       "      <th>citric acid</th>\n",
       "      <th>residual sugar</th>\n",
       "      <th>chlorides</th>\n",
       "      <th>free sulfur dioxide</th>\n",
       "      <th>total sulfur dioxide</th>\n",
       "      <th>density</th>\n",
       "      <th>pH</th>\n",
       "      <th>sulphates</th>\n",
       "      <th>alcohol</th>\n",
       "    </tr>\n",
       "  </thead>\n",
       "  <tbody>\n",
       "    <tr>\n",
       "      <th>0</th>\n",
       "      <td>-0.166089</td>\n",
       "      <td>-0.423183</td>\n",
       "      <td>0.284686</td>\n",
       "      <td>3.206929</td>\n",
       "      <td>-0.314975</td>\n",
       "      <td>0.815565</td>\n",
       "      <td>0.959976</td>\n",
       "      <td>2.102214</td>\n",
       "      <td>-1.359049</td>\n",
       "      <td>-0.546178</td>\n",
       "      <td>-1.418558</td>\n",
       "    </tr>\n",
       "    <tr>\n",
       "      <th>1</th>\n",
       "      <td>-0.706073</td>\n",
       "      <td>-0.240949</td>\n",
       "      <td>0.147046</td>\n",
       "      <td>-0.807837</td>\n",
       "      <td>-0.200790</td>\n",
       "      <td>-0.931107</td>\n",
       "      <td>0.287618</td>\n",
       "      <td>-0.232332</td>\n",
       "      <td>0.506915</td>\n",
       "      <td>-0.277351</td>\n",
       "      <td>-0.831615</td>\n",
       "    </tr>\n",
       "    <tr>\n",
       "      <th>2</th>\n",
       "      <td>0.682458</td>\n",
       "      <td>-0.362438</td>\n",
       "      <td>0.559966</td>\n",
       "      <td>0.306208</td>\n",
       "      <td>-0.172244</td>\n",
       "      <td>-0.029599</td>\n",
       "      <td>-0.331660</td>\n",
       "      <td>0.134525</td>\n",
       "      <td>0.258120</td>\n",
       "      <td>-0.613385</td>\n",
       "      <td>-0.328521</td>\n",
       "    </tr>\n",
       "    <tr>\n",
       "      <th>3</th>\n",
       "      <td>-0.011808</td>\n",
       "      <td>-0.666161</td>\n",
       "      <td>0.009406</td>\n",
       "      <td>0.642523</td>\n",
       "      <td>0.056126</td>\n",
       "      <td>0.928254</td>\n",
       "      <td>1.243074</td>\n",
       "      <td>0.301278</td>\n",
       "      <td>-0.177272</td>\n",
       "      <td>-0.882212</td>\n",
       "      <td>-0.496219</td>\n",
       "    </tr>\n",
       "    <tr>\n",
       "      <th>4</th>\n",
       "      <td>-0.011808</td>\n",
       "      <td>-0.666161</td>\n",
       "      <td>0.009406</td>\n",
       "      <td>0.642523</td>\n",
       "      <td>0.056126</td>\n",
       "      <td>0.928254</td>\n",
       "      <td>1.243074</td>\n",
       "      <td>0.301278</td>\n",
       "      <td>-0.177272</td>\n",
       "      <td>-0.882212</td>\n",
       "      <td>-0.496219</td>\n",
       "    </tr>\n",
       "  </tbody>\n",
       "</table>\n",
       "</div>"
      ],
      "text/plain": [
       "   fixed acidity  volatile acidity  citric acid  residual sugar  chlorides  \\\n",
       "0      -0.166089         -0.423183     0.284686        3.206929  -0.314975   \n",
       "1      -0.706073         -0.240949     0.147046       -0.807837  -0.200790   \n",
       "2       0.682458         -0.362438     0.559966        0.306208  -0.172244   \n",
       "3      -0.011808         -0.666161     0.009406        0.642523   0.056126   \n",
       "4      -0.011808         -0.666161     0.009406        0.642523   0.056126   \n",
       "\n",
       "   free sulfur dioxide  total sulfur dioxide   density        pH  sulphates  \\\n",
       "0             0.815565              0.959976  2.102214 -1.359049  -0.546178   \n",
       "1            -0.931107              0.287618 -0.232332  0.506915  -0.277351   \n",
       "2            -0.029599             -0.331660  0.134525  0.258120  -0.613385   \n",
       "3             0.928254              1.243074  0.301278 -0.177272  -0.882212   \n",
       "4             0.928254              1.243074  0.301278 -0.177272  -0.882212   \n",
       "\n",
       "    alcohol  \n",
       "0 -1.418558  \n",
       "1 -0.831615  \n",
       "2 -0.328521  \n",
       "3 -0.496219  \n",
       "4 -0.496219  "
      ]
     },
     "execution_count": 106,
     "metadata": {},
     "output_type": "execute_result"
    }
   ],
   "source": [
    "X_norm = pd.DataFrame(columns=X.columns, data=X_normalized)\n",
    "X_norm.head()"
   ]
  },
  {
   "cell_type": "code",
   "execution_count": 107,
   "metadata": {
    "colab": {
     "base_uri": "https://localhost:8080/",
     "height": 204
    },
    "colab_type": "code",
    "id": "5q2ivY6dEX9Q",
    "outputId": "d2ae0280-b6ce-4eeb-857f-9cfb29998161"
   },
   "outputs": [
    {
     "data": {
      "text/html": [
       "<div>\n",
       "<style scoped>\n",
       "    .dataframe tbody tr th:only-of-type {\n",
       "        vertical-align: middle;\n",
       "    }\n",
       "\n",
       "    .dataframe tbody tr th {\n",
       "        vertical-align: top;\n",
       "    }\n",
       "\n",
       "    .dataframe thead th {\n",
       "        text-align: right;\n",
       "    }\n",
       "</style>\n",
       "<table border=\"1\" class=\"dataframe\">\n",
       "  <thead>\n",
       "    <tr style=\"text-align: right;\">\n",
       "      <th></th>\n",
       "      <th>fixed acidity</th>\n",
       "      <th>volatile acidity</th>\n",
       "      <th>citric acid</th>\n",
       "      <th>residual sugar</th>\n",
       "      <th>chlorides</th>\n",
       "      <th>free sulfur dioxide</th>\n",
       "      <th>total sulfur dioxide</th>\n",
       "      <th>density</th>\n",
       "      <th>pH</th>\n",
       "      <th>sulphates</th>\n",
       "      <th>alcohol</th>\n",
       "      <th>quality</th>\n",
       "      <th>type</th>\n",
       "    </tr>\n",
       "  </thead>\n",
       "  <tbody>\n",
       "    <tr>\n",
       "      <th>2788</th>\n",
       "      <td>-0.243230</td>\n",
       "      <td>0.366496</td>\n",
       "      <td>0.697606</td>\n",
       "      <td>0.159070</td>\n",
       "      <td>0.284496</td>\n",
       "      <td>0.590188</td>\n",
       "      <td>1.066137</td>\n",
       "      <td>0.274598</td>\n",
       "      <td>-0.612663</td>\n",
       "      <td>0.058683</td>\n",
       "      <td>-0.915464</td>\n",
       "      <td>5</td>\n",
       "      <td>white</td>\n",
       "    </tr>\n",
       "    <tr>\n",
       "      <th>1674</th>\n",
       "      <td>-0.320370</td>\n",
       "      <td>-0.726906</td>\n",
       "      <td>-0.197054</td>\n",
       "      <td>0.726602</td>\n",
       "      <td>-0.286429</td>\n",
       "      <td>2.900303</td>\n",
       "      <td>1.278461</td>\n",
       "      <td>0.267928</td>\n",
       "      <td>0.506915</td>\n",
       "      <td>-0.613385</td>\n",
       "      <td>-0.160823</td>\n",
       "      <td>6</td>\n",
       "      <td>white</td>\n",
       "    </tr>\n",
       "    <tr>\n",
       "      <th>255</th>\n",
       "      <td>-0.397511</td>\n",
       "      <td>-0.483928</td>\n",
       "      <td>0.491146</td>\n",
       "      <td>-0.912936</td>\n",
       "      <td>-0.457706</td>\n",
       "      <td>0.815565</td>\n",
       "      <td>0.553022</td>\n",
       "      <td>-0.399085</td>\n",
       "      <td>0.631312</td>\n",
       "      <td>0.327510</td>\n",
       "      <td>-0.747766</td>\n",
       "      <td>8</td>\n",
       "      <td>white</td>\n",
       "    </tr>\n",
       "    <tr>\n",
       "      <th>4688</th>\n",
       "      <td>-0.397511</td>\n",
       "      <td>-1.091373</td>\n",
       "      <td>0.009406</td>\n",
       "      <td>1.483312</td>\n",
       "      <td>-0.600437</td>\n",
       "      <td>-0.705730</td>\n",
       "      <td>0.712265</td>\n",
       "      <td>0.654795</td>\n",
       "      <td>-2.105434</td>\n",
       "      <td>-1.151040</td>\n",
       "      <td>-1.250860</td>\n",
       "      <td>6</td>\n",
       "      <td>white</td>\n",
       "    </tr>\n",
       "    <tr>\n",
       "      <th>1393</th>\n",
       "      <td>-1.168917</td>\n",
       "      <td>-1.243235</td>\n",
       "      <td>-0.128234</td>\n",
       "      <td>-0.177246</td>\n",
       "      <td>-0.400614</td>\n",
       "      <td>-0.649386</td>\n",
       "      <td>-0.260885</td>\n",
       "      <td>-0.032228</td>\n",
       "      <td>0.569114</td>\n",
       "      <td>-0.747799</td>\n",
       "      <td>-0.999313</td>\n",
       "      <td>6</td>\n",
       "      <td>white</td>\n",
       "    </tr>\n",
       "  </tbody>\n",
       "</table>\n",
       "</div>"
      ],
      "text/plain": [
       "      fixed acidity  volatile acidity  citric acid  residual sugar  chlorides  \\\n",
       "2788      -0.243230          0.366496     0.697606        0.159070   0.284496   \n",
       "1674      -0.320370         -0.726906    -0.197054        0.726602  -0.286429   \n",
       "255       -0.397511         -0.483928     0.491146       -0.912936  -0.457706   \n",
       "4688      -0.397511         -1.091373     0.009406        1.483312  -0.600437   \n",
       "1393      -1.168917         -1.243235    -0.128234       -0.177246  -0.400614   \n",
       "\n",
       "      free sulfur dioxide  total sulfur dioxide   density        pH  \\\n",
       "2788             0.590188              1.066137  0.274598 -0.612663   \n",
       "1674             2.900303              1.278461  0.267928  0.506915   \n",
       "255              0.815565              0.553022 -0.399085  0.631312   \n",
       "4688            -0.705730              0.712265  0.654795 -2.105434   \n",
       "1393            -0.649386             -0.260885 -0.032228  0.569114   \n",
       "\n",
       "      sulphates   alcohol  quality   type  \n",
       "2788   0.058683 -0.915464        5  white  \n",
       "1674  -0.613385 -0.160823        6  white  \n",
       "255    0.327510 -0.747766        8  white  \n",
       "4688  -1.151040 -1.250860        6  white  \n",
       "1393  -0.747799 -0.999313        6  white  "
      ]
     },
     "execution_count": 107,
     "metadata": {},
     "output_type": "execute_result"
    }
   ],
   "source": [
    "data2=pd.concat([X_norm,data[['quality','type']]], axis=1,join='inner')\n",
    "data2.sample(5)"
   ]
  },
  {
   "cell_type": "markdown",
   "metadata": {
    "colab_type": "text",
    "id": "sT5p16UuEX9f"
   },
   "source": [
    "**Binary Target**"
   ]
  },
  {
   "cell_type": "code",
   "execution_count": 108,
   "metadata": {
    "colab": {},
    "colab_type": "code",
    "id": "mi0830JYEX9f"
   },
   "outputs": [],
   "source": [
    "data2['quality2'] = data2['quality'] > 6\n",
    "data2['quality2'] = data2['quality2'].map({True:1,False:0})"
   ]
  },
  {
   "cell_type": "code",
   "execution_count": 109,
   "metadata": {
    "colab": {
     "base_uri": "https://localhost:8080/",
     "height": 34
    },
    "colab_type": "code",
    "id": "qjHdRTngEX9f",
    "outputId": "465b6cd3-bb89-42d6-c3c3-779a584fb8d4"
   },
   "outputs": [
    {
     "data": {
      "text/plain": [
       "((4898, 14), (1599, 14))"
      ]
     },
     "execution_count": 109,
     "metadata": {},
     "output_type": "execute_result"
    }
   ],
   "source": [
    "data_white=data2[data2['type']=='white']\n",
    "data_red=data2[data2['type']=='red']\n",
    "data_white.shape,data_red.shape"
   ]
  },
  {
   "cell_type": "markdown",
   "metadata": {
    "colab_type": "text",
    "id": "RyzXIDLGKom7"
   },
   "source": [
    "**Spliting data on training and test**"
   ]
  },
  {
   "cell_type": "code",
   "execution_count": 110,
   "metadata": {
    "colab": {},
    "colab_type": "code",
    "id": "5yPyJUVMEX9f"
   },
   "outputs": [],
   "source": [
    "from sklearn.svm import SVC # \"Support Vector Classifier\"\n",
    "y_w = data_white['quality2']\n",
    "X_w = data_white.drop(['quality','quality2','type'],axis=1)\n",
    "\n",
    "y_r = data_red['quality2']\n",
    "X_r = data_red.drop(['quality','quality2','type'],axis=1)"
   ]
  },
  {
   "cell_type": "code",
   "execution_count": 111,
   "metadata": {
    "colab": {},
    "colab_type": "code",
    "id": "LHLOiLGWKoHN"
   },
   "outputs": [],
   "source": [
    "from sklearn.model_selection import train_test_split\n",
    "\n",
    "#White Wine\n",
    "X_w_train, X_w_test, y_w_train, y_w_test = train_test_split(\n",
    "    X_w, y_w, test_size=0.30)\n",
    "\n",
    "#Red Wine\n",
    "X_r_train, X_r_test, y_r_train, y_r_test = train_test_split(\n",
    "    X_r, y_r, test_size=0.30)"
   ]
  },
  {
   "cell_type": "markdown",
   "metadata": {
    "colab_type": "text",
    "id": "0zRvDItAEX9f"
   },
   "source": [
    "**Linear SVM**"
   ]
  },
  {
   "cell_type": "markdown",
   "metadata": {
    "colab_type": "text",
    "collapsed": true,
    "id": "W-zEFJs0EX9f"
   },
   "source": [
    "**_White wine_**"
   ]
  },
  {
   "cell_type": "code",
   "execution_count": 112,
   "metadata": {
    "colab": {
     "base_uri": "https://localhost:8080/",
     "height": 85
    },
    "colab_type": "code",
    "id": "idh7mnIIEX9f",
    "outputId": "358c963f-2026-4810-dcc5-52ff142fb702"
   },
   "outputs": [
    {
     "data": {
      "text/plain": [
       "SVC(C=1.0, cache_size=200, class_weight=None, coef0=0.0,\n",
       "  decision_function_shape='ovr', degree=3, gamma='auto', kernel='linear',\n",
       "  max_iter=-1, probability=False, random_state=None, shrinking=True,\n",
       "  tol=0.001, verbose=False)"
      ]
     },
     "execution_count": 112,
     "metadata": {},
     "output_type": "execute_result"
    }
   ],
   "source": [
    "clf_WW = SVC(kernel='linear')\n",
    "clf_WW.fit(X_w_train, y_w_train)"
   ]
  },
  {
   "cell_type": "code",
   "execution_count": 113,
   "metadata": {
    "colab": {},
    "colab_type": "code",
    "id": "xiDh_ErtEX9v"
   },
   "outputs": [],
   "source": [
    "#Validating on test data\n",
    "y_w_pred = clf_WW.predict(X_w_test)"
   ]
  },
  {
   "cell_type": "markdown",
   "metadata": {
    "colab_type": "text",
    "id": "PyOH0iz4EX9v"
   },
   "source": [
    "**_Red wine_**"
   ]
  },
  {
   "cell_type": "code",
   "execution_count": 114,
   "metadata": {
    "colab": {
     "base_uri": "https://localhost:8080/",
     "height": 85
    },
    "colab_type": "code",
    "id": "ZRACbjDjEX9v",
    "outputId": "a89a298d-b120-46e0-85c0-5ea777e20f43",
    "scrolled": true
   },
   "outputs": [
    {
     "data": {
      "text/plain": [
       "SVC(C=1.0, cache_size=200, class_weight=None, coef0=0.0,\n",
       "  decision_function_shape='ovr', degree=3, gamma='auto', kernel='linear',\n",
       "  max_iter=-1, probability=False, random_state=None, shrinking=True,\n",
       "  tol=0.001, verbose=False)"
      ]
     },
     "execution_count": 114,
     "metadata": {},
     "output_type": "execute_result"
    }
   ],
   "source": [
    "clf_rw = SVC(kernel='linear')\n",
    "clf_rw.fit(X_r_train, y_r_train)"
   ]
  },
  {
   "cell_type": "code",
   "execution_count": 115,
   "metadata": {
    "colab": {},
    "colab_type": "code",
    "id": "xdhkdp8xEX9v"
   },
   "outputs": [],
   "source": [
    "#Validatin on test data\n",
    "y_r_pred = clf_WW.predict(X_r_test)"
   ]
  },
  {
   "cell_type": "markdown",
   "metadata": {
    "colab_type": "text",
    "id": "As8TfG2CEX9-"
   },
   "source": [
    "# Exercise 6.3\n",
    "\n",
    "Test the two SVM's using the different kernels (‘poly’, ‘rbf’, ‘sigmoid’)\n"
   ]
  },
  {
   "cell_type": "code",
   "execution_count": 116,
   "metadata": {
    "colab": {},
    "colab_type": "code",
    "id": "GPKyGIIJEX9-"
   },
   "outputs": [],
   "source": [
    "from sklearn.metrics import accuracy_score"
   ]
  },
  {
   "cell_type": "markdown",
   "metadata": {
    "colab_type": "text",
    "id": "0Vsn6fgTEX9-"
   },
   "source": [
    "Accuracy for linear SVM"
   ]
  },
  {
   "cell_type": "code",
   "execution_count": 117,
   "metadata": {
    "colab": {
     "base_uri": "https://localhost:8080/",
     "height": 34
    },
    "colab_type": "code",
    "id": "Sbyr86oSEX9-",
    "outputId": "15449e93-00ad-44f4-bbf3-9c70be7cb9f5"
   },
   "outputs": [
    {
     "data": {
      "text/plain": [
       "(0.7891156462585034, 0.8520833333333333)"
      ]
     },
     "execution_count": 117,
     "metadata": {},
     "output_type": "execute_result"
    }
   ],
   "source": [
    "w_acc_lin=accuracy_score(y_w_test, y_w_pred, normalize=True)\n",
    "r_acc_lin=accuracy_score(y_r_test, y_r_pred, normalize=True)\n",
    "w_acc_lin,r_acc_lin"
   ]
  },
  {
   "cell_type": "markdown",
   "metadata": {
    "colab_type": "text",
    "collapsed": true,
    "id": "mQLUtkNuEX9-"
   },
   "source": [
    "Now, let's try with differents kernels and compare the accuracy of each."
   ]
  },
  {
   "cell_type": "markdown",
   "metadata": {
    "colab_type": "text",
    "id": "f3kPOAJBEX9-"
   },
   "source": [
    "_White wine:_"
   ]
  },
  {
   "cell_type": "code",
   "execution_count": 118,
   "metadata": {
    "colab": {
     "base_uri": "https://localhost:8080/",
     "height": 85
    },
    "colab_type": "code",
    "id": "ZZ9JXaQTEX9-",
    "outputId": "dd2dc2a4-6708-4fa1-cac1-ceb610330757"
   },
   "outputs": [
    {
     "name": "stdout",
     "output_type": "stream",
     "text": [
      "WW_Acc_linear: 0.7891156462585034\n",
      "WW_Acc_poly: 0.8163265306122449\n",
      "WW_Acc_rbf: 0.8251700680272109\n",
      "WW_Acc_sigmoid: 0.7149659863945578\n"
     ]
    }
   ],
   "source": [
    "kernels=['linear','poly', 'rbf', 'sigmoid']\n",
    "Acc_val = []\n",
    "for k in range(len(kernels)):\n",
    "    clf_WW_r = SVC(kernel=kernels[k], gamma='auto') #Se agrega explicitamente la definición de gamma, para evitar un future warning\n",
    "    clf_WW_r.fit(X_w_train, y_w_train)\n",
    "    y_w_pred_r = clf_WW_r.predict(X_w_test)\n",
    "    Accur=accuracy_score(y_w_test, y_w_pred_r, normalize=True)\n",
    "    Acc_val.append(Accur)\n",
    "    print('WW_Acc_'+kernels[k]+':',Accur)"
   ]
  },
  {
   "cell_type": "markdown",
   "metadata": {
    "colab_type": "text",
    "id": "UWZVHbzwEX-O"
   },
   "source": [
    "_Red wine:_"
   ]
  },
  {
   "cell_type": "code",
   "execution_count": 119,
   "metadata": {
    "colab": {
     "base_uri": "https://localhost:8080/",
     "height": 85
    },
    "colab_type": "code",
    "id": "wbCOOJ99EX-e",
    "outputId": "8a27a339-e9b6-41a9-a654-8e7d73c3dd06",
    "scrolled": true
   },
   "outputs": [
    {
     "name": "stdout",
     "output_type": "stream",
     "text": [
      "RW_Acc_linear: 0.8520833333333333\n",
      "RW_Acc_poly: 0.8166666666666667\n",
      "RW_Acc_rbf: 0.8520833333333333\n",
      "RW_Acc_sigmoid: 0.7729166666666667\n"
     ]
    }
   ],
   "source": [
    "Acc_val = []\n",
    "for k in range(len(kernels)):\n",
    "    clf_RW_r = SVC(kernel=kernels[k], gamma='auto') #Se agrega explicitamente la definición de gamma, para evitar un future warning\n",
    "    clf_RW_r.fit(X_w_train, y_w_train)\n",
    "    y_r_pred_r = clf_RW_r.predict(X_r_test)\n",
    "    Accur = accuracy_score(y_r_test, y_r_pred_r, normalize=True)\n",
    "    Acc_val.append(Accur)\n",
    "    print('RW_Acc_'+kernels[k]+':',Accur)"
   ]
  },
  {
   "cell_type": "markdown",
   "metadata": {
    "colab_type": "text",
    "id": "nkaRDkbcEX-e"
   },
   "source": [
    "# Exercise 6.4\n",
    "Using the best SVM find the parameters that gives the best performance\n",
    "\n",
    "'C': [0.1, 1, 10, 100, 1000], 'gamma': [0.01, 0.001, 0.0001]"
   ]
  },
  {
   "cell_type": "markdown",
   "metadata": {
    "colab_type": "text",
    "id": "xZJGHTjmEX-e"
   },
   "source": [
    "we can see the best models for both wine types is `rbf`"
   ]
  },
  {
   "cell_type": "code",
   "execution_count": 120,
   "metadata": {
    "colab": {},
    "colab_type": "code",
    "id": "81u9deSzEX-e"
   },
   "outputs": [],
   "source": [
    "C = [0.1, 1, 10, 100, 1000]\n",
    "gamma = [0.01, 0.001, 0.0001]"
   ]
  },
  {
   "cell_type": "code",
   "execution_count": 121,
   "metadata": {
    "colab": {
     "base_uri": "https://localhost:8080/",
     "height": 272
    },
    "colab_type": "code",
    "id": "WngecHKVEX-e",
    "outputId": "bb088e15-60b0-49f4-eff9-60e12e7bdf2d",
    "scrolled": false
   },
   "outputs": [],
   "source": [
    "kernels='rbf'\n",
    "cols=['wine','C','gamma1','Accuracy']\n",
    "WineAcc=pd.DataFrame(columns=cols,data=[])\n",
    "Acc_val=[]\n",
    "k=0\n",
    "#White Wine\n",
    "for i in range(len(C)):\n",
    "    for j in range(len(gamma)):\n",
    "        clf_WW_r = SVC(kernel=kernels, C=C[i], gamma=gamma[j])\n",
    "        clf_WW_r.fit(X_w_train, y_w_train)\n",
    "        y_w_pred_r = clf_WW_r.predict(X_w_test)\n",
    "        Accur=accuracy_score(y_w_test, y_w_pred_r, normalize=True)\n",
    "        Acc_val.append(Accur)\n",
    "        WineAcc.loc[k] = ['White',C[i],gamma[j],Accur]\n",
    "        k+=1\n",
    "#WineAcc"
   ]
  },
  {
   "cell_type": "code",
   "execution_count": 122,
   "metadata": {
    "colab": {
     "base_uri": "https://localhost:8080/",
     "height": 272
    },
    "colab_type": "code",
    "id": "q8atoz32EX-e",
    "outputId": "bb8179aa-1384-4ff7-d6be-274b38cf455d"
   },
   "outputs": [
    {
     "data": {
      "text/html": [
       "<div>\n",
       "<style scoped>\n",
       "    .dataframe tbody tr th:only-of-type {\n",
       "        vertical-align: middle;\n",
       "    }\n",
       "\n",
       "    .dataframe tbody tr th {\n",
       "        vertical-align: top;\n",
       "    }\n",
       "\n",
       "    .dataframe thead th {\n",
       "        text-align: right;\n",
       "    }\n",
       "</style>\n",
       "<table border=\"1\" class=\"dataframe\">\n",
       "  <thead>\n",
       "    <tr style=\"text-align: right;\">\n",
       "      <th></th>\n",
       "      <th>wine</th>\n",
       "      <th>C</th>\n",
       "      <th>gamma1</th>\n",
       "      <th>Accuracy</th>\n",
       "    </tr>\n",
       "  </thead>\n",
       "  <tbody>\n",
       "    <tr>\n",
       "      <th>0</th>\n",
       "      <td>White</td>\n",
       "      <td>0.1</td>\n",
       "      <td>0.0100</td>\n",
       "      <td>0.789116</td>\n",
       "    </tr>\n",
       "    <tr>\n",
       "      <th>1</th>\n",
       "      <td>White</td>\n",
       "      <td>0.1</td>\n",
       "      <td>0.0010</td>\n",
       "      <td>0.789116</td>\n",
       "    </tr>\n",
       "    <tr>\n",
       "      <th>2</th>\n",
       "      <td>White</td>\n",
       "      <td>0.1</td>\n",
       "      <td>0.0001</td>\n",
       "      <td>0.789116</td>\n",
       "    </tr>\n",
       "    <tr>\n",
       "      <th>3</th>\n",
       "      <td>White</td>\n",
       "      <td>1.0</td>\n",
       "      <td>0.0100</td>\n",
       "      <td>0.792517</td>\n",
       "    </tr>\n",
       "    <tr>\n",
       "      <th>4</th>\n",
       "      <td>White</td>\n",
       "      <td>1.0</td>\n",
       "      <td>0.0010</td>\n",
       "      <td>0.789116</td>\n",
       "    </tr>\n",
       "    <tr>\n",
       "      <th>5</th>\n",
       "      <td>White</td>\n",
       "      <td>1.0</td>\n",
       "      <td>0.0001</td>\n",
       "      <td>0.789116</td>\n",
       "    </tr>\n",
       "    <tr>\n",
       "      <th>6</th>\n",
       "      <td>White</td>\n",
       "      <td>10.0</td>\n",
       "      <td>0.0100</td>\n",
       "      <td>0.826531</td>\n",
       "    </tr>\n",
       "    <tr>\n",
       "      <th>7</th>\n",
       "      <td>White</td>\n",
       "      <td>10.0</td>\n",
       "      <td>0.0010</td>\n",
       "      <td>0.789116</td>\n",
       "    </tr>\n",
       "    <tr>\n",
       "      <th>8</th>\n",
       "      <td>White</td>\n",
       "      <td>10.0</td>\n",
       "      <td>0.0001</td>\n",
       "      <td>0.789116</td>\n",
       "    </tr>\n",
       "    <tr>\n",
       "      <th>9</th>\n",
       "      <td>White</td>\n",
       "      <td>100.0</td>\n",
       "      <td>0.0100</td>\n",
       "      <td>0.825850</td>\n",
       "    </tr>\n",
       "    <tr>\n",
       "      <th>10</th>\n",
       "      <td>White</td>\n",
       "      <td>100.0</td>\n",
       "      <td>0.0010</td>\n",
       "      <td>0.797279</td>\n",
       "    </tr>\n",
       "    <tr>\n",
       "      <th>11</th>\n",
       "      <td>White</td>\n",
       "      <td>100.0</td>\n",
       "      <td>0.0001</td>\n",
       "      <td>0.789116</td>\n",
       "    </tr>\n",
       "    <tr>\n",
       "      <th>12</th>\n",
       "      <td>White</td>\n",
       "      <td>1000.0</td>\n",
       "      <td>0.0100</td>\n",
       "      <td>0.830612</td>\n",
       "    </tr>\n",
       "    <tr>\n",
       "      <th>13</th>\n",
       "      <td>White</td>\n",
       "      <td>1000.0</td>\n",
       "      <td>0.0010</td>\n",
       "      <td>0.824490</td>\n",
       "    </tr>\n",
       "    <tr>\n",
       "      <th>14</th>\n",
       "      <td>White</td>\n",
       "      <td>1000.0</td>\n",
       "      <td>0.0001</td>\n",
       "      <td>0.789116</td>\n",
       "    </tr>\n",
       "    <tr>\n",
       "      <th>15</th>\n",
       "      <td>red</td>\n",
       "      <td>0.1</td>\n",
       "      <td>0.0100</td>\n",
       "      <td>0.852083</td>\n",
       "    </tr>\n",
       "    <tr>\n",
       "      <th>16</th>\n",
       "      <td>red</td>\n",
       "      <td>0.1</td>\n",
       "      <td>0.0010</td>\n",
       "      <td>0.852083</td>\n",
       "    </tr>\n",
       "    <tr>\n",
       "      <th>17</th>\n",
       "      <td>red</td>\n",
       "      <td>0.1</td>\n",
       "      <td>0.0001</td>\n",
       "      <td>0.852083</td>\n",
       "    </tr>\n",
       "    <tr>\n",
       "      <th>18</th>\n",
       "      <td>red</td>\n",
       "      <td>1.0</td>\n",
       "      <td>0.0100</td>\n",
       "      <td>0.854167</td>\n",
       "    </tr>\n",
       "    <tr>\n",
       "      <th>19</th>\n",
       "      <td>red</td>\n",
       "      <td>1.0</td>\n",
       "      <td>0.0010</td>\n",
       "      <td>0.852083</td>\n",
       "    </tr>\n",
       "    <tr>\n",
       "      <th>20</th>\n",
       "      <td>red</td>\n",
       "      <td>1.0</td>\n",
       "      <td>0.0001</td>\n",
       "      <td>0.852083</td>\n",
       "    </tr>\n",
       "    <tr>\n",
       "      <th>21</th>\n",
       "      <td>red</td>\n",
       "      <td>10.0</td>\n",
       "      <td>0.0100</td>\n",
       "      <td>0.858333</td>\n",
       "    </tr>\n",
       "    <tr>\n",
       "      <th>22</th>\n",
       "      <td>red</td>\n",
       "      <td>10.0</td>\n",
       "      <td>0.0010</td>\n",
       "      <td>0.852083</td>\n",
       "    </tr>\n",
       "    <tr>\n",
       "      <th>23</th>\n",
       "      <td>red</td>\n",
       "      <td>10.0</td>\n",
       "      <td>0.0001</td>\n",
       "      <td>0.852083</td>\n",
       "    </tr>\n",
       "    <tr>\n",
       "      <th>24</th>\n",
       "      <td>red</td>\n",
       "      <td>100.0</td>\n",
       "      <td>0.0100</td>\n",
       "      <td>0.854167</td>\n",
       "    </tr>\n",
       "    <tr>\n",
       "      <th>25</th>\n",
       "      <td>red</td>\n",
       "      <td>100.0</td>\n",
       "      <td>0.0010</td>\n",
       "      <td>0.852083</td>\n",
       "    </tr>\n",
       "    <tr>\n",
       "      <th>26</th>\n",
       "      <td>red</td>\n",
       "      <td>100.0</td>\n",
       "      <td>0.0001</td>\n",
       "      <td>0.852083</td>\n",
       "    </tr>\n",
       "    <tr>\n",
       "      <th>27</th>\n",
       "      <td>red</td>\n",
       "      <td>1000.0</td>\n",
       "      <td>0.0100</td>\n",
       "      <td>0.847917</td>\n",
       "    </tr>\n",
       "    <tr>\n",
       "      <th>28</th>\n",
       "      <td>red</td>\n",
       "      <td>1000.0</td>\n",
       "      <td>0.0010</td>\n",
       "      <td>0.856250</td>\n",
       "    </tr>\n",
       "    <tr>\n",
       "      <th>29</th>\n",
       "      <td>red</td>\n",
       "      <td>1000.0</td>\n",
       "      <td>0.0001</td>\n",
       "      <td>0.852083</td>\n",
       "    </tr>\n",
       "  </tbody>\n",
       "</table>\n",
       "</div>"
      ],
      "text/plain": [
       "     wine       C  gamma1  Accuracy\n",
       "0   White     0.1  0.0100  0.789116\n",
       "1   White     0.1  0.0010  0.789116\n",
       "2   White     0.1  0.0001  0.789116\n",
       "3   White     1.0  0.0100  0.792517\n",
       "4   White     1.0  0.0010  0.789116\n",
       "5   White     1.0  0.0001  0.789116\n",
       "6   White    10.0  0.0100  0.826531\n",
       "7   White    10.0  0.0010  0.789116\n",
       "8   White    10.0  0.0001  0.789116\n",
       "9   White   100.0  0.0100  0.825850\n",
       "10  White   100.0  0.0010  0.797279\n",
       "11  White   100.0  0.0001  0.789116\n",
       "12  White  1000.0  0.0100  0.830612\n",
       "13  White  1000.0  0.0010  0.824490\n",
       "14  White  1000.0  0.0001  0.789116\n",
       "15    red     0.1  0.0100  0.852083\n",
       "16    red     0.1  0.0010  0.852083\n",
       "17    red     0.1  0.0001  0.852083\n",
       "18    red     1.0  0.0100  0.854167\n",
       "19    red     1.0  0.0010  0.852083\n",
       "20    red     1.0  0.0001  0.852083\n",
       "21    red    10.0  0.0100  0.858333\n",
       "22    red    10.0  0.0010  0.852083\n",
       "23    red    10.0  0.0001  0.852083\n",
       "24    red   100.0  0.0100  0.854167\n",
       "25    red   100.0  0.0010  0.852083\n",
       "26    red   100.0  0.0001  0.852083\n",
       "27    red  1000.0  0.0100  0.847917\n",
       "28    red  1000.0  0.0010  0.856250\n",
       "29    red  1000.0  0.0001  0.852083"
      ]
     },
     "execution_count": 122,
     "metadata": {},
     "output_type": "execute_result"
    }
   ],
   "source": [
    "cols=['wine','C','gamma1','Accuracy']\n",
    "Acc_val=[]\n",
    "k=WineAcc.shape[0]\n",
    "#Red Wine\n",
    "for i in range(len(C)):\n",
    "    for j in range(len(gamma)):\n",
    "        clf_WW_r = SVC(kernel=kernels, C=C[i], gamma=gamma[j])\n",
    "        clf_WW_r.fit(X_w_train, y_w_train)\n",
    "        y_r_pred_r = clf_WW_r.predict(X_r_test)\n",
    "        Accur=accuracy_score(y_r_test, y_r_pred_r, normalize=True)\n",
    "        Acc_val.append(Accur)\n",
    "        WineAcc.loc[k] = ['red',C[i],gamma[j],Accur]\n",
    "        k+=1\n",
    "WineAcc"
   ]
  },
  {
   "cell_type": "markdown",
   "metadata": {},
   "source": [
    "The best combination of arguments that gives the best performace is:"
   ]
  },
  {
   "cell_type": "code",
   "execution_count": 123,
   "metadata": {
    "scrolled": true
   },
   "outputs": [
    {
     "name": "stdout",
     "output_type": "stream",
     "text": [
      "     wine       C  gamma1  Accuracy\n",
      "12  White  1000.0    0.01  0.830612 \n",
      " \n",
      "----------\n",
      "\n",
      "    wine     C  gamma1  Accuracy\n",
      "21  red  10.0    0.01  0.858333\n"
     ]
    }
   ],
   "source": [
    "WW=WineAcc[WineAcc['wine']=='White']\n",
    "RW=WineAcc[WineAcc['wine']=='red']\n",
    "print(WW[WW['Accuracy']==np.max(WW['Accuracy'])],'\\n','\\n----------\\n\\n',RW[RW['Accuracy']==np.max(RW['Accuracy'])])"
   ]
  },
  {
   "cell_type": "markdown",
   "metadata": {
    "colab_type": "text",
    "id": "Bkvczsa3EX-t"
   },
   "source": [
    "# Exercise 6.5\n",
    "\n",
    "Compare the results with other methods"
   ]
  },
  {
   "cell_type": "markdown",
   "metadata": {
    "colab_type": "text",
    "id": "aWEtgycLEX-t"
   },
   "source": [
    "Now, we compare the model with LOGIT regression"
   ]
  },
  {
   "cell_type": "code",
   "execution_count": 124,
   "metadata": {
    "colab": {},
    "colab_type": "code",
    "id": "htgj21VaEX-t"
   },
   "outputs": [],
   "source": [
    "from sklearn.linear_model import LogisticRegression"
   ]
  },
  {
   "cell_type": "code",
   "execution_count": 125,
   "metadata": {
    "colab": {
     "base_uri": "https://localhost:8080/",
     "height": 34
    },
    "colab_type": "code",
    "id": "EhNfMf1nEX-t",
    "outputId": "8a26dcb9-cf7f-4eff-900c-990ce62d671e"
   },
   "outputs": [
    {
     "data": {
      "text/plain": [
       "0.8027210884353742"
      ]
     },
     "execution_count": 125,
     "metadata": {},
     "output_type": "execute_result"
    }
   ],
   "source": [
    "#White wine\n",
    "logreg_w = LogisticRegression(solver='liblinear',C=1e9)\n",
    "logreg_w.fit(X_w_train, y_w_train)\n",
    "y_w_pred_log = logreg_w.predict(X_w_test)\n",
    "accuracy_score(y_w_test, y_w_pred_log, normalize=True)"
   ]
  },
  {
   "cell_type": "code",
   "execution_count": 126,
   "metadata": {
    "colab": {
     "base_uri": "https://localhost:8080/",
     "height": 34
    },
    "colab_type": "code",
    "id": "5047xbSBEX-t",
    "outputId": "3e363a47-743f-4ddf-8ee2-5a143c93671d"
   },
   "outputs": [
    {
     "data": {
      "text/plain": [
       "0.8770833333333333"
      ]
     },
     "execution_count": 126,
     "metadata": {},
     "output_type": "execute_result"
    }
   ],
   "source": [
    "#Red wine\n",
    "logreg_r = LogisticRegression(solver='liblinear',C=1e9)\n",
    "logreg_r.fit(X_r_train, y_r_train)\n",
    "y_r_pred_log = logreg_r.predict(X_r_test)\n",
    "accuracy_score(y_r_test, y_r_pred_log, normalize=True)"
   ]
  },
  {
   "cell_type": "markdown",
   "metadata": {},
   "source": [
    "**_Conclusion:_** For the white wine the best model is the SVM with the paramters founded in the previous point, but for the red wine the best model is the LOGIT regression, with best accuracy."
   ]
  },
  {
   "cell_type": "markdown",
   "metadata": {
    "colab_type": "text",
    "id": "JnAbNRqvEX-t"
   },
   "source": [
    "# Regularization"
   ]
  },
  {
   "cell_type": "markdown",
   "metadata": {
    "colab_type": "text",
    "id": "kVKDvGYxEX-t"
   },
   "source": [
    "# Exercise 6.6\n",
    "\n",
    "\n",
    "* Train a linear regression to predict wine quality (Continous)\n",
    "\n",
    "* Analyze the coefficients\n",
    "\n",
    "* Evaluate the RMSE"
   ]
  },
  {
   "cell_type": "code",
   "execution_count": 127,
   "metadata": {
    "colab": {},
    "colab_type": "code",
    "id": "htgj21VaEX-t"
   },
   "outputs": [],
   "source": [
    "from sklearn.linear_model import LinearRegression"
   ]
  },
  {
   "cell_type": "code",
   "execution_count": 128,
   "metadata": {
    "colab": {
     "base_uri": "https://localhost:8080/",
     "height": 34
    },
    "colab_type": "code",
    "id": "EhNfMf1nEX-t",
    "outputId": "8a26dcb9-cf7f-4eff-900c-990ce62d671e"
   },
   "outputs": [],
   "source": [
    "#White wine\n",
    "linreg_w = LinearRegression(normalize=True)\n",
    "linreg_w.fit(X_w_train, y_w_train)\n",
    "y_w_pred_lin = linreg_w.predict(X_w_test)"
   ]
  },
  {
   "cell_type": "code",
   "execution_count": 129,
   "metadata": {
    "colab": {
     "base_uri": "https://localhost:8080/",
     "height": 34
    },
    "colab_type": "code",
    "id": "5047xbSBEX-t",
    "outputId": "3e363a47-743f-4ddf-8ee2-5a143c93671d"
   },
   "outputs": [],
   "source": [
    "#Red wine\n",
    "linreg_r = LinearRegression(normalize=True)\n",
    "linreg_r.fit(X_r_train, y_r_train)\n",
    "y_r_pred_lin = linreg_r.predict(X_r_test)"
   ]
  },
  {
   "cell_type": "markdown",
   "metadata": {},
   "source": [
    "Whit the model, let's analize the coeficients:"
   ]
  },
  {
   "cell_type": "code",
   "execution_count": 130,
   "metadata": {
    "colab": {},
    "colab_type": "code",
    "id": "GWqKrBkpEX-t",
    "outputId": "b9fd371c-b225-4942-85d8-8b0cd2ab124d",
    "scrolled": false
   },
   "outputs": [
    {
     "data": {
      "text/html": [
       "<div>\n",
       "<style scoped>\n",
       "    .dataframe tbody tr th:only-of-type {\n",
       "        vertical-align: middle;\n",
       "    }\n",
       "\n",
       "    .dataframe tbody tr th {\n",
       "        vertical-align: top;\n",
       "    }\n",
       "\n",
       "    .dataframe thead th {\n",
       "        text-align: right;\n",
       "    }\n",
       "</style>\n",
       "<table border=\"1\" class=\"dataframe\">\n",
       "  <thead>\n",
       "    <tr style=\"text-align: right;\">\n",
       "      <th></th>\n",
       "      <th>fixed acidity</th>\n",
       "      <th>volatile acidity</th>\n",
       "      <th>citric acid</th>\n",
       "      <th>residual sugar</th>\n",
       "      <th>chlorides</th>\n",
       "      <th>free sulfur dioxide</th>\n",
       "      <th>total sulfur dioxide</th>\n",
       "      <th>density</th>\n",
       "      <th>pH</th>\n",
       "      <th>sulphates</th>\n",
       "      <th>alcohol</th>\n",
       "      <th>intercept</th>\n",
       "    </tr>\n",
       "  </thead>\n",
       "  <tbody>\n",
       "    <tr>\n",
       "      <th>0</th>\n",
       "      <td>0.072709</td>\n",
       "      <td>-0.054722</td>\n",
       "      <td>-0.009723</td>\n",
       "      <td>0.145427</td>\n",
       "      <td>-0.010071</td>\n",
       "      <td>0.020614</td>\n",
       "      <td>-0.00779</td>\n",
       "      <td>-0.191081</td>\n",
       "      <td>0.056387</td>\n",
       "      <td>0.041558</td>\n",
       "      <td>0.080375</td>\n",
       "      <td>0.163811</td>\n",
       "    </tr>\n",
       "  </tbody>\n",
       "</table>\n",
       "</div>"
      ],
      "text/plain": [
       "   fixed acidity  volatile acidity  citric acid  residual sugar  chlorides  \\\n",
       "0       0.072709         -0.054722    -0.009723        0.145427  -0.010071   \n",
       "\n",
       "   free sulfur dioxide  total sulfur dioxide   density        pH  sulphates  \\\n",
       "0             0.020614              -0.00779 -0.191081  0.056387   0.041558   \n",
       "\n",
       "    alcohol  intercept  \n",
       "0  0.080375   0.163811  "
      ]
     },
     "execution_count": 130,
     "metadata": {},
     "output_type": "execute_result"
    }
   ],
   "source": [
    "WW_Coef=pd.DataFrame(columns=X_w.columns,data=[linreg_w.coef_])\n",
    "WW_Coef['intercept']=linreg_w.intercept_\n",
    "WW_Coef"
   ]
  },
  {
   "cell_type": "code",
   "execution_count": 131,
   "metadata": {
    "colab": {},
    "colab_type": "code",
    "id": "sI-ZwpQCEX-t",
    "outputId": "1c06d256-2550-4e95-aaab-0300ea284be7",
    "scrolled": true
   },
   "outputs": [
    {
     "data": {
      "text/html": [
       "<div>\n",
       "<style scoped>\n",
       "    .dataframe tbody tr th:only-of-type {\n",
       "        vertical-align: middle;\n",
       "    }\n",
       "\n",
       "    .dataframe tbody tr th {\n",
       "        vertical-align: top;\n",
       "    }\n",
       "\n",
       "    .dataframe thead th {\n",
       "        text-align: right;\n",
       "    }\n",
       "</style>\n",
       "<table border=\"1\" class=\"dataframe\">\n",
       "  <thead>\n",
       "    <tr style=\"text-align: right;\">\n",
       "      <th></th>\n",
       "      <th>fixed acidity</th>\n",
       "      <th>volatile acidity</th>\n",
       "      <th>citric acid</th>\n",
       "      <th>residual sugar</th>\n",
       "      <th>chlorides</th>\n",
       "      <th>free sulfur dioxide</th>\n",
       "      <th>total sulfur dioxide</th>\n",
       "      <th>density</th>\n",
       "      <th>pH</th>\n",
       "      <th>sulphates</th>\n",
       "      <th>alcohol</th>\n",
       "      <th>intercept</th>\n",
       "    </tr>\n",
       "  </thead>\n",
       "  <tbody>\n",
       "    <tr>\n",
       "      <th>0</th>\n",
       "      <td>0.032937</td>\n",
       "      <td>-0.032937</td>\n",
       "      <td>0.010996</td>\n",
       "      <td>0.11098</td>\n",
       "      <td>-0.021072</td>\n",
       "      <td>-0.005555</td>\n",
       "      <td>-0.04438</td>\n",
       "      <td>-0.103503</td>\n",
       "      <td>-0.013213</td>\n",
       "      <td>0.047863</td>\n",
       "      <td>0.088984</td>\n",
       "      <td>0.214975</td>\n",
       "    </tr>\n",
       "  </tbody>\n",
       "</table>\n",
       "</div>"
      ],
      "text/plain": [
       "   fixed acidity  volatile acidity  citric acid  residual sugar  chlorides  \\\n",
       "0       0.032937         -0.032937     0.010996         0.11098  -0.021072   \n",
       "\n",
       "   free sulfur dioxide  total sulfur dioxide   density        pH  sulphates  \\\n",
       "0            -0.005555              -0.04438 -0.103503 -0.013213   0.047863   \n",
       "\n",
       "    alcohol  intercept  \n",
       "0  0.088984   0.214975  "
      ]
     },
     "execution_count": 131,
     "metadata": {},
     "output_type": "execute_result"
    }
   ],
   "source": [
    "RW_Coef=pd.DataFrame(columns=X_r.columns,data=[linreg_r.coef_])\n",
    "RW_Coef['intercept']=linreg_r.intercept_\n",
    "RW_Coef"
   ]
  },
  {
   "cell_type": "markdown",
   "metadata": {
    "colab_type": "text",
    "id": "3JQDjnjeEX-t"
   },
   "source": [
    "**RMSE**"
   ]
  },
  {
   "cell_type": "code",
   "execution_count": 132,
   "metadata": {
    "colab": {},
    "colab_type": "code",
    "id": "Z_Qy_eg7EX-t",
    "outputId": "511641f2-ae7f-4296-e5b6-417ce4f4c9cb"
   },
   "outputs": [
    {
     "name": "stdout",
     "output_type": "stream",
     "text": [
      "RMSE: 0.3715109154426857\n"
     ]
    }
   ],
   "source": [
    "from sklearn import metrics\n",
    "y_tr=y_w_test\n",
    "y_pr=y_w_pred_lin\n",
    "MSE_linreg_w = metrics.mean_squared_error(y_tr, y_pr)\n",
    "print('RMSE:', np.sqrt(MSE_linreg_w))"
   ]
  },
  {
   "cell_type": "markdown",
   "metadata": {},
   "source": [
    "The RMSE say us, that for each prediction the spected error is 0,38 units."
   ]
  },
  {
   "cell_type": "markdown",
   "metadata": {
    "colab_type": "text",
    "id": "DIMlb1H_EX-t"
   },
   "source": [
    "# Exercise 6.7\n",
    "\n",
    "* Estimate a ridge regression with alpha equals 0.1 and 1.\n",
    "* Compare the coefficients with the linear regression\n",
    "* Evaluate the RMSE"
   ]
  },
  {
   "cell_type": "code",
   "execution_count": 133,
   "metadata": {
    "colab": {},
    "colab_type": "code",
    "id": "c4UTwZYWEX-t"
   },
   "outputs": [],
   "source": [
    "from sklearn.linear_model import Ridge"
   ]
  },
  {
   "cell_type": "code",
   "execution_count": 134,
   "metadata": {
    "scrolled": true
   },
   "outputs": [
    {
     "data": {
      "text/html": [
       "<div>\n",
       "<style scoped>\n",
       "    .dataframe tbody tr th:only-of-type {\n",
       "        vertical-align: middle;\n",
       "    }\n",
       "\n",
       "    .dataframe tbody tr th {\n",
       "        vertical-align: top;\n",
       "    }\n",
       "\n",
       "    .dataframe thead th {\n",
       "        text-align: right;\n",
       "    }\n",
       "</style>\n",
       "<table border=\"1\" class=\"dataframe\">\n",
       "  <thead>\n",
       "    <tr style=\"text-align: right;\">\n",
       "      <th></th>\n",
       "      <th>wine</th>\n",
       "      <th>alpha</th>\n",
       "      <th>RMSE</th>\n",
       "    </tr>\n",
       "  </thead>\n",
       "  <tbody>\n",
       "    <tr>\n",
       "      <th>0</th>\n",
       "      <td>white</td>\n",
       "      <td>0.1</td>\n",
       "      <td>0.372363</td>\n",
       "    </tr>\n",
       "    <tr>\n",
       "      <th>1</th>\n",
       "      <td>white</td>\n",
       "      <td>1.0</td>\n",
       "      <td>0.380043</td>\n",
       "    </tr>\n",
       "  </tbody>\n",
       "</table>\n",
       "</div>"
      ],
      "text/plain": [
       "    wine  alpha      RMSE\n",
       "0  white    0.1  0.372363\n",
       "1  white    1.0  0.380043"
      ]
     },
     "execution_count": 134,
     "metadata": {},
     "output_type": "execute_result"
    }
   ],
   "source": [
    "#White Wine\n",
    "alpha=[0.1, 1]\n",
    "cols=['wine','alpha','RMSE']\n",
    "WWine_ridge=pd.DataFrame(columns=cols,data=[])\n",
    "k=0\n",
    "#White Wine\n",
    "for i in range(len(alpha)):\n",
    "    Wridgereg = Ridge(alpha=alpha[i], normalize=True)\n",
    "    Wridgereg.fit(X_w_train, y_w_train)\n",
    "    y_w_pred_ridge = Wridgereg.predict(X_w_test)\n",
    "    RMSE=np.sqrt(metrics.mean_squared_error(y_w_test, y_w_pred_ridge))\n",
    "    WWine_ridge.loc[k] = ['white',alpha[i],RMSE]\n",
    "    k+=1\n",
    "WWine_ridge"
   ]
  },
  {
   "cell_type": "markdown",
   "metadata": {},
   "source": [
    "Let's see the coeficients in comparisson with the linear model:"
   ]
  },
  {
   "cell_type": "code",
   "execution_count": 135,
   "metadata": {
    "scrolled": true
   },
   "outputs": [
    {
     "data": {
      "text/html": [
       "<div>\n",
       "<style scoped>\n",
       "    .dataframe tbody tr th:only-of-type {\n",
       "        vertical-align: middle;\n",
       "    }\n",
       "\n",
       "    .dataframe tbody tr th {\n",
       "        vertical-align: top;\n",
       "    }\n",
       "\n",
       "    .dataframe thead th {\n",
       "        text-align: right;\n",
       "    }\n",
       "</style>\n",
       "<table border=\"1\" class=\"dataframe\">\n",
       "  <thead>\n",
       "    <tr style=\"text-align: right;\">\n",
       "      <th></th>\n",
       "      <th>fixed acidity</th>\n",
       "      <th>volatile acidity</th>\n",
       "      <th>citric acid</th>\n",
       "      <th>residual sugar</th>\n",
       "      <th>chlorides</th>\n",
       "      <th>free sulfur dioxide</th>\n",
       "      <th>total sulfur dioxide</th>\n",
       "      <th>density</th>\n",
       "      <th>pH</th>\n",
       "      <th>sulphates</th>\n",
       "      <th>alcohol</th>\n",
       "      <th>intercept</th>\n",
       "    </tr>\n",
       "  </thead>\n",
       "  <tbody>\n",
       "    <tr>\n",
       "      <th>LOGIT</th>\n",
       "      <td>0.072709</td>\n",
       "      <td>-0.054722</td>\n",
       "      <td>-0.009723</td>\n",
       "      <td>0.145427</td>\n",
       "      <td>-0.010071</td>\n",
       "      <td>0.020614</td>\n",
       "      <td>-0.007790</td>\n",
       "      <td>-0.191081</td>\n",
       "      <td>0.056387</td>\n",
       "      <td>0.041558</td>\n",
       "      <td>0.080375</td>\n",
       "      <td>0.163811</td>\n",
       "    </tr>\n",
       "    <tr>\n",
       "      <th>Ridge</th>\n",
       "      <td>-0.003179</td>\n",
       "      <td>-0.024650</td>\n",
       "      <td>-0.001762</td>\n",
       "      <td>0.006443</td>\n",
       "      <td>-0.033377</td>\n",
       "      <td>0.009668</td>\n",
       "      <td>-0.017393</td>\n",
       "      <td>-0.030119</td>\n",
       "      <td>0.013670</td>\n",
       "      <td>0.015197</td>\n",
       "      <td>0.061974</td>\n",
       "      <td>0.201100</td>\n",
       "    </tr>\n",
       "  </tbody>\n",
       "</table>\n",
       "</div>"
      ],
      "text/plain": [
       "       fixed acidity  volatile acidity  citric acid  residual sugar  \\\n",
       "LOGIT       0.072709         -0.054722    -0.009723        0.145427   \n",
       "Ridge      -0.003179         -0.024650    -0.001762        0.006443   \n",
       "\n",
       "       chlorides  free sulfur dioxide  total sulfur dioxide   density  \\\n",
       "LOGIT  -0.010071             0.020614             -0.007790 -0.191081   \n",
       "Ridge  -0.033377             0.009668             -0.017393 -0.030119   \n",
       "\n",
       "             pH  sulphates   alcohol  intercept  \n",
       "LOGIT  0.056387   0.041558  0.080375   0.163811  \n",
       "Ridge  0.013670   0.015197  0.061974   0.201100  "
      ]
     },
     "execution_count": 135,
     "metadata": {},
     "output_type": "execute_result"
    }
   ],
   "source": [
    "WW_Coef.loc[1]=np.append(Wridgereg.coef_, Wridgereg.intercept_)\n",
    "WW_Coef.rename(index={0:'LOGIT', 1:'Ridge'}, inplace=True)\n",
    "WW_Coef"
   ]
  },
  {
   "cell_type": "markdown",
   "metadata": {},
   "source": [
    "In this case, the weigth of some features has been reduced, for example, the `residual sugar` that pass from 0.15 to 0.007"
   ]
  },
  {
   "cell_type": "code",
   "execution_count": 136,
   "metadata": {},
   "outputs": [
    {
     "data": {
      "text/html": [
       "<div>\n",
       "<style scoped>\n",
       "    .dataframe tbody tr th:only-of-type {\n",
       "        vertical-align: middle;\n",
       "    }\n",
       "\n",
       "    .dataframe tbody tr th {\n",
       "        vertical-align: top;\n",
       "    }\n",
       "\n",
       "    .dataframe thead th {\n",
       "        text-align: right;\n",
       "    }\n",
       "</style>\n",
       "<table border=\"1\" class=\"dataframe\">\n",
       "  <thead>\n",
       "    <tr style=\"text-align: right;\">\n",
       "      <th></th>\n",
       "      <th>wine</th>\n",
       "      <th>alpha</th>\n",
       "      <th>RMSE</th>\n",
       "    </tr>\n",
       "  </thead>\n",
       "  <tbody>\n",
       "    <tr>\n",
       "      <th>0</th>\n",
       "      <td>red</td>\n",
       "      <td>0.1</td>\n",
       "      <td>0.307538</td>\n",
       "    </tr>\n",
       "    <tr>\n",
       "      <th>1</th>\n",
       "      <td>red</td>\n",
       "      <td>1.0</td>\n",
       "      <td>0.316872</td>\n",
       "    </tr>\n",
       "  </tbody>\n",
       "</table>\n",
       "</div>"
      ],
      "text/plain": [
       "  wine  alpha      RMSE\n",
       "0  red    0.1  0.307538\n",
       "1  red    1.0  0.316872"
      ]
     },
     "execution_count": 136,
     "metadata": {},
     "output_type": "execute_result"
    }
   ],
   "source": [
    "#Red Wine\n",
    "alpha=[0.1, 1]\n",
    "cols=['wine','alpha','RMSE']\n",
    "RWine_ridge=pd.DataFrame(columns=cols,data=[])\n",
    "k=0\n",
    "for i in range(len(alpha)):\n",
    "    Rridgereg = Ridge(alpha=alpha[i], normalize=True)\n",
    "    Rridgereg.fit(X_r_train, y_r_train)\n",
    "    y_r_pred_ridge = Rridgereg.predict(X_r_test)\n",
    "    RMSE=np.sqrt(metrics.mean_squared_error(y_r_test, y_r_pred_ridge))\n",
    "    RWine_ridge.loc[k] = ['red',alpha[i],RMSE]\n",
    "    k+=1\n",
    "RWine_ridge"
   ]
  },
  {
   "cell_type": "markdown",
   "metadata": {},
   "source": [
    "Let's see the coeficients in comparisson with the linear model:"
   ]
  },
  {
   "cell_type": "code",
   "execution_count": 137,
   "metadata": {
    "scrolled": true
   },
   "outputs": [
    {
     "data": {
      "text/html": [
       "<div>\n",
       "<style scoped>\n",
       "    .dataframe tbody tr th:only-of-type {\n",
       "        vertical-align: middle;\n",
       "    }\n",
       "\n",
       "    .dataframe tbody tr th {\n",
       "        vertical-align: top;\n",
       "    }\n",
       "\n",
       "    .dataframe thead th {\n",
       "        text-align: right;\n",
       "    }\n",
       "</style>\n",
       "<table border=\"1\" class=\"dataframe\">\n",
       "  <thead>\n",
       "    <tr style=\"text-align: right;\">\n",
       "      <th></th>\n",
       "      <th>fixed acidity</th>\n",
       "      <th>volatile acidity</th>\n",
       "      <th>citric acid</th>\n",
       "      <th>residual sugar</th>\n",
       "      <th>chlorides</th>\n",
       "      <th>free sulfur dioxide</th>\n",
       "      <th>total sulfur dioxide</th>\n",
       "      <th>density</th>\n",
       "      <th>pH</th>\n",
       "      <th>sulphates</th>\n",
       "      <th>alcohol</th>\n",
       "      <th>intercept</th>\n",
       "    </tr>\n",
       "  </thead>\n",
       "  <tbody>\n",
       "    <tr>\n",
       "      <th>Linear</th>\n",
       "      <td>0.032937</td>\n",
       "      <td>-0.032937</td>\n",
       "      <td>0.010996</td>\n",
       "      <td>0.110980</td>\n",
       "      <td>-0.021072</td>\n",
       "      <td>-0.005555</td>\n",
       "      <td>-0.044380</td>\n",
       "      <td>-0.103503</td>\n",
       "      <td>-0.013213</td>\n",
       "      <td>0.047863</td>\n",
       "      <td>0.088984</td>\n",
       "      <td>0.214975</td>\n",
       "    </tr>\n",
       "    <tr>\n",
       "      <th>Ridge</th>\n",
       "      <td>0.009343</td>\n",
       "      <td>-0.025694</td>\n",
       "      <td>0.014955</td>\n",
       "      <td>0.033297</td>\n",
       "      <td>-0.010713</td>\n",
       "      <td>-0.009869</td>\n",
       "      <td>-0.027269</td>\n",
       "      <td>-0.039364</td>\n",
       "      <td>-0.008602</td>\n",
       "      <td>0.023250</td>\n",
       "      <td>0.059448</td>\n",
       "      <td>0.161555</td>\n",
       "    </tr>\n",
       "  </tbody>\n",
       "</table>\n",
       "</div>"
      ],
      "text/plain": [
       "        fixed acidity  volatile acidity  citric acid  residual sugar  \\\n",
       "Linear       0.032937         -0.032937     0.010996        0.110980   \n",
       "Ridge        0.009343         -0.025694     0.014955        0.033297   \n",
       "\n",
       "        chlorides  free sulfur dioxide  total sulfur dioxide   density  \\\n",
       "Linear  -0.021072            -0.005555             -0.044380 -0.103503   \n",
       "Ridge   -0.010713            -0.009869             -0.027269 -0.039364   \n",
       "\n",
       "              pH  sulphates   alcohol  intercept  \n",
       "Linear -0.013213   0.047863  0.088984   0.214975  \n",
       "Ridge  -0.008602   0.023250  0.059448   0.161555  "
      ]
     },
     "execution_count": 137,
     "metadata": {},
     "output_type": "execute_result"
    }
   ],
   "source": [
    "RW_Coef.loc[1]=np.append(Rridgereg.coef_, Rridgereg.intercept_)\n",
    "RW_Coef.rename(index={0:'Linear', 1:'Ridge'}, inplace=True)\n",
    "RW_Coef"
   ]
  },
  {
   "cell_type": "markdown",
   "metadata": {},
   "source": [
    "In this case, as the above case, the coeficients has changed its weights too."
   ]
  },
  {
   "cell_type": "markdown",
   "metadata": {
    "colab_type": "text",
    "id": "bYqynYVpEX-t"
   },
   "source": [
    "# Exercise 6.8\n",
    "\n",
    "* Estimate a lasso regression with alpha equals 0.01, 0.1 and 1.\n",
    "* Compare the coefficients with the linear regression\n",
    "* Evaluate the RMSE"
   ]
  },
  {
   "cell_type": "code",
   "execution_count": 138,
   "metadata": {
    "colab": {},
    "colab_type": "code",
    "id": "c4UTwZYWEX-t"
   },
   "outputs": [],
   "source": [
    "from sklearn.linear_model import Lasso"
   ]
  },
  {
   "cell_type": "code",
   "execution_count": 139,
   "metadata": {
    "scrolled": true
   },
   "outputs": [
    {
     "data": {
      "text/html": [
       "<div>\n",
       "<style scoped>\n",
       "    .dataframe tbody tr th:only-of-type {\n",
       "        vertical-align: middle;\n",
       "    }\n",
       "\n",
       "    .dataframe tbody tr th {\n",
       "        vertical-align: top;\n",
       "    }\n",
       "\n",
       "    .dataframe thead th {\n",
       "        text-align: right;\n",
       "    }\n",
       "</style>\n",
       "<table border=\"1\" class=\"dataframe\">\n",
       "  <thead>\n",
       "    <tr style=\"text-align: right;\">\n",
       "      <th></th>\n",
       "      <th>wine</th>\n",
       "      <th>alpha</th>\n",
       "      <th>RMSE</th>\n",
       "    </tr>\n",
       "  </thead>\n",
       "  <tbody>\n",
       "    <tr>\n",
       "      <th>0</th>\n",
       "      <td>white</td>\n",
       "      <td>0.01</td>\n",
       "      <td>0.408013</td>\n",
       "    </tr>\n",
       "    <tr>\n",
       "      <th>1</th>\n",
       "      <td>white</td>\n",
       "      <td>0.10</td>\n",
       "      <td>0.408013</td>\n",
       "    </tr>\n",
       "    <tr>\n",
       "      <th>2</th>\n",
       "      <td>white</td>\n",
       "      <td>1.00</td>\n",
       "      <td>0.408013</td>\n",
       "    </tr>\n",
       "  </tbody>\n",
       "</table>\n",
       "</div>"
      ],
      "text/plain": [
       "    wine  alpha      RMSE\n",
       "0  white   0.01  0.408013\n",
       "1  white   0.10  0.408013\n",
       "2  white   1.00  0.408013"
      ]
     },
     "execution_count": 139,
     "metadata": {},
     "output_type": "execute_result"
    }
   ],
   "source": [
    "#White Wine\n",
    "alpha=[0.01,0.1, 1]\n",
    "cols=['wine','alpha','RMSE']\n",
    "WWine_lasso=pd.DataFrame(columns=cols,data=[])\n",
    "k=0\n",
    "for i in range(len(alpha)):\n",
    "    Wlassoreg = Lasso(alpha=alpha[i], normalize=True)\n",
    "    Wlassoreg.fit(X_w_train, y_w_train)\n",
    "    y_w_pred_lasso = Wlassoreg.predict(X_w_test)\n",
    "    RMSE=np.sqrt(metrics.mean_squared_error(y_w_test, y_w_pred_lasso))\n",
    "    WWine_lasso.loc[k] = ['white',alpha[i],RMSE]\n",
    "    k+=1\n",
    "WWine_lasso"
   ]
  },
  {
   "cell_type": "markdown",
   "metadata": {},
   "source": [
    "Let's see the coeficients in comparisson with the linear model:"
   ]
  },
  {
   "cell_type": "code",
   "execution_count": 140,
   "metadata": {
    "scrolled": false
   },
   "outputs": [
    {
     "data": {
      "text/html": [
       "<div>\n",
       "<style scoped>\n",
       "    .dataframe tbody tr th:only-of-type {\n",
       "        vertical-align: middle;\n",
       "    }\n",
       "\n",
       "    .dataframe tbody tr th {\n",
       "        vertical-align: top;\n",
       "    }\n",
       "\n",
       "    .dataframe thead th {\n",
       "        text-align: right;\n",
       "    }\n",
       "</style>\n",
       "<table border=\"1\" class=\"dataframe\">\n",
       "  <thead>\n",
       "    <tr style=\"text-align: right;\">\n",
       "      <th></th>\n",
       "      <th>fixed acidity</th>\n",
       "      <th>volatile acidity</th>\n",
       "      <th>citric acid</th>\n",
       "      <th>residual sugar</th>\n",
       "      <th>chlorides</th>\n",
       "      <th>free sulfur dioxide</th>\n",
       "      <th>total sulfur dioxide</th>\n",
       "      <th>density</th>\n",
       "      <th>pH</th>\n",
       "      <th>sulphates</th>\n",
       "      <th>alcohol</th>\n",
       "      <th>intercept</th>\n",
       "    </tr>\n",
       "  </thead>\n",
       "  <tbody>\n",
       "    <tr>\n",
       "      <th>LOGIT</th>\n",
       "      <td>0.072709</td>\n",
       "      <td>-0.054722</td>\n",
       "      <td>-0.009723</td>\n",
       "      <td>0.145427</td>\n",
       "      <td>-0.010071</td>\n",
       "      <td>0.020614</td>\n",
       "      <td>-0.007790</td>\n",
       "      <td>-0.191081</td>\n",
       "      <td>0.056387</td>\n",
       "      <td>0.041558</td>\n",
       "      <td>0.080375</td>\n",
       "      <td>0.163811</td>\n",
       "    </tr>\n",
       "    <tr>\n",
       "      <th>Ridge</th>\n",
       "      <td>-0.003179</td>\n",
       "      <td>-0.024650</td>\n",
       "      <td>-0.001762</td>\n",
       "      <td>0.006443</td>\n",
       "      <td>-0.033377</td>\n",
       "      <td>0.009668</td>\n",
       "      <td>-0.017393</td>\n",
       "      <td>-0.030119</td>\n",
       "      <td>0.013670</td>\n",
       "      <td>0.015197</td>\n",
       "      <td>0.061974</td>\n",
       "      <td>0.201100</td>\n",
       "    </tr>\n",
       "    <tr>\n",
       "      <th>Lasso</th>\n",
       "      <td>-0.000000</td>\n",
       "      <td>-0.000000</td>\n",
       "      <td>-0.000000</td>\n",
       "      <td>-0.000000</td>\n",
       "      <td>-0.000000</td>\n",
       "      <td>-0.000000</td>\n",
       "      <td>-0.000000</td>\n",
       "      <td>-0.000000</td>\n",
       "      <td>0.000000</td>\n",
       "      <td>0.000000</td>\n",
       "      <td>0.000000</td>\n",
       "      <td>0.218786</td>\n",
       "    </tr>\n",
       "  </tbody>\n",
       "</table>\n",
       "</div>"
      ],
      "text/plain": [
       "       fixed acidity  volatile acidity  citric acid  residual sugar  \\\n",
       "LOGIT       0.072709         -0.054722    -0.009723        0.145427   \n",
       "Ridge      -0.003179         -0.024650    -0.001762        0.006443   \n",
       "Lasso      -0.000000         -0.000000    -0.000000       -0.000000   \n",
       "\n",
       "       chlorides  free sulfur dioxide  total sulfur dioxide   density  \\\n",
       "LOGIT  -0.010071             0.020614             -0.007790 -0.191081   \n",
       "Ridge  -0.033377             0.009668             -0.017393 -0.030119   \n",
       "Lasso  -0.000000            -0.000000             -0.000000 -0.000000   \n",
       "\n",
       "             pH  sulphates   alcohol  intercept  \n",
       "LOGIT  0.056387   0.041558  0.080375   0.163811  \n",
       "Ridge  0.013670   0.015197  0.061974   0.201100  \n",
       "Lasso  0.000000   0.000000  0.000000   0.218786  "
      ]
     },
     "execution_count": 140,
     "metadata": {},
     "output_type": "execute_result"
    }
   ],
   "source": [
    "WW_Coef.loc['Lasso']=np.append(Wlassoreg.coef_, Wlassoreg.intercept_)\n",
    "WW_Coef"
   ]
  },
  {
   "cell_type": "markdown",
   "metadata": {},
   "source": [
    "In this case, the weigth of all features were eliminated, and just remain the intercept."
   ]
  },
  {
   "cell_type": "code",
   "execution_count": 141,
   "metadata": {},
   "outputs": [
    {
     "data": {
      "text/html": [
       "<div>\n",
       "<style scoped>\n",
       "    .dataframe tbody tr th:only-of-type {\n",
       "        vertical-align: middle;\n",
       "    }\n",
       "\n",
       "    .dataframe tbody tr th {\n",
       "        vertical-align: top;\n",
       "    }\n",
       "\n",
       "    .dataframe thead th {\n",
       "        text-align: right;\n",
       "    }\n",
       "</style>\n",
       "<table border=\"1\" class=\"dataframe\">\n",
       "  <thead>\n",
       "    <tr style=\"text-align: right;\">\n",
       "      <th></th>\n",
       "      <th>wine</th>\n",
       "      <th>alpha</th>\n",
       "      <th>RMSE</th>\n",
       "    </tr>\n",
       "  </thead>\n",
       "  <tbody>\n",
       "    <tr>\n",
       "      <th>0</th>\n",
       "      <td>white</td>\n",
       "      <td>0.01</td>\n",
       "      <td>0.355446</td>\n",
       "    </tr>\n",
       "    <tr>\n",
       "      <th>1</th>\n",
       "      <td>white</td>\n",
       "      <td>0.10</td>\n",
       "      <td>0.355446</td>\n",
       "    </tr>\n",
       "    <tr>\n",
       "      <th>2</th>\n",
       "      <td>white</td>\n",
       "      <td>1.00</td>\n",
       "      <td>0.355446</td>\n",
       "    </tr>\n",
       "  </tbody>\n",
       "</table>\n",
       "</div>"
      ],
      "text/plain": [
       "    wine  alpha      RMSE\n",
       "0  white   0.01  0.355446\n",
       "1  white   0.10  0.355446\n",
       "2  white   1.00  0.355446"
      ]
     },
     "execution_count": 141,
     "metadata": {},
     "output_type": "execute_result"
    }
   ],
   "source": [
    "#Red Wine\n",
    "alpha=[0.01,0.1, 1]\n",
    "cols=['wine','alpha','RMSE']\n",
    "RWine_lasso=pd.DataFrame(columns=cols,data=[])\n",
    "k=0\n",
    "for i in range(len(alpha)):\n",
    "    Rlassoreg = Lasso(alpha=alpha[i], normalize=True)\n",
    "    Rlassoreg.fit(X_r_train, y_r_train)\n",
    "    y_r_pred_lasso = Rlassoreg.predict(X_r_test)\n",
    "    RMSE=np.sqrt(metrics.mean_squared_error(y_r_test, y_r_pred_lasso))\n",
    "    RWine_lasso.loc[k] = ['white',alpha[i],RMSE]\n",
    "    k+=1\n",
    "RWine_lasso"
   ]
  },
  {
   "cell_type": "markdown",
   "metadata": {},
   "source": [
    "Let's see the coeficients in comparisson with the linear model:"
   ]
  },
  {
   "cell_type": "code",
   "execution_count": 142,
   "metadata": {
    "scrolled": true
   },
   "outputs": [
    {
     "data": {
      "text/html": [
       "<div>\n",
       "<style scoped>\n",
       "    .dataframe tbody tr th:only-of-type {\n",
       "        vertical-align: middle;\n",
       "    }\n",
       "\n",
       "    .dataframe tbody tr th {\n",
       "        vertical-align: top;\n",
       "    }\n",
       "\n",
       "    .dataframe thead th {\n",
       "        text-align: right;\n",
       "    }\n",
       "</style>\n",
       "<table border=\"1\" class=\"dataframe\">\n",
       "  <thead>\n",
       "    <tr style=\"text-align: right;\">\n",
       "      <th></th>\n",
       "      <th>fixed acidity</th>\n",
       "      <th>volatile acidity</th>\n",
       "      <th>citric acid</th>\n",
       "      <th>residual sugar</th>\n",
       "      <th>chlorides</th>\n",
       "      <th>free sulfur dioxide</th>\n",
       "      <th>total sulfur dioxide</th>\n",
       "      <th>density</th>\n",
       "      <th>pH</th>\n",
       "      <th>sulphates</th>\n",
       "      <th>alcohol</th>\n",
       "      <th>intercept</th>\n",
       "    </tr>\n",
       "  </thead>\n",
       "  <tbody>\n",
       "    <tr>\n",
       "      <th>Linear</th>\n",
       "      <td>0.032937</td>\n",
       "      <td>-0.032937</td>\n",
       "      <td>0.010996</td>\n",
       "      <td>0.110980</td>\n",
       "      <td>-0.021072</td>\n",
       "      <td>-0.005555</td>\n",
       "      <td>-0.044380</td>\n",
       "      <td>-0.103503</td>\n",
       "      <td>-0.013213</td>\n",
       "      <td>0.047863</td>\n",
       "      <td>0.088984</td>\n",
       "      <td>0.214975</td>\n",
       "    </tr>\n",
       "    <tr>\n",
       "      <th>Ridge</th>\n",
       "      <td>0.009343</td>\n",
       "      <td>-0.025694</td>\n",
       "      <td>0.014955</td>\n",
       "      <td>0.033297</td>\n",
       "      <td>-0.010713</td>\n",
       "      <td>-0.009869</td>\n",
       "      <td>-0.027269</td>\n",
       "      <td>-0.039364</td>\n",
       "      <td>-0.008602</td>\n",
       "      <td>0.023250</td>\n",
       "      <td>0.059448</td>\n",
       "      <td>0.161555</td>\n",
       "    </tr>\n",
       "    <tr>\n",
       "      <th>Lasso</th>\n",
       "      <td>0.000000</td>\n",
       "      <td>-0.000000</td>\n",
       "      <td>0.000000</td>\n",
       "      <td>0.000000</td>\n",
       "      <td>-0.000000</td>\n",
       "      <td>-0.000000</td>\n",
       "      <td>-0.000000</td>\n",
       "      <td>-0.000000</td>\n",
       "      <td>-0.000000</td>\n",
       "      <td>0.000000</td>\n",
       "      <td>0.000000</td>\n",
       "      <td>0.130474</td>\n",
       "    </tr>\n",
       "  </tbody>\n",
       "</table>\n",
       "</div>"
      ],
      "text/plain": [
       "        fixed acidity  volatile acidity  citric acid  residual sugar  \\\n",
       "Linear       0.032937         -0.032937     0.010996        0.110980   \n",
       "Ridge        0.009343         -0.025694     0.014955        0.033297   \n",
       "Lasso        0.000000         -0.000000     0.000000        0.000000   \n",
       "\n",
       "        chlorides  free sulfur dioxide  total sulfur dioxide   density  \\\n",
       "Linear  -0.021072            -0.005555             -0.044380 -0.103503   \n",
       "Ridge   -0.010713            -0.009869             -0.027269 -0.039364   \n",
       "Lasso   -0.000000            -0.000000             -0.000000 -0.000000   \n",
       "\n",
       "              pH  sulphates   alcohol  intercept  \n",
       "Linear -0.013213   0.047863  0.088984   0.214975  \n",
       "Ridge  -0.008602   0.023250  0.059448   0.161555  \n",
       "Lasso  -0.000000   0.000000  0.000000   0.130474  "
      ]
     },
     "execution_count": 142,
     "metadata": {},
     "output_type": "execute_result"
    }
   ],
   "source": [
    "RW_Coef.loc['Lasso']=np.append(Rlassoreg.coef_, Rlassoreg.intercept_)\n",
    "RW_Coef"
   ]
  },
  {
   "cell_type": "markdown",
   "metadata": {},
   "source": [
    "At the same of the white wine, for the red wine the weigth of all features were eliminated, and just remain the intercept."
   ]
  },
  {
   "cell_type": "markdown",
   "metadata": {
    "colab_type": "text",
    "id": "STOHmeO1EX-t"
   },
   "source": [
    "# Exercise 6.9\n",
    "\n",
    "* Create a binary target\n",
    "\n",
    "* Train a logistic regression to predict wine quality (binary)\n",
    "\n",
    "* Analyze the coefficients\n",
    "\n",
    "* Evaluate the f1score"
   ]
  },
  {
   "cell_type": "code",
   "execution_count": 143,
   "metadata": {
    "colab": {},
    "colab_type": "code",
    "id": "ujIiO5z7EX9-"
   },
   "outputs": [],
   "source": [
    "from sklearn.metrics import f1_score"
   ]
  },
  {
   "cell_type": "code",
   "execution_count": 144,
   "metadata": {
    "colab": {},
    "colab_type": "code",
    "id": "YeOqsN03EX-t"
   },
   "outputs": [
    {
     "data": {
      "text/plain": [
       "0.3722943722943723"
      ]
     },
     "execution_count": 144,
     "metadata": {},
     "output_type": "execute_result"
    }
   ],
   "source": [
    "#White wine\n",
    "logreg_w = LogisticRegression(solver='liblinear',C=1e9)\n",
    "logreg_w.fit(X_w_train, y_w_train)\n",
    "y_w_pred_log = logreg_w.predict(X_w_test)\n",
    "f1_score(y_w_test, y_w_pred_log)"
   ]
  },
  {
   "cell_type": "code",
   "execution_count": 145,
   "metadata": {},
   "outputs": [
    {
     "data": {
      "text/html": [
       "<div>\n",
       "<style scoped>\n",
       "    .dataframe tbody tr th:only-of-type {\n",
       "        vertical-align: middle;\n",
       "    }\n",
       "\n",
       "    .dataframe tbody tr th {\n",
       "        vertical-align: top;\n",
       "    }\n",
       "\n",
       "    .dataframe thead th {\n",
       "        text-align: right;\n",
       "    }\n",
       "</style>\n",
       "<table border=\"1\" class=\"dataframe\">\n",
       "  <thead>\n",
       "    <tr style=\"text-align: right;\">\n",
       "      <th></th>\n",
       "      <th>fixed acidity</th>\n",
       "      <th>volatile acidity</th>\n",
       "      <th>citric acid</th>\n",
       "      <th>residual sugar</th>\n",
       "      <th>chlorides</th>\n",
       "      <th>free sulfur dioxide</th>\n",
       "      <th>total sulfur dioxide</th>\n",
       "      <th>density</th>\n",
       "      <th>pH</th>\n",
       "      <th>sulphates</th>\n",
       "      <th>alcohol</th>\n",
       "      <th>intercept</th>\n",
       "    </tr>\n",
       "  </thead>\n",
       "  <tbody>\n",
       "    <tr>\n",
       "      <th>LOGIT</th>\n",
       "      <td>0.91437</td>\n",
       "      <td>-0.661451</td>\n",
       "      <td>-0.14661</td>\n",
       "      <td>1.524239</td>\n",
       "      <td>-0.453079</td>\n",
       "      <td>0.112133</td>\n",
       "      <td>0.066134</td>\n",
       "      <td>-2.198458</td>\n",
       "      <td>0.599085</td>\n",
       "      <td>0.337599</td>\n",
       "      <td>0.10023</td>\n",
       "      <td>-2.462115</td>\n",
       "    </tr>\n",
       "  </tbody>\n",
       "</table>\n",
       "</div>"
      ],
      "text/plain": [
       "       fixed acidity  volatile acidity  citric acid  residual sugar  \\\n",
       "LOGIT        0.91437         -0.661451     -0.14661        1.524239   \n",
       "\n",
       "       chlorides  free sulfur dioxide  total sulfur dioxide   density  \\\n",
       "LOGIT  -0.453079             0.112133              0.066134 -2.198458   \n",
       "\n",
       "             pH  sulphates  alcohol  intercept  \n",
       "LOGIT  0.599085   0.337599  0.10023  -2.462115  "
      ]
     },
     "execution_count": 145,
     "metadata": {},
     "output_type": "execute_result"
    }
   ],
   "source": [
    "WW_Coef_logit=pd.DataFrame(columns=X_w.columns,data=logreg_w.coef_)\n",
    "WW_Coef_logit['intercept']=logreg_w.intercept_\n",
    "WW_Coef_logit.rename(index={0:'LOGIT'}, inplace=True)\n",
    "WW_Coef_logit"
   ]
  },
  {
   "cell_type": "markdown",
   "metadata": {},
   "source": [
    "with the coeficients from the LOGIT regression, we can indicate tha for 1 unit increase on the some features, is associated with some increase or decrease in the logodds of quality2. The increase or decrease on the log-odss is the value of the each coeficient, positive is increase, negative is decrease. For example, one unir increase on chlorides, is associated with 0.42 units decreases on log-odds of quality2."
   ]
  },
  {
   "cell_type": "markdown",
   "metadata": {},
   "source": [
    "In the model for the white wine, for a zero value of all features, the log-odds is -2.43 units"
   ]
  },
  {
   "cell_type": "code",
   "execution_count": 146,
   "metadata": {},
   "outputs": [
    {
     "data": {
      "text/plain": [
       "0.43809523809523815"
      ]
     },
     "execution_count": 146,
     "metadata": {},
     "output_type": "execute_result"
    }
   ],
   "source": [
    "#Red wine\n",
    "logreg_r = LogisticRegression(solver='liblinear',C=1e9)\n",
    "logreg_r.fit(X_r_train, y_r_train)\n",
    "y_r_pred_log = logreg_r.predict(X_r_test)\n",
    "f1_score(y_r_test, y_r_pred_log)"
   ]
  },
  {
   "cell_type": "code",
   "execution_count": 147,
   "metadata": {},
   "outputs": [
    {
     "data": {
      "text/html": [
       "<div>\n",
       "<style scoped>\n",
       "    .dataframe tbody tr th:only-of-type {\n",
       "        vertical-align: middle;\n",
       "    }\n",
       "\n",
       "    .dataframe tbody tr th {\n",
       "        vertical-align: top;\n",
       "    }\n",
       "\n",
       "    .dataframe thead th {\n",
       "        text-align: right;\n",
       "    }\n",
       "</style>\n",
       "<table border=\"1\" class=\"dataframe\">\n",
       "  <thead>\n",
       "    <tr style=\"text-align: right;\">\n",
       "      <th></th>\n",
       "      <th>fixed acidity</th>\n",
       "      <th>volatile acidity</th>\n",
       "      <th>citric acid</th>\n",
       "      <th>residual sugar</th>\n",
       "      <th>chlorides</th>\n",
       "      <th>free sulfur dioxide</th>\n",
       "      <th>total sulfur dioxide</th>\n",
       "      <th>density</th>\n",
       "      <th>pH</th>\n",
       "      <th>sulphates</th>\n",
       "      <th>alcohol</th>\n",
       "      <th>intercept</th>\n",
       "    </tr>\n",
       "  </thead>\n",
       "  <tbody>\n",
       "    <tr>\n",
       "      <th>LOGIT</th>\n",
       "      <td>0.212329</td>\n",
       "      <td>-0.48528</td>\n",
       "      <td>0.039427</td>\n",
       "      <td>0.955224</td>\n",
       "      <td>-0.251318</td>\n",
       "      <td>0.264282</td>\n",
       "      <td>-1.086433</td>\n",
       "      <td>-0.651675</td>\n",
       "      <td>-0.16539</td>\n",
       "      <td>0.510715</td>\n",
       "      <td>0.898598</td>\n",
       "      <td>-2.573286</td>\n",
       "    </tr>\n",
       "  </tbody>\n",
       "</table>\n",
       "</div>"
      ],
      "text/plain": [
       "       fixed acidity  volatile acidity  citric acid  residual sugar  \\\n",
       "LOGIT       0.212329          -0.48528     0.039427        0.955224   \n",
       "\n",
       "       chlorides  free sulfur dioxide  total sulfur dioxide   density  \\\n",
       "LOGIT  -0.251318             0.264282             -1.086433 -0.651675   \n",
       "\n",
       "            pH  sulphates   alcohol  intercept  \n",
       "LOGIT -0.16539   0.510715  0.898598  -2.573286  "
      ]
     },
     "execution_count": 147,
     "metadata": {},
     "output_type": "execute_result"
    }
   ],
   "source": [
    "RW_Coef_logit=pd.DataFrame(columns=X_w.columns,data=logreg_r.coef_)\n",
    "RW_Coef_logit['intercept']=logreg_r.intercept_\n",
    "RW_Coef_logit.rename(index={0:'LOGIT'}, inplace=True)\n",
    "RW_Coef_logit"
   ]
  },
  {
   "cell_type": "markdown",
   "metadata": {},
   "source": [
    "The same conclusion of the white wine coeficients, but with differents values."
   ]
  },
  {
   "cell_type": "markdown",
   "metadata": {},
   "source": [
    "In the model for the red wine, for a zero value of all features, the log-odds is -2.33 units"
   ]
  },
  {
   "cell_type": "markdown",
   "metadata": {
    "colab_type": "text",
    "id": "8bzVsn7cEX-9"
   },
   "source": [
    "# Exercise 6.10\n",
    "\n",
    "* Estimate a regularized logistic regression using:\n",
    "* C = 0.01, 0.1 & 1.0\n",
    "* penalty = ['l1, 'l2']\n",
    "* Compare the coefficients and the f1score"
   ]
  },
  {
   "cell_type": "markdown",
   "metadata": {
    "colab_type": "text",
    "id": "7QkuOzkJEX-9"
   },
   "source": [
    "Usando regularización"
   ]
  },
  {
   "cell_type": "code",
   "execution_count": 148,
   "metadata": {
    "scrolled": false
   },
   "outputs": [
    {
     "data": {
      "text/html": [
       "<div>\n",
       "<style scoped>\n",
       "    .dataframe tbody tr th:only-of-type {\n",
       "        vertical-align: middle;\n",
       "    }\n",
       "\n",
       "    .dataframe tbody tr th {\n",
       "        vertical-align: top;\n",
       "    }\n",
       "\n",
       "    .dataframe thead th {\n",
       "        text-align: right;\n",
       "    }\n",
       "</style>\n",
       "<table border=\"1\" class=\"dataframe\">\n",
       "  <thead>\n",
       "    <tr style=\"text-align: right;\">\n",
       "      <th></th>\n",
       "      <th>wine</th>\n",
       "      <th>model</th>\n",
       "      <th>C</th>\n",
       "      <th>penalty</th>\n",
       "      <th>F1</th>\n",
       "    </tr>\n",
       "  </thead>\n",
       "  <tbody>\n",
       "    <tr>\n",
       "      <th>0</th>\n",
       "      <td>white</td>\n",
       "      <td>Regul0</td>\n",
       "      <td>0.01</td>\n",
       "      <td>l1</td>\n",
       "      <td>0.288557</td>\n",
       "    </tr>\n",
       "    <tr>\n",
       "      <th>1</th>\n",
       "      <td>white</td>\n",
       "      <td>Regul1</td>\n",
       "      <td>0.01</td>\n",
       "      <td>l2</td>\n",
       "      <td>0.372414</td>\n",
       "    </tr>\n",
       "    <tr>\n",
       "      <th>2</th>\n",
       "      <td>white</td>\n",
       "      <td>Regul2</td>\n",
       "      <td>0.10</td>\n",
       "      <td>l1</td>\n",
       "      <td>0.373576</td>\n",
       "    </tr>\n",
       "    <tr>\n",
       "      <th>3</th>\n",
       "      <td>white</td>\n",
       "      <td>Regul3</td>\n",
       "      <td>0.10</td>\n",
       "      <td>l2</td>\n",
       "      <td>0.380313</td>\n",
       "    </tr>\n",
       "    <tr>\n",
       "      <th>4</th>\n",
       "      <td>white</td>\n",
       "      <td>Regul4</td>\n",
       "      <td>1.00</td>\n",
       "      <td>l1</td>\n",
       "      <td>0.370370</td>\n",
       "    </tr>\n",
       "    <tr>\n",
       "      <th>5</th>\n",
       "      <td>white</td>\n",
       "      <td>Regul5</td>\n",
       "      <td>1.00</td>\n",
       "      <td>l2</td>\n",
       "      <td>0.370370</td>\n",
       "    </tr>\n",
       "  </tbody>\n",
       "</table>\n",
       "</div>"
      ],
      "text/plain": [
       "    wine   model     C penalty        F1\n",
       "0  white  Regul0  0.01      l1  0.288557\n",
       "1  white  Regul1  0.01      l2  0.372414\n",
       "2  white  Regul2  0.10      l1  0.373576\n",
       "3  white  Regul3  0.10      l2  0.380313\n",
       "4  white  Regul4  1.00      l1  0.370370\n",
       "5  white  Regul5  1.00      l2  0.370370"
      ]
     },
     "execution_count": 148,
     "metadata": {},
     "output_type": "execute_result"
    }
   ],
   "source": [
    "#White Wine\n",
    "C=[0.01,0.1, 1]\n",
    "penalty=['l1','l2']\n",
    "cols=['wine','model','C','penalty','F1']\n",
    "WWine_log_reg=pd.DataFrame(columns=cols,data=[])\n",
    "k=0\n",
    "for i in range(len(C)):\n",
    "    for j in range(len(penalty)):\n",
    "        W_log_reg = LogisticRegression(C=C[i], penalty=penalty[j],multi_class='ovr',solver='liblinear')\n",
    "        W_log_reg.fit(X_w_train, y_w_train)\n",
    "        y_w_log_pred_reg = W_log_reg.predict(X_w_test)\n",
    "        F1=f1_score(y_w_test, y_w_log_pred_reg)\n",
    "        WWine_log_reg.loc[k] = ['white','Regul'+str(k),C[i],penalty[j],F1]\n",
    "        #Coeficientes:\n",
    "        WW_Coef_logit.loc['Regul'+str(k)]=np.append(W_log_reg.coef_, W_log_reg.intercept_)\n",
    "        k+=1\n",
    "WWine_log_reg"
   ]
  },
  {
   "cell_type": "markdown",
   "metadata": {},
   "source": [
    "Let's see the coeficients in comparisson with the LOGIT model:"
   ]
  },
  {
   "cell_type": "code",
   "execution_count": 149,
   "metadata": {
    "scrolled": true
   },
   "outputs": [
    {
     "data": {
      "text/html": [
       "<div>\n",
       "<style scoped>\n",
       "    .dataframe tbody tr th:only-of-type {\n",
       "        vertical-align: middle;\n",
       "    }\n",
       "\n",
       "    .dataframe tbody tr th {\n",
       "        vertical-align: top;\n",
       "    }\n",
       "\n",
       "    .dataframe thead th {\n",
       "        text-align: right;\n",
       "    }\n",
       "</style>\n",
       "<table border=\"1\" class=\"dataframe\">\n",
       "  <thead>\n",
       "    <tr style=\"text-align: right;\">\n",
       "      <th></th>\n",
       "      <th>fixed acidity</th>\n",
       "      <th>volatile acidity</th>\n",
       "      <th>citric acid</th>\n",
       "      <th>residual sugar</th>\n",
       "      <th>chlorides</th>\n",
       "      <th>free sulfur dioxide</th>\n",
       "      <th>total sulfur dioxide</th>\n",
       "      <th>density</th>\n",
       "      <th>pH</th>\n",
       "      <th>sulphates</th>\n",
       "      <th>alcohol</th>\n",
       "      <th>intercept</th>\n",
       "    </tr>\n",
       "  </thead>\n",
       "  <tbody>\n",
       "    <tr>\n",
       "      <th>LOGIT</th>\n",
       "      <td>0.914370</td>\n",
       "      <td>-0.661451</td>\n",
       "      <td>-0.146610</td>\n",
       "      <td>1.524239</td>\n",
       "      <td>-0.453079</td>\n",
       "      <td>0.112133</td>\n",
       "      <td>0.066134</td>\n",
       "      <td>-2.198458</td>\n",
       "      <td>0.599085</td>\n",
       "      <td>0.337599</td>\n",
       "      <td>0.100230</td>\n",
       "      <td>-2.462115</td>\n",
       "    </tr>\n",
       "    <tr>\n",
       "      <th>Regul0</th>\n",
       "      <td>0.000000</td>\n",
       "      <td>0.000000</td>\n",
       "      <td>0.000000</td>\n",
       "      <td>0.000000</td>\n",
       "      <td>0.000000</td>\n",
       "      <td>0.000000</td>\n",
       "      <td>0.000000</td>\n",
       "      <td>0.000000</td>\n",
       "      <td>0.002689</td>\n",
       "      <td>0.000000</td>\n",
       "      <td>0.691441</td>\n",
       "      <td>-1.241031</td>\n",
       "    </tr>\n",
       "    <tr>\n",
       "      <th>Regul1</th>\n",
       "      <td>0.208936</td>\n",
       "      <td>-0.120429</td>\n",
       "      <td>-0.082256</td>\n",
       "      <td>0.143581</td>\n",
       "      <td>-0.072139</td>\n",
       "      <td>0.146348</td>\n",
       "      <td>-0.285397</td>\n",
       "      <td>-0.131126</td>\n",
       "      <td>0.210001</td>\n",
       "      <td>0.205028</td>\n",
       "      <td>0.653799</td>\n",
       "      <td>-1.146174</td>\n",
       "    </tr>\n",
       "    <tr>\n",
       "      <th>Regul2</th>\n",
       "      <td>0.195091</td>\n",
       "      <td>-0.530517</td>\n",
       "      <td>-0.084730</td>\n",
       "      <td>0.411666</td>\n",
       "      <td>-0.344650</td>\n",
       "      <td>0.118857</td>\n",
       "      <td>-0.037070</td>\n",
       "      <td>-0.381424</td>\n",
       "      <td>0.226430</td>\n",
       "      <td>0.184192</td>\n",
       "      <td>0.837774</td>\n",
       "      <td>-1.914513</td>\n",
       "    </tr>\n",
       "    <tr>\n",
       "      <th>Regul3</th>\n",
       "      <td>0.418267</td>\n",
       "      <td>-0.513190</td>\n",
       "      <td>-0.134636</td>\n",
       "      <td>0.632093</td>\n",
       "      <td>-0.354654</td>\n",
       "      <td>0.175149</td>\n",
       "      <td>-0.139755</td>\n",
       "      <td>-0.716784</td>\n",
       "      <td>0.335263</td>\n",
       "      <td>0.241598</td>\n",
       "      <td>0.679668</td>\n",
       "      <td>-1.897951</td>\n",
       "    </tr>\n",
       "    <tr>\n",
       "      <th>Regul4</th>\n",
       "      <td>0.826868</td>\n",
       "      <td>-0.641519</td>\n",
       "      <td>-0.138841</td>\n",
       "      <td>1.383533</td>\n",
       "      <td>-0.439354</td>\n",
       "      <td>0.121620</td>\n",
       "      <td>0.031716</td>\n",
       "      <td>-1.963287</td>\n",
       "      <td>0.554025</td>\n",
       "      <td>0.319214</td>\n",
       "      <td>0.192196</td>\n",
       "      <td>-2.381235</td>\n",
       "    </tr>\n",
       "    <tr>\n",
       "      <th>Regul5</th>\n",
       "      <td>0.781736</td>\n",
       "      <td>-0.641045</td>\n",
       "      <td>-0.145986</td>\n",
       "      <td>1.291913</td>\n",
       "      <td>-0.451629</td>\n",
       "      <td>0.128316</td>\n",
       "      <td>0.019076</td>\n",
       "      <td>-1.802408</td>\n",
       "      <td>0.529056</td>\n",
       "      <td>0.311626</td>\n",
       "      <td>0.264001</td>\n",
       "      <td>-2.340863</td>\n",
       "    </tr>\n",
       "  </tbody>\n",
       "</table>\n",
       "</div>"
      ],
      "text/plain": [
       "        fixed acidity  volatile acidity  citric acid  residual sugar  \\\n",
       "LOGIT        0.914370         -0.661451    -0.146610        1.524239   \n",
       "Regul0       0.000000          0.000000     0.000000        0.000000   \n",
       "Regul1       0.208936         -0.120429    -0.082256        0.143581   \n",
       "Regul2       0.195091         -0.530517    -0.084730        0.411666   \n",
       "Regul3       0.418267         -0.513190    -0.134636        0.632093   \n",
       "Regul4       0.826868         -0.641519    -0.138841        1.383533   \n",
       "Regul5       0.781736         -0.641045    -0.145986        1.291913   \n",
       "\n",
       "        chlorides  free sulfur dioxide  total sulfur dioxide   density  \\\n",
       "LOGIT   -0.453079             0.112133              0.066134 -2.198458   \n",
       "Regul0   0.000000             0.000000              0.000000  0.000000   \n",
       "Regul1  -0.072139             0.146348             -0.285397 -0.131126   \n",
       "Regul2  -0.344650             0.118857             -0.037070 -0.381424   \n",
       "Regul3  -0.354654             0.175149             -0.139755 -0.716784   \n",
       "Regul4  -0.439354             0.121620              0.031716 -1.963287   \n",
       "Regul5  -0.451629             0.128316              0.019076 -1.802408   \n",
       "\n",
       "              pH  sulphates   alcohol  intercept  \n",
       "LOGIT   0.599085   0.337599  0.100230  -2.462115  \n",
       "Regul0  0.002689   0.000000  0.691441  -1.241031  \n",
       "Regul1  0.210001   0.205028  0.653799  -1.146174  \n",
       "Regul2  0.226430   0.184192  0.837774  -1.914513  \n",
       "Regul3  0.335263   0.241598  0.679668  -1.897951  \n",
       "Regul4  0.554025   0.319214  0.192196  -2.381235  \n",
       "Regul5  0.529056   0.311626  0.264001  -2.340863  "
      ]
     },
     "execution_count": 149,
     "metadata": {},
     "output_type": "execute_result"
    }
   ],
   "source": [
    "WW_Coef_logit"
   ]
  },
  {
   "cell_type": "markdown",
   "metadata": {},
   "source": [
    "The case when parameters C=0.01 and penalty=l1, produce all features coeficients equal zero, except the intercept, but this cmbination have the worst f1 score. The others cases has variation on the coeficients."
   ]
  },
  {
   "cell_type": "code",
   "execution_count": 150,
   "metadata": {
    "scrolled": true
   },
   "outputs": [
    {
     "name": "stderr",
     "output_type": "stream",
     "text": [
      "C:\\Anaconda3\\lib\\site-packages\\sklearn\\metrics\\classification.py:1135: UndefinedMetricWarning: F-score is ill-defined and being set to 0.0 due to no predicted samples.\n",
      "  'precision', 'predicted', average, warn_for)\n"
     ]
    },
    {
     "data": {
      "text/html": [
       "<div>\n",
       "<style scoped>\n",
       "    .dataframe tbody tr th:only-of-type {\n",
       "        vertical-align: middle;\n",
       "    }\n",
       "\n",
       "    .dataframe tbody tr th {\n",
       "        vertical-align: top;\n",
       "    }\n",
       "\n",
       "    .dataframe thead th {\n",
       "        text-align: right;\n",
       "    }\n",
       "</style>\n",
       "<table border=\"1\" class=\"dataframe\">\n",
       "  <thead>\n",
       "    <tr style=\"text-align: right;\">\n",
       "      <th></th>\n",
       "      <th>wine</th>\n",
       "      <th>model</th>\n",
       "      <th>C</th>\n",
       "      <th>penalty</th>\n",
       "      <th>F1</th>\n",
       "    </tr>\n",
       "  </thead>\n",
       "  <tbody>\n",
       "    <tr>\n",
       "      <th>0</th>\n",
       "      <td>red</td>\n",
       "      <td>Regul0</td>\n",
       "      <td>0.01</td>\n",
       "      <td>l1</td>\n",
       "      <td>0.220000</td>\n",
       "    </tr>\n",
       "    <tr>\n",
       "      <th>1</th>\n",
       "      <td>red</td>\n",
       "      <td>Regul1</td>\n",
       "      <td>0.01</td>\n",
       "      <td>l2</td>\n",
       "      <td>0.522293</td>\n",
       "    </tr>\n",
       "    <tr>\n",
       "      <th>2</th>\n",
       "      <td>red</td>\n",
       "      <td>Regul2</td>\n",
       "      <td>0.10</td>\n",
       "      <td>l1</td>\n",
       "      <td>0.129870</td>\n",
       "    </tr>\n",
       "    <tr>\n",
       "      <th>3</th>\n",
       "      <td>red</td>\n",
       "      <td>Regul3</td>\n",
       "      <td>0.10</td>\n",
       "      <td>l2</td>\n",
       "      <td>0.128205</td>\n",
       "    </tr>\n",
       "    <tr>\n",
       "      <th>4</th>\n",
       "      <td>red</td>\n",
       "      <td>Regul4</td>\n",
       "      <td>1.00</td>\n",
       "      <td>l1</td>\n",
       "      <td>0.000000</td>\n",
       "    </tr>\n",
       "    <tr>\n",
       "      <th>5</th>\n",
       "      <td>red</td>\n",
       "      <td>Regul5</td>\n",
       "      <td>1.00</td>\n",
       "      <td>l2</td>\n",
       "      <td>0.000000</td>\n",
       "    </tr>\n",
       "  </tbody>\n",
       "</table>\n",
       "</div>"
      ],
      "text/plain": [
       "  wine   model     C penalty        F1\n",
       "0  red  Regul0  0.01      l1  0.220000\n",
       "1  red  Regul1  0.01      l2  0.522293\n",
       "2  red  Regul2  0.10      l1  0.129870\n",
       "3  red  Regul3  0.10      l2  0.128205\n",
       "4  red  Regul4  1.00      l1  0.000000\n",
       "5  red  Regul5  1.00      l2  0.000000"
      ]
     },
     "execution_count": 150,
     "metadata": {},
     "output_type": "execute_result"
    }
   ],
   "source": [
    "#Red Wine\n",
    "C=[0.01,0.1, 1]\n",
    "penalty=['l1','l2']\n",
    "cols=['wine','model','C','penalty','F1']\n",
    "RWine_log_reg=pd.DataFrame(columns=cols,data=[])\n",
    "k=0\n",
    "for i in range(len(C)):\n",
    "    for j in range(len(penalty)):\n",
    "        R_log_reg = LogisticRegression(C=C[i], penalty=penalty[j],multi_class='ovr',solver='liblinear')\n",
    "        R_log_reg.fit(X_w_train, y_w_train)\n",
    "        y_r_log_pred_reg = R_log_reg.predict(X_r_test)\n",
    "        F1=f1_score(y_r_test, y_r_log_pred_reg)\n",
    "        RWine_log_reg.loc[k] = ['red','Regul'+str(k),C[i],penalty[j],F1]\n",
    "        #Coeficientes:\n",
    "        RW_Coef_logit.loc['Regul'+str(k)]=np.append(R_log_reg.coef_, R_log_reg.intercept_)\n",
    "        k+=1\n",
    "RWine_log_reg"
   ]
  },
  {
   "cell_type": "markdown",
   "metadata": {},
   "source": [
    "Let's see the coeficients in comparisson with the LOGIT model:"
   ]
  },
  {
   "cell_type": "code",
   "execution_count": 151,
   "metadata": {
    "scrolled": true
   },
   "outputs": [
    {
     "data": {
      "text/html": [
       "<div>\n",
       "<style scoped>\n",
       "    .dataframe tbody tr th:only-of-type {\n",
       "        vertical-align: middle;\n",
       "    }\n",
       "\n",
       "    .dataframe tbody tr th {\n",
       "        vertical-align: top;\n",
       "    }\n",
       "\n",
       "    .dataframe thead th {\n",
       "        text-align: right;\n",
       "    }\n",
       "</style>\n",
       "<table border=\"1\" class=\"dataframe\">\n",
       "  <thead>\n",
       "    <tr style=\"text-align: right;\">\n",
       "      <th></th>\n",
       "      <th>fixed acidity</th>\n",
       "      <th>volatile acidity</th>\n",
       "      <th>citric acid</th>\n",
       "      <th>residual sugar</th>\n",
       "      <th>chlorides</th>\n",
       "      <th>free sulfur dioxide</th>\n",
       "      <th>total sulfur dioxide</th>\n",
       "      <th>density</th>\n",
       "      <th>pH</th>\n",
       "      <th>sulphates</th>\n",
       "      <th>alcohol</th>\n",
       "      <th>intercept</th>\n",
       "    </tr>\n",
       "  </thead>\n",
       "  <tbody>\n",
       "    <tr>\n",
       "      <th>LOGIT</th>\n",
       "      <td>0.212329</td>\n",
       "      <td>-0.485280</td>\n",
       "      <td>0.039427</td>\n",
       "      <td>0.955224</td>\n",
       "      <td>-0.251318</td>\n",
       "      <td>0.264282</td>\n",
       "      <td>-1.086433</td>\n",
       "      <td>-0.651675</td>\n",
       "      <td>-0.165390</td>\n",
       "      <td>0.510715</td>\n",
       "      <td>0.898598</td>\n",
       "      <td>-2.573286</td>\n",
       "    </tr>\n",
       "    <tr>\n",
       "      <th>Regul0</th>\n",
       "      <td>0.000000</td>\n",
       "      <td>0.000000</td>\n",
       "      <td>0.000000</td>\n",
       "      <td>0.000000</td>\n",
       "      <td>0.000000</td>\n",
       "      <td>0.000000</td>\n",
       "      <td>0.000000</td>\n",
       "      <td>0.000000</td>\n",
       "      <td>0.002714</td>\n",
       "      <td>0.000000</td>\n",
       "      <td>0.691398</td>\n",
       "      <td>-1.241013</td>\n",
       "    </tr>\n",
       "    <tr>\n",
       "      <th>Regul1</th>\n",
       "      <td>0.208936</td>\n",
       "      <td>-0.120429</td>\n",
       "      <td>-0.082256</td>\n",
       "      <td>0.143581</td>\n",
       "      <td>-0.072139</td>\n",
       "      <td>0.146348</td>\n",
       "      <td>-0.285397</td>\n",
       "      <td>-0.131126</td>\n",
       "      <td>0.210001</td>\n",
       "      <td>0.205028</td>\n",
       "      <td>0.653799</td>\n",
       "      <td>-1.146174</td>\n",
       "    </tr>\n",
       "    <tr>\n",
       "      <th>Regul2</th>\n",
       "      <td>0.195315</td>\n",
       "      <td>-0.530504</td>\n",
       "      <td>-0.084726</td>\n",
       "      <td>0.412042</td>\n",
       "      <td>-0.344648</td>\n",
       "      <td>0.118824</td>\n",
       "      <td>-0.037002</td>\n",
       "      <td>-0.382063</td>\n",
       "      <td>0.226547</td>\n",
       "      <td>0.184237</td>\n",
       "      <td>0.837483</td>\n",
       "      <td>-1.914657</td>\n",
       "    </tr>\n",
       "    <tr>\n",
       "      <th>Regul3</th>\n",
       "      <td>0.418267</td>\n",
       "      <td>-0.513190</td>\n",
       "      <td>-0.134636</td>\n",
       "      <td>0.632093</td>\n",
       "      <td>-0.354654</td>\n",
       "      <td>0.175149</td>\n",
       "      <td>-0.139755</td>\n",
       "      <td>-0.716784</td>\n",
       "      <td>0.335263</td>\n",
       "      <td>0.241598</td>\n",
       "      <td>0.679668</td>\n",
       "      <td>-1.897951</td>\n",
       "    </tr>\n",
       "    <tr>\n",
       "      <th>Regul4</th>\n",
       "      <td>0.827065</td>\n",
       "      <td>-0.641526</td>\n",
       "      <td>-0.138835</td>\n",
       "      <td>1.383894</td>\n",
       "      <td>-0.439420</td>\n",
       "      <td>0.121602</td>\n",
       "      <td>0.031774</td>\n",
       "      <td>-1.963888</td>\n",
       "      <td>0.554126</td>\n",
       "      <td>0.319272</td>\n",
       "      <td>0.191936</td>\n",
       "      <td>-2.381408</td>\n",
       "    </tr>\n",
       "    <tr>\n",
       "      <th>Regul5</th>\n",
       "      <td>0.781736</td>\n",
       "      <td>-0.641045</td>\n",
       "      <td>-0.145986</td>\n",
       "      <td>1.291913</td>\n",
       "      <td>-0.451629</td>\n",
       "      <td>0.128316</td>\n",
       "      <td>0.019076</td>\n",
       "      <td>-1.802408</td>\n",
       "      <td>0.529056</td>\n",
       "      <td>0.311626</td>\n",
       "      <td>0.264001</td>\n",
       "      <td>-2.340863</td>\n",
       "    </tr>\n",
       "  </tbody>\n",
       "</table>\n",
       "</div>"
      ],
      "text/plain": [
       "        fixed acidity  volatile acidity  citric acid  residual sugar  \\\n",
       "LOGIT        0.212329         -0.485280     0.039427        0.955224   \n",
       "Regul0       0.000000          0.000000     0.000000        0.000000   \n",
       "Regul1       0.208936         -0.120429    -0.082256        0.143581   \n",
       "Regul2       0.195315         -0.530504    -0.084726        0.412042   \n",
       "Regul3       0.418267         -0.513190    -0.134636        0.632093   \n",
       "Regul4       0.827065         -0.641526    -0.138835        1.383894   \n",
       "Regul5       0.781736         -0.641045    -0.145986        1.291913   \n",
       "\n",
       "        chlorides  free sulfur dioxide  total sulfur dioxide   density  \\\n",
       "LOGIT   -0.251318             0.264282             -1.086433 -0.651675   \n",
       "Regul0   0.000000             0.000000              0.000000  0.000000   \n",
       "Regul1  -0.072139             0.146348             -0.285397 -0.131126   \n",
       "Regul2  -0.344648             0.118824             -0.037002 -0.382063   \n",
       "Regul3  -0.354654             0.175149             -0.139755 -0.716784   \n",
       "Regul4  -0.439420             0.121602              0.031774 -1.963888   \n",
       "Regul5  -0.451629             0.128316              0.019076 -1.802408   \n",
       "\n",
       "              pH  sulphates   alcohol  intercept  \n",
       "LOGIT  -0.165390   0.510715  0.898598  -2.573286  \n",
       "Regul0  0.002714   0.000000  0.691398  -1.241013  \n",
       "Regul1  0.210001   0.205028  0.653799  -1.146174  \n",
       "Regul2  0.226547   0.184237  0.837483  -1.914657  \n",
       "Regul3  0.335263   0.241598  0.679668  -1.897951  \n",
       "Regul4  0.554126   0.319272  0.191936  -2.381408  \n",
       "Regul5  0.529056   0.311626  0.264001  -2.340863  "
      ]
     },
     "execution_count": 151,
     "metadata": {},
     "output_type": "execute_result"
    }
   ],
   "source": [
    "RW_Coef_logit"
   ]
  },
  {
   "cell_type": "markdown",
   "metadata": {},
   "source": [
    "For the red wine, the same combination of parameters of the white wine causes the all coeficients be zero, except the intercept, but the F1 isn't the worst, but neither is a good F1 score."
   ]
  }
 ],
 "metadata": {
  "colab": {
   "collapsed_sections": [
    "JnAbNRqvEX-t",
    "kVKDvGYxEX-t",
    "DIMlb1H_EX-t",
    "bYqynYVpEX-t",
    "STOHmeO1EX-t",
    "8bzVsn7cEX-9"
   ],
   "name": "Copia de E6-SVM&Regularization.ipynb",
   "provenance": [],
   "version": "0.3.2"
  },
  "kernelspec": {
   "display_name": "Python 3",
   "language": "python",
   "name": "python3"
  },
  "language_info": {
   "codemirror_mode": {
    "name": "ipython",
    "version": 3
   },
   "file_extension": ".py",
   "mimetype": "text/x-python",
   "name": "python",
   "nbconvert_exporter": "python",
   "pygments_lexer": "ipython3",
   "version": "3.6.5"
  }
 },
 "nbformat": 4,
 "nbformat_minor": 1
}
